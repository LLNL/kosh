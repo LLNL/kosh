{
 "cells": [
  {
   "cell_type": "markdown",
   "metadata": {},
   "source": [
    "# Reading Text Files\n",
    "\n",
    "In this notebook we show how to read text files that can be read by numpy's `loadtxt` function\n",
    "\n",
    "These are essentially column-based text files.\n",
    "\n",
    "The notebook will also show you how Kosh can help you by adding metadata onto the file which in turn will help the loader (and potentially the Kosh users to pinpoint the actual text file they need).\n",
    "\n",
    "## Reading in the whole text file\n",
    "\n",
    "We will be using the text files in [this directory](../tests/baselines/npy/)\n",
    "\n",
    "### Raw numpy"
   ]
  },
  {
   "cell_type": "code",
   "execution_count": 1,
   "metadata": {},
   "outputs": [
    {
     "name": "stdout",
     "output_type": "stream",
     "text": [
      "(25, 6)\n"
     ]
    }
   ],
   "source": [
    "import numpy\n",
    "\n",
    "filename = \"../tests/baselines/npy/example_columns_no_header.txt\"\n",
    "data = numpy.loadtxt(filename)\n",
    "print(data.shape)"
   ]
  },
  {
   "cell_type": "markdown",
   "metadata": {},
   "source": [
    "### Kosh\n",
    "\n",
    "Let's setup a Kosh store, create a dataset and associate this file. Numpy's `loadtxt` is used via the `numpy/txt` mime_type"
   ]
  },
  {
   "cell_type": "code",
   "execution_count": 2,
   "metadata": {},
   "outputs": [
    {
     "name": "stdout",
     "output_type": "stream",
     "text": [
      "Features: ['features']\n",
      "(25, 6)\n"
     ]
    }
   ],
   "source": [
    "import kosh\n",
    "\n",
    "store = kosh.connect(\"numpy_loadtxt.sql\", delete_all_contents=True)\n",
    "dataset = store.create(name=\"example1\")\n",
    "dataset.associate(filename, mime_type=\"numpy/txt\")\n",
    "print(\"Features:\", dataset.list_features())\n",
    "print(dataset[\"features\"][:].shape)"
   ]
  },
  {
   "cell_type": "markdown",
   "metadata": {},
   "source": [
    "## Slicing\n",
    "\n",
    "While it is nice be able to read the whole file it can be very time consuming if the file gets big, possibly not even fitting into memory.\n",
    "\n",
    "Kosh's loader can slice the data appropriately and read only the necessary part of the file. Solving these potential problems:"
   ]
  },
  {
   "cell_type": "code",
   "execution_count": 3,
   "metadata": {},
   "outputs": [
    {
     "name": "stdout",
     "output_type": "stream",
     "text": [
      "(2, 4)\n"
     ]
    }
   ],
   "source": [
    "print(dataset[\"features\"][2:4, 1:5].shape)"
   ]
  },
  {
   "cell_type": "markdown",
   "metadata": {},
   "source": [
    "## Header rows\n",
    "\n",
    "Now it is possible that the text files actually has a few header lines.\n",
    "\n",
    "A good example would be [example_non_hashed_header_rows.txt](../tests/baselines/npy/example_non_hashed_header_rows.txt)\n",
    "\n",
    "Now numpy's `loadtxt` cannot read the file as is (you could pass the skiprows keyword though):\n"
   ]
  },
  {
   "cell_type": "code",
   "execution_count": 4,
   "metadata": {},
   "outputs": [
    {
     "name": "stdout",
     "output_type": "stream",
     "text": [
      "Numpy cannot read this text file\n"
     ]
    }
   ],
   "source": [
    "filename = \"../tests/baselines/npy/example_non_hashed_header_rows.txt\"\n",
    "try:\n",
    "    data = numpy.loadtxt(filename)\n",
    "except ValueError:\n",
    "    print(\"Numpy cannot read this text file\")"
   ]
  },
  {
   "cell_type": "markdown",
   "metadata": {},
   "source": [
    "And similarly Kosh's loader won't be able to read as is:"
   ]
  },
  {
   "cell_type": "code",
   "execution_count": 5,
   "metadata": {},
   "outputs": [
    {
     "name": "stdout",
     "output_type": "stream",
     "text": [
      "Cannot read as is\n"
     ]
    }
   ],
   "source": [
    "dataset = store.create(name=\"example_headers_rows\")\n",
    "associated = dataset.associate(filename, mime_type=\"numpy/txt\", id_only=False)\n",
    "try:\n",
    "    print(dataset[\"features\"][:].shape)\n",
    "except ValueError:\n",
    "    print(\"Cannot read as is\")"
   ]
  },
  {
   "cell_type": "markdown",
   "metadata": {},
   "source": [
    "Fortunately we can add metadata on our kosh-associated object and inform the loader on what to do:"
   ]
  },
  {
   "cell_type": "code",
   "execution_count": 6,
   "metadata": {},
   "outputs": [
    {
     "name": "stdout",
     "output_type": "stream",
     "text": [
      "(25, 6)\n"
     ]
    }
   ],
   "source": [
    "associated.skiprows = 6\n",
    "print(dataset[\"features\"][:].shape)"
   ]
  },
  {
   "cell_type": "markdown",
   "metadata": {},
   "source": [
    "## Columns Headers\n",
    "\n",
    "It is quite frequent that one of the header rows contains the columns/names\n",
    "\n",
    "Let's add some metadata informing the loader which line contains the features."
   ]
  },
  {
   "cell_type": "code",
   "execution_count": 7,
   "metadata": {},
   "outputs": [
    {
     "name": "stdout",
     "output_type": "stream",
     "text": [
      "['time', 'zeros', 'ones', 'twos', 'threes', 'fours']\n"
     ]
    }
   ],
   "source": [
    "associated.features_line = 5\n",
    "# we'll need to clear the features cache\n",
    "print(dataset.list_features(use_cache=False))"
   ]
  },
  {
   "cell_type": "markdown",
   "metadata": {},
   "source": [
    "We can now access each feature/column separately, via their name. This can be useful if you're reading data from text files that are organized differently but contain the same column name."
   ]
  },
  {
   "cell_type": "code",
   "execution_count": 8,
   "metadata": {},
   "outputs": [
    {
     "name": "stdout",
     "output_type": "stream",
     "text": [
      "[0.65485361 0.04917816 0.20506388 0.24302516]\n"
     ]
    }
   ],
   "source": [
    "zeros = dataset[\"zeros\"][:4]\n",
    "print(zeros)"
   ]
  },
  {
   "cell_type": "markdown",
   "metadata": {},
   "source": [
    "In some cases the column headers can be separated via fixed width (causing two names to touch each other)\n",
    "\n",
    "For a good example would be: [../tests/baselines/npy/example_column_names_in_header_via_constant_width.txt](../tests/baselines/npy/example_column_names_in_header_via_constant_width.txt)"
   ]
  },
  {
   "cell_type": "code",
   "execution_count": 9,
   "metadata": {},
   "outputs": [
    {
     "name": "stdout",
     "output_type": "stream",
     "text": [
      "['time', 'zeros col', 'ones  col', 'twos col', 'threes col', 'fours']\n"
     ]
    }
   ],
   "source": [
    "filename = \"../tests/baselines/npy/example_column_names_in_header_via_constant_width.txt\"\n",
    "dataset = store.create(name=\"example_constant_width\")\n",
    "associated = dataset.associate(filename, mime_type=\"numpy/txt\", id_only=False)\n",
    "associated.skiprows=1\n",
    "associated.features_line=0\n",
    "associated.columns_width=10\n",
    "print(dataset.list_features())\n"
   ]
  }
 ],
 "metadata": {
  "kernelspec": {
   "display_name": "Kosh",
   "language": "python",
   "name": "kosh"
  },
  "language_info": {
   "codemirror_mode": {
    "name": "ipython",
    "version": 3
   },
   "file_extension": ".py",
   "mimetype": "text/x-python",
   "name": "python",
   "nbconvert_exporter": "python",
   "pygments_lexer": "ipython3",
   "version": "3.7.9"
  }
 },
 "nbformat": 4,
 "nbformat_minor": 4
}
