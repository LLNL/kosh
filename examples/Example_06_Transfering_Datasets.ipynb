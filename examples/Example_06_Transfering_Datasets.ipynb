{
 "cells": [
  {
   "cell_type": "markdown",
   "metadata": {},
   "source": [
    "# Moving Datasets Across Stores\n",
    "\n",
    "This notebook shows you how to move datasets from one (or many) store to (many) others.\n",
    "\n",
    "## Prep work"
   ]
  },
  {
   "cell_type": "code",
   "execution_count": 1,
   "metadata": {},
   "outputs": [],
   "source": [
    "from __future__ import print_function  # For Python 2 compatibility\n",
    "import kosh\n",
    "import os\n",
    "import random\n",
    "\n",
    "def prep_stores(source_name=\"my_source_store.sql\", dest_name=\"my_dest_store.sql\", data_dir=\"my_data_dir\"):\n",
    "    \"\"\"\n",
    "    This creates two new stores and adds a dataset with 3 associated files to it to the first store\"\n",
    "    \"\"\"\n",
    "    \n",
    "    try:\n",
    "        os.remove(source_name)\n",
    "    except:\n",
    "        pass\n",
    "    try:\n",
    "        os.remove(dest_name)\n",
    "    except:\n",
    "        pass\n",
    "    # Let's create a \"source\" and a \"destination\" store\n",
    "    source_store = kosh.create_new_db(source_name)\n",
    "    dest_store = kosh.create_new_db(dest_name)\n",
    "\n",
    "    # Let's create a dataset we'd like to transfer\n",
    "    ds = source_store.create(name=\"a_dataset\", metadata={\"int_attr\":1, \"float_attr\":2., \"str_attr\": \"string\"})\n",
    "    \n",
    "    # let's create some files to associate\n",
    "    # first a directory\n",
    "    try:\n",
    "        os.makedirs(data_dir)\n",
    "    except Exception:\n",
    "        pass\n",
    "    filenames = [\"a.txt\", \"b.txt\", \"c.py\"]\n",
    "    filenames = [os.path.join(data_dir, f) for f in filenames]\n",
    "    \n",
    "    ds.associate(filenames, \"test\")\n",
    "    for filename in filenames:\n",
    "        with open(filename, \"w\") as f:\n",
    "            print(\"some data\", file=f)\n",
    "            print(random.randint(0, 10000000), file=f)  # to ensure unique SHAs\n"
   ]
  },
  {
   "cell_type": "markdown",
   "metadata": {},
   "source": [
    "## All data resides on the same file system\n",
    "\n",
    "In this case a simple python Python script will suffice"
   ]
  },
  {
   "cell_type": "code",
   "execution_count": 2,
   "metadata": {
    "scrolled": true
   },
   "outputs": [
    {
     "name": "stdout",
     "output_type": "stream",
     "text": [
      "KOSH DATASET\n",
      "\tid: d5e29d3941e444789a96fb621f466280\n",
      "\tname:a_dataset\n",
      "\tcreator: cdoutrix\n",
      "\n",
      "--- Attributes ---\n",
      "\tcreator: cdoutrix\n",
      "\tfloat_attr: 2.0\n",
      "\tint_attr: 1\n",
      "\tname: a_dataset\n",
      "\tstr_attr: string\n",
      "--- Associated Data (3)---\n",
      "\tMime_type: test\n",
      "\t\t/g/g19/cdoutrix/git/kosh/examples/my_data_dir/a.txt ( 2a0f1640f59342c6b0c1f89e2889e8b6 )\n",
      "\t\t/g/g19/cdoutrix/git/kosh/examples/my_data_dir/b.txt ( 1d70c00db96440fe8ade9252f161df76 )\n",
      "\t\t/g/g19/cdoutrix/git/kosh/examples/my_data_dir/c.py ( 0f0041df119a4895a8e81dc2bfb890ff )\n",
      "\n"
     ]
    }
   ],
   "source": [
    "# Let's prepare the stores\n",
    "prep_stores()\n",
    "\n",
    "# Let's open our source store:\n",
    "my_store = kosh.KoshStore(\"my_source_store.sql\")\n",
    "\n",
    "#Let's open our target store\n",
    "target_store = kosh.KoshStore(\"my_dest_store.sql\")\n",
    "\n",
    "# Let's search for the dataset(s) of interest in the source\n",
    "datasets = my_store.search(name=\"a_dataset\")\n",
    "\n",
    "#And let's transfer\n",
    "for dataset in datasets:\n",
    "    target_store.import_dataset(dataset.export())\n",
    "    \n",
    "# Voila! Let's check\n",
    "\n",
    "print(target_store.search(name=\"a_dataset\")[0])\n",
    "\n"
   ]
  },
  {
   "cell_type": "markdown",
   "metadata": {},
   "source": [
    "## Data needs to be moved or copied.\n",
    "\n",
    "\n",
    "### On the same file system\n",
    "\n",
    "If you need to move some files simply use `kosh mv`\n",
    "\n",
    "Example: moving file.py to new_named_file.py\n",
    "\n",
    "```bash\n",
    "kosh mv --stores store1.sql --sources file.py --destination new_named_file.py\n",
    "```\n",
    "\n",
    "\n",
    "```\n",
    "usage: kosh mv --stores STORES [--destination-stores DESTINATION_STORES] --sources SOURCES [SOURCES ...]\n",
    "            [--dataset_record_type DATASET_RECORD_TYPE] [--dataset_matching_attributes DATASET_MATCHING_ATTRIBUTES]\n",
    "            --destination DESTINATION [--version]\n",
    "```\n",
    "\n",
    "You can also copy files to another place and store\n",
    "\n",
    "```bash\n",
    "kosh cp --stores store1.sql --sources file.py --destination new_named_file.py\n",
    "```\n",
    "\n",
    "```\n",
    "Usage: kosh cp --stores STORES [--destination-stores DESTINATION_STORES] --sources SOURCES [SOURCES ...]\n",
    "            [--dataset_record_type DATASET_RECORD_TYPE] [--dataset_matching_attributes DATASET_MATCHING_ATTRIBUTES]\n",
    "            --destination DESTINATION [--version]\n",
    "```\n",
    "\n",
    "\n",
    "Kosh should handle properly directories and patterns (*)\n",
    "\n",
    "### After the fact\n",
    "\n",
    "Ooops! You moved the files to a new place but forgot to do so via `kosh mv`\n",
    "\n",
    "Fear not! Kosh can probably help you fix your stores\n",
    "\n",
    "```\n",
    "usage: kosh reassociate --stores STORES --new_uris NEW_URIS [NEW_URIS ...] [--original_uris ORIGINAL_URIS [ORIGINAL_URIS ...]]\n",
    "            [--no_absolute_path]\n",
    "```\n",
    "\n",
    "\n",
    "#### Option 1: just point to the new files\n",
    "\n",
    "```bash\n",
    "kosh reassociate --stores store.sql --new_uris new_named_file.py\n",
    "```\n",
    "\n",
    "Kosh will compute the \"short sha\" on the target(s) and try to find a match.\n",
    "\n",
    "The *new_uris* can be a directory or pattern\n",
    "\n",
    "#### Option 2: Using the old name\n",
    "\n",
    "```bash\n",
    "kosh reassociate --stores store.sql --new_uris new_named_file.py --original_uris file.py\n",
    "```\n",
    "\n",
    "#### Option 3: I know the fast sha\n",
    "\n",
    "```bash\n",
    "kosh reassociate --stores store.sql --new_uris new_named_file.py --original_uris c6a15fa59ae2d070a88a6a96503543d4baeb8f381f247854ef04adb67f79d818\n",
    "```"
   ]
  },
  {
   "cell_type": "markdown",
   "metadata": {},
   "source": [
    "### Moving files across filesystem (remote host)\n",
    "\n",
    "Here we assume that we need to bring data from a remote machine\n",
    "\n",
    "Because Kosh will need to do a **LOT** of talking with the remote host\n",
    "it is preferable to setup an ssh agent so you do not need to type you password over and over\n",
    "\n",
    "Please [see this guide](https://docs.github.com/en/github/authenticating-to-github/generating-a-new-ssh-key-and-adding-it-to-the-ssh-agent) to setup yor keys and agent properly"
   ]
  },
  {
   "cell_type": "code",
   "execution_count": null,
   "metadata": {},
   "outputs": [],
   "source": [
    "# Let's ask for the password and setup ssh agent\n",
    "import getpass\n",
    "password = getpass.getpass()+\"\\n\"\n",
    "\n",
    "from subprocess import Popen, PIPE\n",
    "import shlex\n",
    "agent = Popen(\"ssh-agent\", stdin=PIPE, stdout=PIPE, stderr=PIPE)\n",
    "o,e = agent.communicate()\n",
    "for line in o.decode().split(\"\\n\"):\n",
    "    sp = line.split(\"=\")\n",
    "    if len(sp) > 1:\n",
    "        variable = sp[0]\n",
    "        value = sp[1].split(\";\")[0]\n",
    "        os.environ[variable] = value\n",
    "add = Popen(\"ssh-add\", stdin=PIPE, stdout=PIPE, stderr=PIPE)\n",
    "add.communicate(password.encode())"
   ]
  },
  {
   "cell_type": "code",
   "execution_count": 4,
   "metadata": {},
   "outputs": [],
   "source": [
    "# Let's prepare our data\n",
    "\n",
    "prep_stores()"
   ]
  },
  {
   "cell_type": "markdown",
   "metadata": {},
   "source": [
    "Now let's fake our \"remote host\""
   ]
  },
  {
   "cell_type": "code",
   "execution_count": 5,
   "metadata": {},
   "outputs": [],
   "source": [
    "import socket\n",
    "\n",
    "user = getpass.getuser()\n",
    "hostname = socket.gethostname()"
   ]
  },
  {
   "cell_type": "markdown",
   "metadata": {},
   "source": [
    "Ok all we need to do is to copy the data from the remote host to a new local directory"
   ]
  },
  {
   "cell_type": "code",
   "execution_count": 6,
   "metadata": {},
   "outputs": [],
   "source": [
    "# Let's cleanup first\n",
    "import shutil\n",
    "try:\n",
    "    shutil.rmtree(\"my_new_data_dir\")\n",
    "except:\n",
    "    pass\n",
    "os.makedirs(\"my_new_data_dir\")"
   ]
  },
  {
   "cell_type": "markdown",
   "metadata": {},
   "source": [
    "Let's build the command line to copy the data over"
   ]
  },
  {
   "cell_type": "code",
   "execution_count": 7,
   "metadata": {},
   "outputs": [
    {
     "name": "stdout",
     "output_type": "stream",
     "text": [
      "We will be executing:\n",
      "/g/g19/cdoutrix/miniconda3/envs/kosh/bin/kosh cp --stores my_source_store.sql --destination_stores my_dest_store.sql --sources cdoutrix@surface86:/g/g19/cdoutrix/git/kosh/examples/my_data_dir --destination my_new_data_dir\n"
     ]
    }
   ],
   "source": [
    "import sys\n",
    "cmd = \"{}/bin/kosh cp --stores my_source_store.sql --destination_stores my_dest_store.sql --sources {}@{}:{}/my_data_dir --destination my_new_data_dir\".format(sys.prefix, user, hostname, os.getcwd())\n",
    "print(\"We will be executing:\\n{}\".format(cmd))"
   ]
  },
  {
   "cell_type": "code",
   "execution_count": 8,
   "metadata": {},
   "outputs": [],
   "source": [
    "p = Popen(shlex.split(cmd), stdin=PIPE, stdout=PIPE, stderr=PIPE)\n",
    "o, e = p.communicate()"
   ]
  },
  {
   "cell_type": "code",
   "execution_count": 9,
   "metadata": {},
   "outputs": [
    {
     "name": "stdout",
     "output_type": "stream",
     "text": [
      "[<kosh.sina.core.KoshSinaDataset object at 0x2aaafbaa8470>]\n"
     ]
    }
   ],
   "source": [
    "# Now let's check our second store (on the remote) contains data\n",
    "remote_store = kosh.KoshStore(\"my_dest_store.sql\")\n",
    "print(remote_store.search())"
   ]
  },
  {
   "cell_type": "markdown",
   "metadata": {},
   "source": [
    "### Moving files across disconnected filesystems\n",
    "\n",
    "Let's assume you have a LOT of data, you need to move it to another computer but you have a **VERY** slow connection to the other computer. \n",
    "\n",
    "Using scp/rsync will take months and you can't wait.\n",
    "\n",
    "Kosh solution at this point is to `tar` your data on the original machine, manually transfer the data to the other machine (USB stick, DVD, etc...) and run tar again on the other end\n",
    "\n",
    "Kosh will look for the datasets referencing the files your tarring and add them to the tarball.\n",
    "\n",
    "When extracting Kosh will add these dataset (with the new local paths) to your destination store.\n",
    "\n",
    "The syntz is the same as your regular `tar` (you can pass any command accepted by `tar`) except you need to point to the kosh store and the tarball name must be specified via -f\n",
    "Example:\n",
    "\n",
    "```bash\n",
    "kosh tar cv --stores store1.sql store2.sql -f my_big_tar.tgz *.hdf5\n",
    "```\n",
    "\n",
    "Once one the destination machine you can do:\n",
    "\n",
    "```bash\n",
    "kosh tar cv --stores destination_store.sql -f my_big_tar.tgz\n",
    "```\n",
    "\n",
    "Your files are untarred and the dataset originally in store1 and store2 that pointed to these files are now in destination_store"
   ]
  }
 ],
 "metadata": {
  "kernelspec": {
   "display_name": "Kosh Environment",
   "language": "python",
   "name": "kosh"
  },
  "language_info": {
   "codemirror_mode": {
    "name": "ipython",
    "version": 3
   },
   "file_extension": ".py",
   "mimetype": "text/x-python",
   "name": "python",
   "nbconvert_exporter": "python",
   "pygments_lexer": "ipython3",
   "version": "3.6.5"
  }
 },
 "nbformat": 4,
 "nbformat_minor": 4
}
