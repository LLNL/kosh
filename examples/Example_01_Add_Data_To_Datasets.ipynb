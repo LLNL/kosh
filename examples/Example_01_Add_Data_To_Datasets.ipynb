{
 "cells": [
  {
   "cell_type": "markdown",
   "metadata": {},
   "source": [
    "# Adding Data To Datasets\n",
    "\n",
    "This tutorial is a sequel to [Tutorial 00](Example_00_Open_Store_And_Add_Datasets.ipynb#Connect-to-store-(using-sina-local-file)) which should have been successfully ran before this tutotrial.\n",
    "\n",
    "\n",
    "## Connect to store (using sina local file and asynchronous mode)\n"
   ]
  },
  {
   "cell_type": "code",
   "execution_count": 1,
   "metadata": {},
   "outputs": [],
   "source": [
    "from  kosh import connect\n",
    "import os\n",
    "\n",
    "# local tutorial sql file\n",
    "kosh_example_sql_file = \"kosh_example.sql\"\n",
    "\n",
    "# connect to store in asynchronous mode\n",
    "store = connect(kosh_example_sql_file)"
   ]
  },
  {
   "cell_type": "markdown",
   "metadata": {},
   "source": [
    "## Adding Files to Datasets\n",
    "\n",
    "Let's find datasets containing `param1`"
   ]
  },
  {
   "cell_type": "code",
   "execution_count": 2,
   "metadata": {},
   "outputs": [
    {
     "name": "stdout",
     "output_type": "stream",
     "text": [
      "125\n"
     ]
    }
   ],
   "source": [
    "from sina.utils import DataRange\n",
    "# We're setting a min value less than the known min, to ensure all dataset come back\n",
    "datasets = list(store.find(param1=DataRange(-1.e20)))\n",
    "print(len(datasets))"
   ]
  },
  {
   "cell_type": "markdown",
   "metadata": {},
   "source": [
    "Let's scan the directories and add relevant files to the datasets"
   ]
  },
  {
   "cell_type": "code",
   "execution_count": 3,
   "metadata": {},
   "outputs": [
    {
     "name": "stderr",
     "output_type": "stream",
     "text": [
      "/g/g19/cdoutrix/miniconda3/envs/kosh/lib/python3.7/site-packages/ipykernel_launcher.py:4: TqdmExperimentalWarning: Using `tqdm.autonotebook.tqdm` in notebook mode. Use `tqdm.tqdm` instead to force console mode (e.g. in jupyter console)\n",
      "  after removing the cwd from sys.path.\n"
     ]
    },
    {
     "data": {
      "application/vnd.jupyter.widget-view+json": {
       "model_id": "cfbe4aaa47964ba8b69aa9fd6f5d1088",
       "version_major": 2,
       "version_minor": 0
      },
      "text/plain": [
       "  0%|          | 0/10 [00:00<?, ?it/s]"
      ]
     },
     "metadata": {},
     "output_type": "display_data"
    }
   ],
   "source": [
    "import os\n",
    "import glob\n",
    "try:\n",
    "    from tqdm.autonotebook import tqdm\n",
    "except:\n",
    "    tqdm = list\n",
    "\n",
    "pth = \"sample_files\"\n",
    "pbar = tqdm(datasets[:10])\n",
    "for i, dataset in enumerate(pbar):\n",
    "    hdf5 = dataset.name+\".hdf5\"\n",
    "    if len(hdf5)>0:\n",
    "        try:\n",
    "            dataset.associate(os.path.join(pth,hdf5), mime_type=\"hdf5\")\n",
    "        except Exception:  # file already here\n",
    "            pass"
   ]
  },
  {
   "cell_type": "markdown",
   "metadata": {},
   "source": [
    "List ids of data URIs associated with this dataset"
   ]
  },
  {
   "cell_type": "code",
   "execution_count": 4,
   "metadata": {},
   "outputs": [
    {
     "data": {
      "text/plain": [
       "['cdbb55b450c24ab3b89acdebe129f1dc']"
      ]
     },
     "execution_count": 4,
     "metadata": {},
     "output_type": "execute_result"
    }
   ],
   "source": [
    "dataset._associated_data_"
   ]
  },
  {
   "cell_type": "markdown",
   "metadata": {},
   "source": [
    "Let's find datasets with data with mime type `hdf5`"
   ]
  },
  {
   "cell_type": "code",
   "execution_count": 5,
   "metadata": {},
   "outputs": [
    {
     "data": {
      "text/plain": [
       "<generator object KoshDataset.find at 0x2aaab42aa5d0>"
      ]
     },
     "execution_count": 5,
     "metadata": {},
     "output_type": "execute_result"
    }
   ],
   "source": [
    "dataset.find(mime_type=\"hdf5\")"
   ]
  },
  {
   "cell_type": "code",
   "execution_count": 6,
   "metadata": {},
   "outputs": [
    {
     "data": {
      "text/plain": [
       "'/g/g19/cdoutrix/git/kosh/examples/sample_files/run_013.hdf5'"
      ]
     },
     "execution_count": 6,
     "metadata": {},
     "output_type": "execute_result"
    }
   ],
   "source": [
    "file = store._load(dataset._associated_data_[0])\n",
    "file.uri"
   ]
  },
  {
   "cell_type": "code",
   "execution_count": 7,
   "metadata": {},
   "outputs": [
    {
     "data": {
      "text/plain": [
       "<HDF5 file \"run_013.hdf5\" (mode r)>"
      ]
     },
     "execution_count": 7,
     "metadata": {},
     "output_type": "execute_result"
    }
   ],
   "source": [
    "h5 = dataset.open(dataset._associated_data_[0])\n",
    "h5"
   ]
  },
  {
   "cell_type": "code",
   "execution_count": 8,
   "metadata": {},
   "outputs": [
    {
     "data": {
      "text/plain": [
       "<HDF5 file \"run_013.hdf5\" (mode r)>"
      ]
     },
     "execution_count": 8,
     "metadata": {},
     "output_type": "execute_result"
    }
   ],
   "source": [
    "h5 = store.open(dataset._associated_data_[0])\n",
    "h5"
   ]
  },
  {
   "cell_type": "code",
   "execution_count": 9,
   "metadata": {},
   "outputs": [
    {
     "data": {
      "text/plain": [
       "['cdbb55b450c24ab3b89acdebe129f1dc', 'ef211aa27d1b47069e542270fca2cf3b']"
      ]
     },
     "execution_count": 9,
     "metadata": {},
     "output_type": "execute_result"
    }
   ],
   "source": [
    "# You can associate many sources to a dataset\n",
    "dataset.associate(\"some_other_file\", mime_type=\"netcdf\")\n",
    "dataset._associated_data_"
   ]
  },
  {
   "cell_type": "code",
   "execution_count": 10,
   "metadata": {},
   "outputs": [
    {
     "data": {
      "text/plain": [
       "['cdbb55b450c24ab3b89acdebe129f1dc',\n",
       " 'ef211aa27d1b47069e542270fca2cf3b',\n",
       " '71c82980a00844cbbd283bd0b92d3ec3',\n",
       " '835b420fe92146e4bac0668d2c65c61f']"
      ]
     },
     "execution_count": 10,
     "metadata": {},
     "output_type": "execute_result"
    }
   ],
   "source": [
    "# Or many datasets at once\n",
    "dataset.associate([\"file2\", \"file3\"], mime_type=\"png\")\n",
    "dataset._associated_data_"
   ]
  },
  {
   "cell_type": "code",
   "execution_count": 11,
   "metadata": {},
   "outputs": [
    {
     "data": {
      "text/plain": [
       "['cdbb55b450c24ab3b89acdebe129f1dc',\n",
       " 'ef211aa27d1b47069e542270fca2cf3b',\n",
       " '71c82980a00844cbbd283bd0b92d3ec3',\n",
       " '835b420fe92146e4bac0668d2c65c61f',\n",
       " '5f1be0e9230f4e16990036f092e7b026',\n",
       " '854b7cf026fb4480a6981523bfabc995']"
      ]
     },
     "execution_count": 11,
     "metadata": {},
     "output_type": "execute_result"
    }
   ],
   "source": [
    "# They do NOT have to be of them type and/or metadata\n",
    "dataset.associate([\"file5\", \"file6\"], mime_type=[\"tiff\", \"jpg\"], metadata=[{\"name\":\"some\"}, {\"age\":21}])\n",
    "dataset._associated_data_"
   ]
  },
  {
   "cell_type": "markdown",
   "metadata": {},
   "source": [
    "## Removing associated data\n",
    "\n",
    "Sometimes you might need to remove an association this can be done via the `dissociate` command."
   ]
  },
  {
   "cell_type": "code",
   "execution_count": 12,
   "metadata": {},
   "outputs": [
    {
     "data": {
      "text/plain": [
       "['cdbb55b450c24ab3b89acdebe129f1dc',\n",
       " 'ef211aa27d1b47069e542270fca2cf3b',\n",
       " '71c82980a00844cbbd283bd0b92d3ec3',\n",
       " '835b420fe92146e4bac0668d2c65c61f',\n",
       " '854b7cf026fb4480a6981523bfabc995']"
      ]
     },
     "execution_count": 12,
     "metadata": {},
     "output_type": "execute_result"
    }
   ],
   "source": [
    "dataset.dissociate(\"file5\")\n",
    "dataset._associated_data_"
   ]
  }
 ],
 "metadata": {
  "kernelspec": {
   "display_name": "Kosh",
   "language": "python",
   "name": "kosh"
  },
  "language_info": {
   "codemirror_mode": {
    "name": "ipython",
    "version": 3
   },
   "file_extension": ".py",
   "mimetype": "text/x-python",
   "name": "python",
   "nbconvert_exporter": "python",
   "pygments_lexer": "ipython3",
   "version": "3.7.10"
  }
 },
 "nbformat": 4,
 "nbformat_minor": 4
}
