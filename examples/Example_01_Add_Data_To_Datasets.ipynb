{
 "cells": [
  {
   "cell_type": "markdown",
   "metadata": {},
   "source": [
    "# Adding Data To Datasets\n",
    "\n",
    "This tutorial is a sequel to [Tutorial 00](Example_00_Open_Store_And_Add_Datasets.ipynb#Connect-to-store-(using-sina-local-file)) which should have been successfully ran before this tutotrial.\n",
    "\n",
    "\n",
    "## Connect to store (using sina local file and asynchronous mode)\n"
   ]
  },
  {
   "cell_type": "code",
   "execution_count": 1,
   "metadata": {},
   "outputs": [],
   "source": [
    "from  kosh import KoshStore\n",
    "import os\n",
    "\n",
    "# local tutorial sql file\n",
    "kosh_example_sql_file = \"kosh_example.sql\"\n",
    "\n",
    "# connect to store in asynchronous mode\n",
    "store = KoshStore(db_uri=kosh_example_sql_file)"
   ]
  },
  {
   "cell_type": "markdown",
   "metadata": {},
   "source": [
    "## Adding Files to Datasets\n",
    "\n",
    "Let's search datasets containing param1"
   ]
  },
  {
   "cell_type": "code",
   "execution_count": 2,
   "metadata": {},
   "outputs": [
    {
     "name": "stderr",
     "output_type": "stream",
     "text": [
      "/g/g19/cdoutrix/miniconda3/envs/kosh/lib/python3.6/site-packages/kosh/sina/core.py:868: UserWarning: \n",
      "In the next version the search function will return a generator.\n",
      "You might need to wrap the result in a list.\n",
      "  \"\\nIn the next version the search function will return a generator.\\n\"\n"
     ]
    },
    {
     "name": "stdout",
     "output_type": "stream",
     "text": [
      "125\n"
     ]
    }
   ],
   "source": [
    "from sina.utils import DataRange\n",
    "# We're setting a min value less than the known min, to ensure all dataset come back\n",
    "datasets = store.search(param1=DataRange(-1.e20))\n",
    "print(len(datasets))"
   ]
  },
  {
   "cell_type": "markdown",
   "metadata": {},
   "source": [
    "Let's scan the directories and add relevant files to the datasets"
   ]
  },
  {
   "cell_type": "code",
   "execution_count": 3,
   "metadata": {},
   "outputs": [
    {
     "name": "stderr",
     "output_type": "stream",
     "text": [
      "/g/g19/cdoutrix/miniconda3/envs/kosh/lib/python3.6/site-packages/ipykernel_launcher.py:4: TqdmExperimentalWarning: Using `tqdm.autonotebook.tqdm` in notebook mode. Use `tqdm.tqdm` instead to force console mode (e.g. in jupyter console)\n",
      "  after removing the cwd from sys.path.\n"
     ]
    },
    {
     "data": {
      "application/vnd.jupyter.widget-view+json": {
       "model_id": "2eb65dec651e48a394737cc848f161cb",
       "version_major": 2,
       "version_minor": 0
      },
      "text/plain": [
       "HBox(children=(HTML(value=''), FloatProgress(value=0.0, max=10.0), HTML(value='')))"
      ]
     },
     "metadata": {},
     "output_type": "display_data"
    },
    {
     "name": "stdout",
     "output_type": "stream",
     "text": [
      "\n"
     ]
    }
   ],
   "source": [
    "import os\n",
    "import glob\n",
    "try:\n",
    "    from tqdm.autonotebook import tqdm\n",
    "except:\n",
    "    tqdm = list\n",
    "\n",
    "pth = \"sample_files\"\n",
    "pbar = tqdm(datasets[:10])\n",
    "for i, dataset in enumerate(pbar):\n",
    "    hdf5 = dataset.name+\".hdf5\"\n",
    "    if len(hdf5)>0:\n",
    "        try:\n",
    "            dataset.associate(os.path.join(pth,hdf5), mime_type=\"hdf5\")\n",
    "        except Exception:  # file already here\n",
    "            pass"
   ]
  },
  {
   "cell_type": "markdown",
   "metadata": {},
   "source": [
    "List ids of data URIs associated with this dataset"
   ]
  },
  {
   "cell_type": "code",
   "execution_count": 4,
   "metadata": {},
   "outputs": [
    {
     "data": {
      "text/plain": [
       "['24a71302fcc74659a23ee37aeb12ac45']"
      ]
     },
     "execution_count": 4,
     "metadata": {},
     "output_type": "execute_result"
    }
   ],
   "source": [
    "dataset._associated_data_"
   ]
  },
  {
   "cell_type": "markdown",
   "metadata": {},
   "source": [
    "Let's search this datasets for all data with mimetype `hdf5`"
   ]
  },
  {
   "cell_type": "code",
   "execution_count": 5,
   "metadata": {},
   "outputs": [
    {
     "name": "stderr",
     "output_type": "stream",
     "text": [
      "/g/g19/cdoutrix/miniconda3/envs/kosh/lib/python3.6/site-packages/kosh/sina/core.py:508: UserWarning: \n",
      "In the next version the search function will return a generator.\n",
      "You might need to wrap the result in a list.\n",
      "  \"\\nIn the next version the search function will return a generator.\\n\"\n"
     ]
    },
    {
     "data": {
      "text/plain": [
       "[<kosh.sina.core.KoshSinaFile at 0x2aaade427390>]"
      ]
     },
     "execution_count": 5,
     "metadata": {},
     "output_type": "execute_result"
    }
   ],
   "source": [
    "dataset.search(mime_type=\"hdf5\")"
   ]
  },
  {
   "cell_type": "code",
   "execution_count": 6,
   "metadata": {},
   "outputs": [
    {
     "data": {
      "text/plain": [
       "'/g/g19/cdoutrix/git/kosh/examples/sample_files/run_101.hdf5'"
      ]
     },
     "execution_count": 6,
     "metadata": {},
     "output_type": "execute_result"
    }
   ],
   "source": [
    "file = store._load(dataset._associated_data_[0])\n",
    "file.uri"
   ]
  },
  {
   "cell_type": "code",
   "execution_count": 7,
   "metadata": {},
   "outputs": [
    {
     "data": {
      "text/plain": [
       "<HDF5 file \"run_101.hdf5\" (mode r)>"
      ]
     },
     "execution_count": 7,
     "metadata": {},
     "output_type": "execute_result"
    }
   ],
   "source": [
    "h5 = dataset.open(dataset._associated_data_[0])\n",
    "h5"
   ]
  },
  {
   "cell_type": "code",
   "execution_count": 8,
   "metadata": {},
   "outputs": [
    {
     "data": {
      "text/plain": [
       "<HDF5 file \"run_101.hdf5\" (mode r)>"
      ]
     },
     "execution_count": 8,
     "metadata": {},
     "output_type": "execute_result"
    }
   ],
   "source": [
    "h5 = store.open(dataset._associated_data_[0])\n",
    "h5"
   ]
  },
  {
   "cell_type": "code",
   "execution_count": 9,
   "metadata": {},
   "outputs": [
    {
     "data": {
      "text/plain": [
       "['24a71302fcc74659a23ee37aeb12ac45', '1da40718ce664c858b6c8847d0b7b4ef']"
      ]
     },
     "execution_count": 9,
     "metadata": {},
     "output_type": "execute_result"
    }
   ],
   "source": [
    "# You can associate many sources to a dataset\n",
    "dataset.associate(\"some_other_file\", mime_type=\"netcdf\")\n",
    "dataset._associated_data_"
   ]
  },
  {
   "cell_type": "code",
   "execution_count": 10,
   "metadata": {},
   "outputs": [
    {
     "data": {
      "text/plain": [
       "['24a71302fcc74659a23ee37aeb12ac45',\n",
       " '1da40718ce664c858b6c8847d0b7b4ef',\n",
       " '33551cbbb4484e4ea387aa38e0226f82',\n",
       " '839056b962c64e77aade83026403e032']"
      ]
     },
     "execution_count": 10,
     "metadata": {},
     "output_type": "execute_result"
    }
   ],
   "source": [
    "# Or many datasets at once\n",
    "dataset.associate([\"file2\", \"file3\"], mime_type=\"png\")\n",
    "dataset._associated_data_"
   ]
  },
  {
   "cell_type": "code",
   "execution_count": 11,
   "metadata": {},
   "outputs": [
    {
     "data": {
      "text/plain": [
       "['24a71302fcc74659a23ee37aeb12ac45',\n",
       " '1da40718ce664c858b6c8847d0b7b4ef',\n",
       " '33551cbbb4484e4ea387aa38e0226f82',\n",
       " '839056b962c64e77aade83026403e032',\n",
       " 'ef8eb70322354e29917447829b5cd02a',\n",
       " '0f3b28c5c8ca44efbc453490c466a72f']"
      ]
     },
     "execution_count": 11,
     "metadata": {},
     "output_type": "execute_result"
    }
   ],
   "source": [
    "# They do NOT have to be of them type and/or metadata\n",
    "dataset.associate([\"file5\", \"file6\"], mime_type=[\"tiff\", \"jpg\"], metadata=[{\"name\":\"some\"}, {\"age\":21}])\n",
    "dataset._associated_data_"
   ]
  },
  {
   "cell_type": "markdown",
   "metadata": {},
   "source": [
    "## Removing associated data\n",
    "\n",
    "Sometimes you might need to remove an association this can be done via the `dissociate` command."
   ]
  },
  {
   "cell_type": "code",
   "execution_count": 12,
   "metadata": {},
   "outputs": [
    {
     "data": {
      "text/plain": [
       "['24a71302fcc74659a23ee37aeb12ac45',\n",
       " '1da40718ce664c858b6c8847d0b7b4ef',\n",
       " '33551cbbb4484e4ea387aa38e0226f82',\n",
       " '839056b962c64e77aade83026403e032',\n",
       " '0f3b28c5c8ca44efbc453490c466a72f']"
      ]
     },
     "execution_count": 12,
     "metadata": {},
     "output_type": "execute_result"
    }
   ],
   "source": [
    "dataset.dissociate(\"file5\")\n",
    "dataset._associated_data_"
   ]
  }
 ],
 "metadata": {
  "kernelspec": {
   "display_name": "Kosh Environment",
   "language": "python",
   "name": "kosh"
  },
  "language_info": {
   "codemirror_mode": {
    "name": "ipython",
    "version": 3
   },
   "file_extension": ".py",
   "mimetype": "text/x-python",
   "name": "python",
   "nbconvert_exporter": "python",
   "pygments_lexer": "ipython3",
   "version": "3.6.11"
  }
 },
 "nbformat": 4,
 "nbformat_minor": 4
}
