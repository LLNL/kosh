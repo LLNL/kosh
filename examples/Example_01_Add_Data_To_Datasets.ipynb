{
 "cells": [
  {
   "cell_type": "markdown",
   "metadata": {},
   "source": [
    "# Adding Data To Datasets\n",
    "\n",
    "This tutorial is a sequel to [Tutorial 00](Example_00_Open_Store_And_Add_Datasets.ipynb#Connect-to-store-(using-sina-local-file)) which should have been successfully ran before this tutotrial.\n",
    "\n",
    "\n",
    "## Connect to store (using sina local file and asynchronous mode)\n"
   ]
  },
  {
   "cell_type": "code",
   "execution_count": 1,
   "metadata": {},
   "outputs": [
    {
     "name": "stderr",
     "output_type": "stream",
     "text": [
      "/g/g19/cdoutrix/miniconda3/envs/kosh/lib/python3.8/site-packages/scipy/__init__.py:138: UserWarning: A NumPy version >=1.16.5 and <1.23.0 is required for this version of SciPy (detected version 1.23.3)\n",
      "  warnings.warn(f\"A NumPy version >={np_minversion} and <{np_maxversion} is required for this version of \"\n"
     ]
    }
   ],
   "source": [
    "from  kosh import connect\n",
    "import os\n",
    "\n",
    "# local tutorial sql file\n",
    "kosh_example_sql_file = \"kosh_example.sql\"\n",
    "\n",
    "# connect to store in asynchronous mode\n",
    "store = connect(kosh_example_sql_file)"
   ]
  },
  {
   "cell_type": "markdown",
   "metadata": {},
   "source": [
    "## Adding Files to Datasets\n",
    "\n",
    "Let's find datasets containing `param1`"
   ]
  },
  {
   "cell_type": "code",
   "execution_count": 2,
   "metadata": {},
   "outputs": [
    {
     "name": "stdout",
     "output_type": "stream",
     "text": [
      "125\n"
     ]
    }
   ],
   "source": [
    "from sina.utils import DataRange\n",
    "# We're setting a min value less than the known min, to ensure all dataset come back\n",
    "datasets = list(store.find(param1=DataRange(-1.e20)))\n",
    "print(len(datasets))"
   ]
  },
  {
   "cell_type": "markdown",
   "metadata": {},
   "source": [
    "Let's scan the directories and add relevant files to the datasets"
   ]
  },
  {
   "cell_type": "code",
   "execution_count": 3,
   "metadata": {},
   "outputs": [
    {
     "name": "stderr",
     "output_type": "stream",
     "text": [
      "/tmp/ipykernel_63859/1290189239.py:4: TqdmExperimentalWarning: Using `tqdm.autonotebook.tqdm` in notebook mode. Use `tqdm.tqdm` instead to force console mode (e.g. in jupyter console)\n",
      "  from tqdm.autonotebook import tqdm\n"
     ]
    },
    {
     "data": {
      "application/vnd.jupyter.widget-view+json": {
       "model_id": "60c8756373004ccebc7c787345b83c4f",
       "version_major": 2,
       "version_minor": 0
      },
      "text/plain": [
       "  0%|          | 0/10 [00:00<?, ?it/s]"
      ]
     },
     "metadata": {},
     "output_type": "display_data"
    }
   ],
   "source": [
    "import os\n",
    "import glob\n",
    "try:\n",
    "    from tqdm.autonotebook import tqdm\n",
    "except:\n",
    "    tqdm = list\n",
    "\n",
    "pth = \"sample_files\"\n",
    "pbar = tqdm(datasets[:10])\n",
    "for i, dataset in enumerate(pbar):\n",
    "    hdf5 = dataset.name+\".hdf5\"\n",
    "    if len(hdf5)>0:\n",
    "        try:\n",
    "            dataset.associate(os.path.join(pth,hdf5), mime_type=\"hdf5\")\n",
    "        except Exception:  # file already here\n",
    "            pass"
   ]
  },
  {
   "cell_type": "markdown",
   "metadata": {},
   "source": [
    "List ids of data URIs associated with this dataset"
   ]
  },
  {
   "cell_type": "code",
   "execution_count": 4,
   "metadata": {},
   "outputs": [
    {
     "data": {
      "text/plain": [
       "['71e0d881b0b744dcaf31915e2c71d968']"
      ]
     },
     "execution_count": 4,
     "metadata": {},
     "output_type": "execute_result"
    }
   ],
   "source": [
    "dataset._associated_data_"
   ]
  },
  {
   "cell_type": "markdown",
   "metadata": {},
   "source": [
    "Let's find datasets with data with mime type `hdf5`"
   ]
  },
  {
   "cell_type": "code",
   "execution_count": 5,
   "metadata": {},
   "outputs": [
    {
     "data": {
      "text/plain": [
       "<generator object KoshDataset.find at 0x2aaade1d34a0>"
      ]
     },
     "execution_count": 5,
     "metadata": {},
     "output_type": "execute_result"
    }
   ],
   "source": [
    "dataset.find(mime_type=\"hdf5\")"
   ]
  },
  {
   "cell_type": "code",
   "execution_count": 6,
   "metadata": {},
   "outputs": [
    {
     "data": {
      "text/plain": [
       "'/g/g19/cdoutrix/git/kosh/examples/sample_files/run_062.hdf5'"
      ]
     },
     "execution_count": 6,
     "metadata": {},
     "output_type": "execute_result"
    }
   ],
   "source": [
    "file = store._load(dataset._associated_data_[0])\n",
    "file.uri"
   ]
  },
  {
   "cell_type": "code",
   "execution_count": 7,
   "metadata": {},
   "outputs": [
    {
     "data": {
      "text/plain": [
       "<HDF5 file \"run_062.hdf5\" (mode r)>"
      ]
     },
     "execution_count": 7,
     "metadata": {},
     "output_type": "execute_result"
    }
   ],
   "source": [
    "h5 = dataset.open(dataset._associated_data_[0])\n",
    "h5"
   ]
  },
  {
   "cell_type": "code",
   "execution_count": 8,
   "metadata": {},
   "outputs": [
    {
     "data": {
      "text/plain": [
       "<HDF5 file \"run_062.hdf5\" (mode r)>"
      ]
     },
     "execution_count": 8,
     "metadata": {},
     "output_type": "execute_result"
    }
   ],
   "source": [
    "h5 = store.open(dataset._associated_data_[0])\n",
    "h5"
   ]
  },
  {
   "cell_type": "code",
   "execution_count": 9,
   "metadata": {},
   "outputs": [
    {
     "data": {
      "text/plain": [
       "['71e0d881b0b744dcaf31915e2c71d968', '2008fdac8cdb4a37976f65c3d6f34b15']"
      ]
     },
     "execution_count": 9,
     "metadata": {},
     "output_type": "execute_result"
    }
   ],
   "source": [
    "# You can associate many sources to a dataset\n",
    "dataset.associate(\"some_other_file\", mime_type=\"netcdf\")\n",
    "dataset._associated_data_"
   ]
  },
  {
   "cell_type": "code",
   "execution_count": 10,
   "metadata": {},
   "outputs": [
    {
     "data": {
      "text/plain": [
       "['71e0d881b0b744dcaf31915e2c71d968',\n",
       " '2008fdac8cdb4a37976f65c3d6f34b15',\n",
       " 'e466dd75d4e949c6b088c1f0f0e04449',\n",
       " '82225d89d283448183215aa8d742dd20']"
      ]
     },
     "execution_count": 10,
     "metadata": {},
     "output_type": "execute_result"
    }
   ],
   "source": [
    "# Or many datasets at once\n",
    "dataset.associate([\"file2\", \"file3\"], mime_type=\"png\")\n",
    "dataset._associated_data_"
   ]
  },
  {
   "cell_type": "code",
   "execution_count": 11,
   "metadata": {},
   "outputs": [
    {
     "data": {
      "text/plain": [
       "['71e0d881b0b744dcaf31915e2c71d968',\n",
       " '2008fdac8cdb4a37976f65c3d6f34b15',\n",
       " 'e466dd75d4e949c6b088c1f0f0e04449',\n",
       " '82225d89d283448183215aa8d742dd20',\n",
       " 'faa1d71f61644cc9835daf3f7927209f',\n",
       " '31fa0c4a5da04f6ba096f34ec86a93ab']"
      ]
     },
     "execution_count": 11,
     "metadata": {},
     "output_type": "execute_result"
    }
   ],
   "source": [
    "# They do NOT have to be of them type and/or metadata\n",
    "dataset.associate([\"file5\", \"file6\"], mime_type=[\"tiff\", \"jpg\"], metadata=[{\"name\":\"some\"}, {\"age\":21}])\n",
    "dataset._associated_data_"
   ]
  },
  {
   "cell_type": "markdown",
   "metadata": {},
   "source": [
    "## Removing associated files\n",
    "\n",
    "Sometimes you might need to remove an association this can be done via the `dissociate` command."
   ]
  },
  {
   "cell_type": "code",
   "execution_count": 12,
   "metadata": {},
   "outputs": [
    {
     "data": {
      "text/plain": [
       "['71e0d881b0b744dcaf31915e2c71d968',\n",
       " '2008fdac8cdb4a37976f65c3d6f34b15',\n",
       " 'e466dd75d4e949c6b088c1f0f0e04449',\n",
       " '82225d89d283448183215aa8d742dd20',\n",
       " '31fa0c4a5da04f6ba096f34ec86a93ab']"
      ]
     },
     "execution_count": 12,
     "metadata": {},
     "output_type": "execute_result"
    }
   ],
   "source": [
    "dataset.dissociate(\"file5\")\n",
    "dataset._associated_data_"
   ]
  },
  {
   "cell_type": "markdown",
   "metadata": {},
   "source": [
    "## Adding curves to a dataset\n",
    "\n",
    "Sometimes you don't need/want a file hanging around, you just want to save a curve (think 1D data)\n",
    "\n",
    "You can easily do so.\n",
    "\n",
    "You can organize/group your curve into different `curve_sets` and give them a name. If you don't, Kosh will name them automaticaly for you."
   ]
  },
  {
   "cell_type": "code",
   "execution_count": 13,
   "metadata": {},
   "outputs": [
    {
     "data": {
      "text/plain": [
       "KOSH DATASET\n",
       "\tid: 209c7382c1334ef4afe8fa95ef0cb58b\n",
       "\tname: run_062\n",
       "\tcreator: cdoutrix\n",
       "\n",
       "--- Attributes ---\n",
       "\tcreator: cdoutrix\n",
       "\tname: run_062\n",
       "\tparam1: 0.3299019516056123\n",
       "\tparam2: 0.24940142061599885\n",
       "\tparam3: 4.635686431066943\n",
       "\tparam4: 2.4118405159503844\n",
       "\tparam5: 2.21532924044391\n",
       "\tparam6: J\n",
       "\tproject: Kosh Tutorial\n",
       "--- Associated Data (6)---\n",
       "\tMime_type: hdf5\n",
       "\t\t/g/g19/cdoutrix/git/kosh/examples/sample_files/run_062.hdf5 ( 71e0d881b0b744dcaf31915e2c71d968 )\n",
       "\tMime_type: jpg\n",
       "\t\tfile6 ( 31fa0c4a5da04f6ba096f34ec86a93ab )\n",
       "\tMime_type: netcdf\n",
       "\t\tsome_other_file ( 2008fdac8cdb4a37976f65c3d6f34b15 )\n",
       "\tMime_type: png\n",
       "\t\tfile2 ( e466dd75d4e949c6b088c1f0f0e04449 )\n",
       "\t\tfile3 ( 82225d89d283448183215aa8d742dd20 )\n",
       "\tMime_type: sina/curve\n",
       "\t\tinternal ( my_curves, my_other_curves )\n",
       "--- Ensembles (0)---\n",
       "\t[]\n",
       "--- Ensemble Attributes ---\n"
      ]
     },
     "execution_count": 13,
     "metadata": {},
     "output_type": "execute_result"
    }
   ],
   "source": [
    "dataset.add_curve([1,2,3,4], \"time\", \"my_curves\")\n",
    "dataset.add_curve([2.3, 3.4, 5.6, 7.8], \"some_variable\", \"my_curves\")\n",
    "dataset.add_curve([3, 4,5], \"time\", \"my_other_curves\")\n",
    "dataset"
   ]
  },
  {
   "cell_type": "markdown",
   "metadata": {},
   "source": [
    "## Removing curves and curve_sets\n",
    "\n",
    "Similarly you can remove curves or curve_set (if a curve_set becomes empty it will be automatically removed)"
   ]
  },
  {
   "cell_type": "code",
   "execution_count": 14,
   "metadata": {},
   "outputs": [
    {
     "data": {
      "text/plain": [
       "KOSH DATASET\n",
       "\tid: 209c7382c1334ef4afe8fa95ef0cb58b\n",
       "\tname: run_062\n",
       "\tcreator: cdoutrix\n",
       "\n",
       "--- Attributes ---\n",
       "\tcreator: cdoutrix\n",
       "\tname: run_062\n",
       "\tparam1: 0.3299019516056123\n",
       "\tparam2: 0.24940142061599885\n",
       "\tparam3: 4.635686431066943\n",
       "\tparam4: 2.4118405159503844\n",
       "\tparam5: 2.21532924044391\n",
       "\tparam6: J\n",
       "\tproject: Kosh Tutorial\n",
       "--- Associated Data (6)---\n",
       "\tMime_type: hdf5\n",
       "\t\t/g/g19/cdoutrix/git/kosh/examples/sample_files/run_062.hdf5 ( 71e0d881b0b744dcaf31915e2c71d968 )\n",
       "\tMime_type: jpg\n",
       "\t\tfile6 ( 31fa0c4a5da04f6ba096f34ec86a93ab )\n",
       "\tMime_type: netcdf\n",
       "\t\tsome_other_file ( 2008fdac8cdb4a37976f65c3d6f34b15 )\n",
       "\tMime_type: png\n",
       "\t\tfile2 ( e466dd75d4e949c6b088c1f0f0e04449 )\n",
       "\t\tfile3 ( 82225d89d283448183215aa8d742dd20 )\n",
       "\tMime_type: sina/curve\n",
       "\t\tinternal ( my_other_curves )\n",
       "--- Ensembles (0)---\n",
       "\t[]\n",
       "--- Ensemble Attributes ---\n"
      ]
     },
     "execution_count": 14,
     "metadata": {},
     "output_type": "execute_result"
    }
   ],
   "source": [
    "dataset.remove_curve(\"some_variable\", \"my_curves\")\n",
    "# or\n",
    "dataset.remove_curve(\"my_curves/time\")\n",
    "\n",
    "# notice the \"my_curves\" is gone\n",
    "dataset"
   ]
  },
  {
   "cell_type": "code",
   "execution_count": 15,
   "metadata": {},
   "outputs": [
    {
     "data": {
      "text/plain": [
       "KOSH DATASET\n",
       "\tid: 209c7382c1334ef4afe8fa95ef0cb58b\n",
       "\tname: run_062\n",
       "\tcreator: cdoutrix\n",
       "\n",
       "--- Attributes ---\n",
       "\tcreator: cdoutrix\n",
       "\tname: run_062\n",
       "\tparam1: 0.3299019516056123\n",
       "\tparam2: 0.24940142061599885\n",
       "\tparam3: 4.635686431066943\n",
       "\tparam4: 2.4118405159503844\n",
       "\tparam5: 2.21532924044391\n",
       "\tparam6: J\n",
       "\tproject: Kosh Tutorial\n",
       "--- Associated Data (5)---\n",
       "\tMime_type: hdf5\n",
       "\t\t/g/g19/cdoutrix/git/kosh/examples/sample_files/run_062.hdf5 ( 71e0d881b0b744dcaf31915e2c71d968 )\n",
       "\tMime_type: jpg\n",
       "\t\tfile6 ( 31fa0c4a5da04f6ba096f34ec86a93ab )\n",
       "\tMime_type: netcdf\n",
       "\t\tsome_other_file ( 2008fdac8cdb4a37976f65c3d6f34b15 )\n",
       "\tMime_type: png\n",
       "\t\tfile2 ( e466dd75d4e949c6b088c1f0f0e04449 )\n",
       "\t\tfile3 ( 82225d89d283448183215aa8d742dd20 )\n",
       "--- Ensembles (0)---\n",
       "\t[]\n",
       "--- Ensemble Attributes ---\n"
      ]
     },
     "execution_count": 15,
     "metadata": {},
     "output_type": "execute_result"
    }
   ],
   "source": [
    "dataset.remove_curve(\"my_other_curves\")\n",
    "# all gone\n",
    "dataset"
   ]
  }
 ],
 "metadata": {
  "kernelspec": {
   "display_name": "Kosh Environment",
   "language": "python",
   "name": "kosh"
  },
  "language_info": {
   "codemirror_mode": {
    "name": "ipython",
    "version": 3
   },
   "file_extension": ".py",
   "mimetype": "text/x-python",
   "name": "python",
   "nbconvert_exporter": "python",
   "pygments_lexer": "ipython3",
   "version": "3.9.13"
  }
 },
 "nbformat": 4,
 "nbformat_minor": 4
}
