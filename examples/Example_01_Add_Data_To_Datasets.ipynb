{
 "cells": [
  {
   "cell_type": "markdown",
   "metadata": {},
   "source": [
    "# Adding Data To Datasets\n",
    "\n",
    "This tutorial is a sequel to [Tutorial 00](Example_00_Open_Store_And_Add_Datasets.ipynb#Connect-to-store-(using-sina-local-file)) which should have been successfully ran before this tutotrial.\n",
    "\n",
    "\n",
    "## Connect to store (using sina local file and asynchronous mode)\n"
   ]
  },
  {
   "cell_type": "code",
   "execution_count": 1,
   "metadata": {},
   "outputs": [],
   "source": [
    "from  kosh import KoshStore\n",
    "import os\n",
    "\n",
    "# local tutorial sql file\n",
    "kosh_example_sql_file = \"kosh_example.sql\"\n",
    "\n",
    "# connect to store in asynchronous mode\n",
    "store = KoshStore(db_uri=kosh_example_sql_file)"
   ]
  },
  {
   "cell_type": "markdown",
   "metadata": {},
   "source": [
    "## Adding Files to Datasets\n",
    "\n",
    "Let's search datasets containing param1"
   ]
  },
  {
   "cell_type": "code",
   "execution_count": 2,
   "metadata": {},
   "outputs": [
    {
     "name": "stdout",
     "output_type": "stream",
     "text": [
      "125\n"
     ]
    }
   ],
   "source": [
    "from sina.utils import DataRange\n",
    "# We're setting a min value less than the known min, to ensure all dataset come back\n",
    "datasets = store.search(param1=DataRange(-1.e20))\n",
    "print(len(datasets))"
   ]
  },
  {
   "cell_type": "markdown",
   "metadata": {},
   "source": [
    "Let's scan the directories and add relevant files to the datasets"
   ]
  },
  {
   "cell_type": "code",
   "execution_count": 3,
   "metadata": {},
   "outputs": [
    {
     "name": "stderr",
     "output_type": "stream",
     "text": [
      "/g/g19/cdoutrix/miniconda3/envs/kosh/lib/python3.6/site-packages/ipykernel_launcher.py:4: TqdmExperimentalWarning: Using `tqdm.autonotebook.tqdm` in notebook mode. Use `tqdm.tqdm` instead to force console mode (e.g. in jupyter console)\n",
      "  after removing the cwd from sys.path.\n"
     ]
    },
    {
     "data": {
      "application/vnd.jupyter.widget-view+json": {
       "model_id": "f9ef8b4b1c2f4ddeaba0ad6417d93fba",
       "version_major": 2,
       "version_minor": 0
      },
      "text/plain": [
       "HBox(children=(FloatProgress(value=0.0, max=10.0), HTML(value='')))"
      ]
     },
     "metadata": {},
     "output_type": "display_data"
    },
    {
     "name": "stdout",
     "output_type": "stream",
     "text": [
      "\n"
     ]
    }
   ],
   "source": [
    "import os\n",
    "import glob\n",
    "try:\n",
    "    from tqdm.autonotebook import tqdm\n",
    "except:\n",
    "    tqdm = list\n",
    "\n",
    "pth = \"sample_files\"\n",
    "pbar = tqdm(datasets[:10])\n",
    "for i, ds in enumerate(pbar):\n",
    "    hdf5 = ds.name+\".hdf5\"\n",
    "    if len(hdf5)>0:\n",
    "        try:\n",
    "            ds.associate(os.path.join(pth,hdf5), mime_type=\"hdf5\")\n",
    "        except Exception:  # file already here\n",
    "            pass"
   ]
  },
  {
   "cell_type": "markdown",
   "metadata": {},
   "source": [
    "List ids of data associated with this dataset"
   ]
  },
  {
   "cell_type": "code",
   "execution_count": 4,
   "metadata": {},
   "outputs": [
    {
     "data": {
      "text/plain": [
       "['b0cf3b20169940cba5a3bd327a644a57']"
      ]
     },
     "execution_count": 4,
     "metadata": {},
     "output_type": "execute_result"
    }
   ],
   "source": [
    "ds._associated_data_"
   ]
  },
  {
   "cell_type": "markdown",
   "metadata": {},
   "source": [
    "Let's search this datasets for all data with mimetype `hdf5`"
   ]
  },
  {
   "cell_type": "code",
   "execution_count": 5,
   "metadata": {},
   "outputs": [
    {
     "data": {
      "text/plain": [
       "[<kosh.sina.core.KoshSinaFile at 0x2aaaba1eb198>]"
      ]
     },
     "execution_count": 5,
     "metadata": {},
     "output_type": "execute_result"
    }
   ],
   "source": [
    "ds.search(mime_type=\"hdf5\")"
   ]
  },
  {
   "cell_type": "code",
   "execution_count": 6,
   "metadata": {},
   "outputs": [
    {
     "data": {
      "text/plain": [
       "'/g/g19/cdoutrix/git/kosh/examples/sample_files/run_120.hdf5'"
      ]
     },
     "execution_count": 6,
     "metadata": {},
     "output_type": "execute_result"
    }
   ],
   "source": [
    "file = store._load(ds._associated_data_[0])\n",
    "file.uri"
   ]
  },
  {
   "cell_type": "code",
   "execution_count": 7,
   "metadata": {},
   "outputs": [
    {
     "data": {
      "text/plain": [
       "<HDF5 file \"run_120.hdf5\" (mode r)>"
      ]
     },
     "execution_count": 7,
     "metadata": {},
     "output_type": "execute_result"
    }
   ],
   "source": [
    "h5 = ds.open(ds._associated_data_[0])\n",
    "h5"
   ]
  },
  {
   "cell_type": "code",
   "execution_count": 8,
   "metadata": {},
   "outputs": [
    {
     "data": {
      "text/plain": [
       "<HDF5 file \"run_120.hdf5\" (mode r)>"
      ]
     },
     "execution_count": 8,
     "metadata": {},
     "output_type": "execute_result"
    }
   ],
   "source": [
    "h5 = store.open(ds._associated_data_[0])\n",
    "h5"
   ]
  },
  {
   "cell_type": "code",
   "execution_count": 9,
   "metadata": {},
   "outputs": [
    {
     "data": {
      "text/plain": [
       "['b0cf3b20169940cba5a3bd327a644a57', '13670fe54a1d411bb31d145caf9e9cb9']"
      ]
     },
     "execution_count": 9,
     "metadata": {},
     "output_type": "execute_result"
    }
   ],
   "source": [
    "# You can assoviate many sources to a dataset\n",
    "ds.associate(\"some_other_file\", mime_type=\"netcdf\")\n",
    "ds._associated_data_"
   ]
  },
  {
   "cell_type": "code",
   "execution_count": 10,
   "metadata": {},
   "outputs": [
    {
     "data": {
      "text/plain": [
       "['b0cf3b20169940cba5a3bd327a644a57',\n",
       " '13670fe54a1d411bb31d145caf9e9cb9',\n",
       " 'b5a8a0b72ae24b9bb851a6711c82b9d5',\n",
       " '76f4291ac0a54a69b155466e83dc7107']"
      ]
     },
     "execution_count": 10,
     "metadata": {},
     "output_type": "execute_result"
    }
   ],
   "source": [
    "# Or many datasets at once\n",
    "ds.associate([\"file2\", \"file3\"], mime_type=\"png\")\n",
    "ds._associated_data_"
   ]
  },
  {
   "cell_type": "code",
   "execution_count": 11,
   "metadata": {},
   "outputs": [
    {
     "data": {
      "text/plain": [
       "['b0cf3b20169940cba5a3bd327a644a57',\n",
       " '13670fe54a1d411bb31d145caf9e9cb9',\n",
       " 'b5a8a0b72ae24b9bb851a6711c82b9d5',\n",
       " '76f4291ac0a54a69b155466e83dc7107',\n",
       " '64ab258277c7438c8cb53c8f2c9a73b1',\n",
       " '560ddce9881540a28c8730f9a9781407']"
      ]
     },
     "execution_count": 11,
     "metadata": {},
     "output_type": "execute_result"
    }
   ],
   "source": [
    "# They do have to be of them type and/or metadata\n",
    "ds.associate([\"file5\", \"file6\"], mime_type=[\"tiff\", \"jpg\"], metadata=[{\"name\":\"some\"}, {\"age\":21}])\n",
    "ds._associated_data_"
   ]
  }
 ],
 "metadata": {
  "kernelspec": {
   "display_name": "Kosh Environment",
   "language": "python",
   "name": "kosh"
  },
  "language_info": {
   "codemirror_mode": {
    "name": "ipython",
    "version": 3
   },
   "file_extension": ".py",
   "mimetype": "text/x-python",
   "name": "python",
   "nbconvert_exporter": "python",
   "pygments_lexer": "ipython3",
   "version": "3.6.5"
  }
 },
 "nbformat": 4,
 "nbformat_minor": 4
}
