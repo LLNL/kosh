{
 "cells": [
  {
   "cell_type": "markdown",
   "metadata": {},
   "source": [
    "# Working With datasets\n",
    "\n",
    "This tutorial is a sequel to [Tutorial 01](Example_01_Add_Data_To_Datasets.ipynb) which should have been successfully ran before this tutotrial.\n",
    "\n",
    "In this tutorial we will open a store, look for some datasets of interest, do some work and augment the metadata.\n",
    "\n",
    "\n",
    "## Connect to store (using sina local file)\n",
    "\n"
   ]
  },
  {
   "cell_type": "code",
   "execution_count": 1,
   "metadata": {},
   "outputs": [],
   "source": [
    "from  kosh import connect\n",
    "import os\n",
    "\n",
    "# local tutorial sql file\n",
    "kosh_example_sql_file = \"kosh_example.sql\"\n",
    "\n",
    "# connect to store\n",
    "store = connect(kosh_example_sql_file)"
   ]
  },
  {
   "cell_type": "markdown",
   "metadata": {},
   "source": [
    "## Looping through datasets\n",
    "\n",
    "Let's look for our \"Kosh Tutorial project\"-related datasets"
   ]
  },
  {
   "cell_type": "code",
   "execution_count": 2,
   "metadata": {},
   "outputs": [
    {
     "name": "stdout",
     "output_type": "stream",
     "text": [
      "We identified 125 possible datasets\n"
     ]
    }
   ],
   "source": [
    "datasets = list(store.find(project=\"Kosh Tutorial\"))\n",
    "print(\"We identified {} possible datasets\".format(len(datasets)))"
   ]
  },
  {
   "cell_type": "markdown",
   "metadata": {},
   "source": [
    "## Working with datasets and files.\n",
    "\n",
    "Now we are going to identify failed nodes and their failure cycles.\n"
   ]
  },
  {
   "cell_type": "code",
   "execution_count": 3,
   "metadata": {},
   "outputs": [
    {
     "name": "stderr",
     "output_type": "stream",
     "text": [
      "/g/g19/cdoutrix/miniconda3/envs/kosh/lib/python3.7/site-packages/ipykernel_launcher.py:4: TqdmExperimentalWarning: Using `tqdm.autonotebook.tqdm` in notebook mode. Use `tqdm.tqdm` instead to force console mode (e.g. in jupyter console)\n",
      "  after removing the cwd from sys.path.\n"
     ]
    }
   ],
   "source": [
    "import numpy\n",
    "import h5py\n",
    "try:\n",
    "    from tqdm.autonotebook import tqdm\n",
    "except ImportError:\n",
    "    tqdm = list\n",
    "import glob"
   ]
  },
  {
   "cell_type": "code",
   "execution_count": 4,
   "metadata": {},
   "outputs": [
    {
     "data": {
      "application/vnd.jupyter.widget-view+json": {
       "model_id": "49878570def64e95a78519f451077f43",
       "version_major": 2,
       "version_minor": 0
      },
      "text/plain": [
       "  0%|          | 0/125 [00:00<?, ?it/s]"
      ]
     },
     "metadata": {},
     "output_type": "display_data"
    }
   ],
   "source": [
    "import random\n",
    "\n",
    "def some_long_operation():\n",
    "    return bool(random.randint(0,1))\n",
    "\n",
    "pbar = tqdm(datasets)\n",
    "for dataset in pbar:\n",
    "    try: # only works for tqdm\n",
    "        pbar.set_postfix_str(ds.name)\n",
    "    except Exception:\n",
    "        pass\n",
    "    hdf5s = list(dataset.find(mime_type=\"hdf5\", ids_only=True))  # Get associated files ids that are mime_type hdf5\n",
    "    if len(hdf5s)>0:\n",
    "        h5 = store._load(hdf5s[0]) # load the hdf5 file Kosh object (because we used ids_only=True)\n",
    "        # Here we simulate some long operation that we would like to store in kosh\n",
    "        # rather than running every time\n",
    "        dataset.failed = some_long_operation()\n",
    "        h5file = h5.open(mode=\"r\")\n",
    "        # Store dimensions so we can search in Kosh\n",
    "        dataset.cycles = h5file[\"node\"][\"metrics_0\"].shape[0]\n",
    "        dataset.nodes = h5file[\"node\"][\"metrics_0\"].shape[1]\n"
   ]
  },
  {
   "cell_type": "code",
   "execution_count": 5,
   "metadata": {},
   "outputs": [
    {
     "name": "stdout",
     "output_type": "stream",
     "text": [
      "3\n"
     ]
    }
   ],
   "source": [
    "print(len(list(store.find(project=\"Kosh Tutorial\", failed=True))))"
   ]
  }
 ],
 "metadata": {
  "kernelspec": {
   "display_name": "Kosh",
   "language": "python",
   "name": "kosh"
  },
  "language_info": {
   "codemirror_mode": {
    "name": "ipython",
    "version": 3
   },
   "file_extension": ".py",
   "mimetype": "text/x-python",
   "name": "python",
   "nbconvert_exporter": "python",
   "pygments_lexer": "ipython3",
   "version": "3.7.10"
  }
 },
 "nbformat": 4,
 "nbformat_minor": 4
}
