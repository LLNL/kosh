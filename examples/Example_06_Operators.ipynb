{
 "cells": [
  {
   "cell_type": "markdown",
   "metadata": {},
   "source": [
    "# Kosh Operators\n",
    "\n",
    "This notebook introduces Kosh's *operators*. Unlike *transformers* which act on a feature itself. *operators* allow post-processing of data comming from different features, for example adding two features together. Either from the same source or not.\n",
    "\n",
    "Similarly to *loaders* and *transformers*, *operators* must declare the mime_types they can accept as inputs and the mime_types they export these inputs to. Where the *transformers* process the feature via their `transform` function, *operators* must define their `operate` function.\n",
    "\n",
    "At the moment it is expected that all inputs must be from the same mime_type.\n",
    "\n",
    "Operators inputs can be features coming straight from the loader, possibly processed by a(many) *transformer(s)* and coming from another *operator*.\n",
    "\n",
    "In this example we will define a simple **ADD** operator that will add all the inputs it receives."
   ]
  },
  {
   "cell_type": "code",
   "execution_count": 1,
   "metadata": {},
   "outputs": [],
   "source": [
    "import kosh\n",
    "import numpy as np\n",
    "\n",
    "class ADD(kosh.KoshOperator):\n",
    "    types = {\"numpy\" : [\"numpy\",]}  # Our operator accepts numpy arrays and outputs numpy arrays\n",
    "    \n",
    "    def operate(self, *inputs, ** kargs):\n",
    "        # *inputs are the input received from their predecessors in the execution graph\n",
    "        # It is important to define **kargs as the function will receive `format=some_format`\n",
    "        out = np.array(inputs[0])\n",
    "        for input_ in inputs[1:]:\n",
    "            out += np.array(input_)\n",
    "        return out"
   ]
  },
  {
   "cell_type": "markdown",
   "metadata": {},
   "source": [
    "**Important points**:\n",
    "\n",
    "  * The `operate` function will receive the desired output format via `format=output_format` so it *must* declare `**kargs`\n",
    "  * inputs are sent via `*inputs`"
   ]
  },
  {
   "cell_type": "code",
   "execution_count": 2,
   "metadata": {
    "scrolled": true
   },
   "outputs": [
    {
     "name": "stdout",
     "output_type": "stream",
     "text": [
      "<HDF5 dataset \"cycles\": shape (2,), type \"<i8\">\n",
      "[22 16]\n"
     ]
    },
    {
     "name": "stderr",
     "output_type": "stream",
     "text": [
      "/g/g19/cdoutrix/miniconda3/envs/kosh/lib/python3.6/site-packages/kosh/sina/core.py:868: UserWarning: \n",
      "In the next version the search function will return a generator.\n",
      "You might need to wrap the result in a list.\n",
      "  \"\\nIn the next version the search function will return a generator.\\n\"\n"
     ]
    }
   ],
   "source": [
    "import sys, os\n",
    "store = kosh.create_new_db(\"operators_demo.sql\")\n",
    "ds = store.create()\n",
    "ds.associate(\"../tests/baselines/node_extracts2/node_extracts2.hdf5\", mime_type=\"hdf5\")\n",
    "\n",
    "f1 = ds[\"cycles\"]\n",
    "print(f1())\n",
    "\n",
    "add = ADD(f1,f1)\n",
    "\n",
    "print(add[:])\n"
   ]
  },
  {
   "cell_type": "markdown",
   "metadata": {},
   "source": [
    "As previously mentioned we can also pass the feature through a transformer first:"
   ]
  },
  {
   "cell_type": "code",
   "execution_count": 3,
   "metadata": {},
   "outputs": [
    {
     "name": "stdout",
     "output_type": "stream",
     "text": [
      "[33. 24.]\n"
     ]
    }
   ],
   "source": [
    "class Twice(kosh.transformers.KoshTransformer):\n",
    "    types = {\"numpy\":[\"numpy\",]}\n",
    "    def transform(self, input, format):\n",
    "        return np.array(input) * 2.\n",
    "    \n",
    "twice = Twice()\n",
    "\n",
    "f1 = ds.get_execution_graph(\"cycles\", transformers=[twice,])\n",
    "f2 = ds[\"cycles\"]\n",
    "\n",
    "add2 = ADD(f1, f2)\n",
    "print(add2[:])\n"
   ]
  },
  {
   "cell_type": "markdown",
   "metadata": {},
   "source": [
    "We can also have an operator as an input to another, and mix and match this with regular features"
   ]
  },
  {
   "cell_type": "code",
   "execution_count": 4,
   "metadata": {},
   "outputs": [
    {
     "name": "stdout",
     "output_type": "stream",
     "text": [
      "[55. 40.]\n"
     ]
    }
   ],
   "source": [
    "add3 = ADD(add2, add)\n",
    "print(add3[:])"
   ]
  },
  {
   "cell_type": "markdown",
   "metadata": {},
   "source": [
    "Sometimes these can get complicated and hard to follow.\n",
    "You can draw the execution graph to see if everything is happening as you would expect."
   ]
  },
  {
   "cell_type": "code",
   "execution_count": 5,
   "metadata": {},
   "outputs": [],
   "source": [
    "kosh.utils.draw_execution_graph(add3.execution_graph(), png_name=\"exec_graph.png\", output_format=\"numpy\")"
   ]
  },
  {
   "cell_type": "markdown",
   "metadata": {},
   "source": [
    "![Execution Graph](exec_graph.png)\n",
    "\n",
    "Lastly it is worth noting that transformers and operators can implement their own `__getitem__` function to subset the data. See [this notebook](Example_Advanced_Data_Slicing.ipynb) for more in this."
   ]
  }
 ],
 "metadata": {
  "kernelspec": {
   "display_name": "Kosh Environment",
   "language": "python",
   "name": "kosh"
  },
  "language_info": {
   "codemirror_mode": {
    "name": "ipython",
    "version": 3
   },
   "file_extension": ".py",
   "mimetype": "text/x-python",
   "name": "python",
   "nbconvert_exporter": "python",
   "pygments_lexer": "ipython3",
   "version": "3.6.11"
  }
 },
 "nbformat": 4,
 "nbformat_minor": 4
}
