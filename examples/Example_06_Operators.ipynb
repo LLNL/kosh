{
 "cells": [
  {
   "cell_type": "markdown",
   "metadata": {},
   "source": [
    "# Kosh Operators\n",
    "\n",
    "This notebook introduces Kosh's *operators*. Unlike *transformers*, which act on a feature itself, *operators* allow post-processing of data coming from different features, for example adding two features together. Either from the same source or not.\n",
    "\n",
    "Kosh operators will receive the input features as Python's `*args`\n",
    "\n",
    "Operators inputs can be features coming straight from the loader, possibly processed by a(many) *transformer(s)* and/or coming from another *operator*.\n",
    "\n",
    "While one could be be getting each feature individually and then use a raw function on them, operators offer many advantages\n",
    "\n",
    "* When mixing data from multiple sources, and possibly transformers, Kosh will automatically determine which loaders to use and which output format is required from each loader (and transformers) in order for all data to be compatible when passed to the operator.\n",
    "* Operators can be built (`__getitem__` function see [this notebook](Example_Advanced_Data_Slicing.ipynb) ) to read in only the amount of data needed.\n",
    "\n",
    "\n",
    "## Easiest way: Decorators\n",
    "\n",
    "As with `transformers` one can use Python `decorators` to quickly convert an existing function.\n",
    "\n",
    "Let's import some modules, create a store and a dataset to play with."
   ]
  },
  {
   "cell_type": "code",
   "execution_count": 1,
   "metadata": {},
   "outputs": [
    {
     "name": "stdout",
     "output_type": "stream",
     "text": [
      "[[74.60042   22.704462  81.75976   43.019024  90.3619    27.78305\n",
      "  71.98507   38.78283   31.862976  12.7631855 94.52985   74.529434\n",
      "  18.101988  57.22014   50.838238  75.56943   21.334723  63.617054 ]\n",
      " [30.224789  70.80611   62.686962  19.330027  81.621056  93.60426\n",
      "  21.645191  63.31401   92.55467   90.84677   27.292467  14.005975\n",
      "  49.63301   85.57087    9.917352  58.027737  69.95087    5.07952  ]]\n",
      "[[24.176632  28.35887   57.926807  88.42995   43.800083  59.017242\n",
      "  22.848253   7.5056286  2.5399094  6.2492366 46.997864  60.64453\n",
      "  30.870817  66.92705   46.292072  27.467634  84.07651   68.11991  ]\n",
      " [73.90602   55.195995  84.13312   79.93733   13.419014  60.481445\n",
      "  64.483665   9.53269   56.463535  92.742775  88.28038   16.180855\n",
      "   4.254545   9.790927  67.85503    1.1167012 63.09269   49.717033 ]]\n"
     ]
    }
   ],
   "source": [
    "import kosh\n",
    "import numpy as np\n",
    "\n",
    "import sys, os\n",
    "store = kosh.connect(\"operators_demo.sql\", delete_all_contents=True)\n",
    "ds = store.create()\n",
    "ds.associate(\"../tests/baselines/node_extracts2/node_extracts2.hdf5\", mime_type=\"hdf5\")\n",
    "\n",
    "m1 = ds[\"node/metrics_0\"]\n",
    "print(m1[:][:])\n",
    "m2 = ds[\"node/metrics_2\"]\n",
    "print(m2[:][:])"
   ]
  },
  {
   "cell_type": "markdown",
   "metadata": {},
   "source": [
    "Let's assuming you have a function that adds up your features for numpy arrays. Let's make it a Kosh operator.\n",
    "\n",
    "*Note:* `numpy_operators` will declare the operator's `types` to be `{'numpy': [\"numpy\",]}`. See later for declaring your custom `types`"
   ]
  },
  {
   "cell_type": "code",
   "execution_count": 2,
   "metadata": {},
   "outputs": [
    {
     "name": "stdout",
     "output_type": "stream",
     "text": [
      "[[ 98.777054  51.06333  139.68657  131.44897  134.16199   86.80029\n",
      "   94.83332   46.28846   34.402885  19.012423 141.52771  135.17397\n",
      "   48.972805 124.14719   97.13031  103.03706  105.41123  131.73697 ]\n",
      " [104.13081  126.002106 146.82008   99.26736   95.04007  154.08571\n",
      "   86.12886   72.8467   149.0182   183.58954  115.572845  30.186829\n",
      "   53.887558  95.36179   77.77238   59.14444  133.04355   54.796555]]\n"
     ]
    }
   ],
   "source": [
    "@kosh.numpy_operator\n",
    "def Add(*inputs):\n",
    "    out = inputs[0][:]\n",
    "    for input_ in inputs[1:]:\n",
    "        out += input_[:]\n",
    "    return out\n",
    "\n",
    "add = Add(m1, m2)\n",
    "print(add[:])"
   ]
  },
  {
   "cell_type": "markdown",
   "metadata": {},
   "source": [
    "Similarly to *loaders* and *transformers*, *operators* must declare the mime_types they can accept as inputs and the mime_types they export these inputs to. Where the *transformers* process the feature via their `transform` function, *operators* must define their `operate` function.\n",
    "\n",
    "At the moment it is expected that all inputs must be from the same mime_type.\n",
    "\n",
    "Let's create an operator while defninig these *mime_types*"
   ]
  },
  {
   "cell_type": "code",
   "execution_count": 3,
   "metadata": {},
   "outputs": [
    {
     "name": "stdout",
     "output_type": "stream",
     "text": [
      "[[ 98.777054  51.06333  139.68657  131.44897  134.16199   86.80029\n",
      "   94.83332   46.28846   34.402885  19.012423 141.52771  135.17397\n",
      "   48.972805 124.14719   97.13031  103.03706  105.41123  131.73697 ]\n",
      " [104.13081  126.002106 146.82008   99.26736   95.04007  154.08571\n",
      "   86.12886   72.8467   149.0182   183.58954  115.572845  30.186829\n",
      "   53.887558  95.36179   77.77238   59.14444  133.04355   54.796555]]\n"
     ]
    }
   ],
   "source": [
    "@kosh.typed_operator({\"numpy\":[\"numpy\",]})\n",
    "def Add(*inputs):\n",
    "    out = inputs[0][:]\n",
    "    for input_ in inputs[1:]:\n",
    "        out += input_[:]\n",
    "    return out\n",
    "\n",
    "add = Add(m1, m2)\n",
    "print(add[:])"
   ]
  },
  {
   "cell_type": "markdown",
   "metadata": {},
   "source": [
    "Again just like loaders and transformers, operator can return the output in multiple format, in this case the decorated function must accept the \"format\" key argument"
   ]
  },
  {
   "cell_type": "code",
   "execution_count": 4,
   "metadata": {},
   "outputs": [
    {
     "name": "stdout",
     "output_type": "stream",
     "text": [
      "[[ 98.777054  51.06333  139.68657  131.44897  134.16199   86.80029\n",
      "   94.83332   46.28846   34.402885  19.012423 141.52771  135.17397\n",
      "   48.972805 124.14719   97.13031  103.03706  105.41123  131.73697 ]\n",
      " [104.13081  126.002106 146.82008   99.26736   95.04007  154.08571\n",
      "   86.12886   72.8467   149.0182   183.58954  115.572845  30.186829\n",
      "   53.887558  95.36179   77.77238   59.14444  133.04355   54.796555]] <class 'numpy.ndarray'>\n",
      "[[ 98.777054  51.06333  139.68657  131.44897  134.16199   86.80029\n",
      "   94.83332   46.28846   34.402885  19.012423 141.52771  135.17397\n",
      "   48.972805 124.14719   97.13031  103.03706  105.41123  131.73697 ]\n",
      " [104.13081  126.002106 146.82008   99.26736   95.04007  154.08571\n",
      "   86.12886   72.8467   149.0182   183.58954  115.572845  30.186829\n",
      "   53.887558  95.36179   77.77238   59.14444  133.04355   54.796555]] <class 'str'>\n"
     ]
    }
   ],
   "source": [
    "@kosh.typed_operator_with_kwargs({\"numpy\":[\"numpy\",\"str\"]})\n",
    "def Add(*inputs, **kwargs):\n",
    "    out = inputs[0][:]\n",
    "    for input_ in inputs[1:]:\n",
    "        out += input_[:]\n",
    "    if kwargs[\"format\"] == \"numpy\":\n",
    "        return out\n",
    "    elif kwargs[\"format\"] == \"str\":\n",
    "        return str(out)\n",
    "\n",
    "add = Add(m1, m2)\n",
    "print(add(format=\"numpy\"), type(add(format=\"numpy\")))\n",
    "print(add(format=\"str\"), type(add(format=\"str\")))\n"
   ]
  },
  {
   "cell_type": "markdown",
   "metadata": {},
   "source": [
    "### A warning about indices\n",
    "\n",
    "Kosh decorators will provide an operator that will pass through the indices a user asked for (for efficiency).\n",
    "See [this notebook](Example_Advanced_Data_Slicing.ipynb) for cases where this will return the wrong answer (e.g a operator that flips the order of the input)\n",
    "\n",
    "## Operator from scratch\n",
    "\n",
    "\n",
    "In this example we will define a simple **Add** operator that will add all the inputs it receives."
   ]
  },
  {
   "cell_type": "code",
   "execution_count": 5,
   "metadata": {},
   "outputs": [],
   "source": [
    "class Add(kosh.KoshOperator):\n",
    "    types = {\"numpy\" : [\"numpy\",]}  # Our operator accepts numpy arrays and outputs numpy arrays\n",
    "    \n",
    "    def operate(self, *inputs, ** kargs):\n",
    "        # *inputs are the input received from their predecessors in the execution graph\n",
    "        # It is important to define **kargs as the function will receive `format=some_format`\n",
    "        out = np.array(inputs[0])\n",
    "        for input_ in inputs[1:]:\n",
    "            out += np.array(input_)\n",
    "        return out"
   ]
  },
  {
   "cell_type": "markdown",
   "metadata": {},
   "source": [
    "**Important points**:\n",
    "\n",
    "  * The `operate` function will receive the desired output format via `format=output_format` so it *must* declare `**kargs`\n",
    "  * inputs are sent via `*inputs`"
   ]
  },
  {
   "cell_type": "code",
   "execution_count": 6,
   "metadata": {
    "scrolled": true
   },
   "outputs": [
    {
     "name": "stdout",
     "output_type": "stream",
     "text": [
      "[22 16]\n"
     ]
    }
   ],
   "source": [
    "f1 = ds[\"cycles\"]\n",
    "add = Add(f1, f1)\n",
    "\n",
    "print(add[:])\n"
   ]
  },
  {
   "cell_type": "markdown",
   "metadata": {},
   "source": [
    "As previously mentioned we can also pass the feature through a transformer first:"
   ]
  },
  {
   "cell_type": "code",
   "execution_count": 7,
   "metadata": {},
   "outputs": [
    {
     "name": "stdout",
     "output_type": "stream",
     "text": [
      "[33. 24.]\n"
     ]
    }
   ],
   "source": [
    "class Twice(kosh.transformers.KoshTransformer):\n",
    "    types = {\"numpy\":[\"numpy\",]}\n",
    "    def transform(self, input, format):\n",
    "        return np.array(input) * 2.\n",
    "    \n",
    "twice = Twice()\n",
    "\n",
    "f1 = ds.get_execution_graph(\"cycles\", transformers=[twice,])\n",
    "f2 = ds[\"cycles\"]\n",
    "\n",
    "add2 = Add(f1, f2)\n",
    "print(add2[:])\n"
   ]
  },
  {
   "cell_type": "markdown",
   "metadata": {},
   "source": [
    "We can also have an operator as an input to another, and mix and match this with regular features"
   ]
  },
  {
   "cell_type": "code",
   "execution_count": 8,
   "metadata": {},
   "outputs": [
    {
     "name": "stdout",
     "output_type": "stream",
     "text": [
      "[55. 40.]\n"
     ]
    }
   ],
   "source": [
    "add3 = Add(add2, add)\n",
    "print(add3[:])"
   ]
  },
  {
   "cell_type": "markdown",
   "metadata": {},
   "source": [
    "Sometimes these can get complicated and hard to follow.\n",
    "You can draw the execution graph to see if everything is happening as you would expect."
   ]
  },
  {
   "cell_type": "code",
   "execution_count": 9,
   "metadata": {},
   "outputs": [],
   "source": [
    "kosh.utils.draw_execution_graph(add3.execution_graph(), png_name=\"exec_graph.png\", output_format=\"numpy\")"
   ]
  },
  {
   "cell_type": "markdown",
   "metadata": {},
   "source": [
    "![Execution Graph](exec_graph.png)\n",
    "\n",
    "Lastly it is worth noting that transformers and operators can implement their own `__getitem__` function to subset the data. See [this notebook](Example_Advanced_Data_Slicing.ipynb) for more in this."
   ]
  }
 ],
 "metadata": {
  "kernelspec": {
   "display_name": "Kosh",
   "language": "python",
   "name": "kosh"
  },
  "language_info": {
   "codemirror_mode": {
    "name": "ipython",
    "version": 3
   },
   "file_extension": ".py",
   "mimetype": "text/x-python",
   "name": "python",
   "nbconvert_exporter": "python",
   "pygments_lexer": "ipython3",
   "version": "3.7.10"
  }
 },
 "nbformat": 4,
 "nbformat_minor": 4
}
