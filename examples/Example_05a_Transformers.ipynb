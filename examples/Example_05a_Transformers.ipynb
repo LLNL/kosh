{
 "cells": [
  {
   "cell_type": "markdown",
   "metadata": {},
   "source": [
    "# Kosh Transformers\n",
    "\n",
    "This notebook introduces Kosh's *transformers*. *Transformers* allow data to be further post-processed after extraction from it's original URI.\n",
    "\n",
    "Transformer allow for easy transformations such as sub-sampling to more complex operation such as data augmentation or detecting where data is valid or not.\n",
    "\n",
    "Transformers can be chained. Each step can be cached. Kosh transformers also allow for caching. The default cache directory in stored in `kosh.core.kosh_cache_dir` and points to: `os.path.join(os.environ[\"HOME\"], \".cache\", \"kosh\")`.\n",
    "\n",
    "## Setting up the notebook\n",
    "\n",
    "Let's import some modules and create simple loaders for ascii files"
   ]
  },
  {
   "cell_type": "code",
   "execution_count": 1,
   "metadata": {},
   "outputs": [],
   "source": [
    "# import necessary modules\n",
    "import kosh\n",
    "import numpy\n",
    "import time\n",
    "import os"
   ]
  },
  {
   "cell_type": "code",
   "execution_count": 2,
   "metadata": {},
   "outputs": [],
   "source": [
    "# Create a file to load in.\n",
    "with open(\"kosh_transformers_chaining_example.ascii\", \"w\") as f:\n",
    "    f.write(\"1 2. 3 4 5 6 7 8 9\")"
   ]
  },
  {
   "cell_type": "markdown",
   "metadata": {},
   "source": [
    "Now we need to create our custom loader"
   ]
  },
  {
   "cell_type": "code",
   "execution_count": 3,
   "metadata": {},
   "outputs": [],
   "source": [
    "# A very basic loader\n",
    "# this loader can read the *ascii* mime_type and return *numlist* as one of its output types\n",
    "class StringsLoader(kosh.loaders.KoshLoader):\n",
    "    types ={\"ascii\": [\"numlist\", \"a_format\", \"another_format\"]}  # mime_types and corresponding outpt formats\n",
    "    def extract(self):\n",
    "        \"\"\"The extract function\n",
    "        return a list of floats\"\"\"\n",
    "        time.sleep(2) # fake slow operation\n",
    "        with open(self.obj.uri) as f:\n",
    "            return [float(x) for x in f.read().split()]\n",
    "    def list_features(self):\n",
    "        # The only feature is \"numbers\"\n",
    "        return [\"numbers\",]"
   ]
  },
  {
   "cell_type": "code",
   "execution_count": 4,
   "metadata": {},
   "outputs": [
    {
     "name": "stdout",
     "output_type": "stream",
     "text": [
      "['numbers', 'cycles', 'direction', 'elements', 'node', 'node/metrics_0', 'node/metrics_1', 'node/metrics_10', 'node/metrics_11', 'node/metrics_12', 'node/metrics_2', 'node/metrics_3', 'node/metrics_4', 'node/metrics_5', 'node/metrics_6', 'node/metrics_7', 'node/metrics_8', 'node/metrics_9', 'zone', 'zone/metrics_0', 'zone/metrics_1', 'zone/metrics_2', 'zone/metrics_3', 'zone/metrics_4']\n",
      "[[74.60042   22.704462  81.75976   43.019024  90.3619    27.78305\n",
      "  71.98507   38.78283   31.862976  12.7631855 94.52985   74.529434\n",
      "  18.101988  57.22014   50.838238  75.56943   21.334723  63.617054 ]\n",
      " [30.224789  70.80611   62.686962  19.330027  81.621056  93.60426\n",
      "  21.645191  63.31401   92.55467   90.84677   27.292467  14.005975\n",
      "  49.63301   85.57087    9.917352  58.027737  69.95087    5.07952  ]]\n"
     ]
    }
   ],
   "source": [
    "store = kosh.connect(\"transformers_example.sql\", delete_all_contents=True)\n",
    "dataset = store.create(name=\"test_transformer\")\n",
    "dataset.associate(\"kosh_transformers_chaining_example.ascii\", mime_type=\"ascii\")\n",
    "dataset.associate(\"sample_files/run_000.hdf5\", \"hdf5\")\n",
    "# let's add our loader to the store\n",
    "store.add_loader(StringsLoader)\n",
    "# and print the features associated with this dataset\n",
    "print(dataset.list_features())\n",
    "print(dataset[\"node/metrics_0\"][:][:])"
   ]
  },
  {
   "cell_type": "markdown",
   "metadata": {},
   "source": [
    "## Easiest: Using decorator\n",
    "\n",
    "Let's say you have a function you would like to apply on your data as you extract it.\n",
    "\n",
    "Kosh lets you easily wrap this function via decorators so you can use it within the Kosh workflow.\n",
    "\n",
    "In the following examples our function will simply multiply every number by 10.\n",
    "\n",
    "### Numpy-based\n",
    "\n",
    "If your function takes a numpy array as an input and outputs an numpy array simply use the `@numpy_transformer decorator`"
   ]
  },
  {
   "cell_type": "code",
   "execution_count": 13,
   "metadata": {},
   "outputs": [
    {
     "name": "stdout",
     "output_type": "stream",
     "text": [
      "[[746.00415  227.04462  817.5976   430.19025  903.619    277.8305\n",
      "  719.8507   387.8283   318.62976  127.63185  945.29846  745.2943\n",
      "  181.01988  572.2014   508.3824   755.6943   213.34723  636.17053 ]\n",
      " [302.2479   708.06104  626.8696   193.30026  816.2106   936.0426\n",
      "  216.4519   633.14014  925.54675  908.4677   272.92468  140.05975\n",
      "  496.3301   855.7087    99.173515 580.27734  699.50867   50.795204]]\n",
      "527.0764\n"
     ]
    }
   ],
   "source": [
    "@kosh.numpy_transformer\n",
    "def ten_times(inputs):\n",
    "    return 10 * inputs[:]\n",
    "\n",
    "print(dataset.get(\"node/metrics_0\", transformers=[ten_times,])[:])\n",
    "\n",
    "# or if the function was defined somewhere else\n",
    "avg = kosh.numpy_transformer(numpy.average)\n",
    "# We can chain transformers\n",
    "print(dataset.get(\"node/metrics_0\", transformers=[ten_times, avg]))"
   ]
  },
  {
   "cell_type": "markdown",
   "metadata": {},
   "source": [
    "### Specific input/output types\n",
    "\n",
    "It is possible that your function converts data from a different input *mime_type* than `numpy`, for example our custom loader declares it can return `numlist`. Similarly your transformer output *mime_type* can be something else than `numpy`, e.g. `pandas` or `list`.\n",
    "\n",
    "Similarly to `KoshLoaders`, `KoshTransformers` have a `types` attribute, a dictionary, describing what it can take as input and for each of these what it can return.\n",
    "\n",
    "Let's create a transformer than can convert these numlist to numpy arrays and multiply them by ten."
   ]
  },
  {
   "cell_type": "code",
   "execution_count": null,
   "metadata": {},
   "outputs": [],
   "source": [
    "@kosh.typed_transformer({\"numlist\":[\"numpy\",]})\n",
    "def list_10_times_numpy(inputs):\n",
    "    return 10.*numpy.array(inputs)\n",
    "\n",
    "print(\"Raw        :\", dataset[\"numbers\"][:])\n",
    "print(\"Transformed:\", dataset.get(\"numbers\", transformers=[list_10_times_numpy,]))"
   ]
  },
  {
   "cell_type": "markdown",
   "metadata": {},
   "source": [
    "### Multiple formats:\n",
    "\n",
    "Finally there are cases where your function can return the data in various formats, transformers will pass the `format` key argument, here again there's a dedicated decorator for this kind of functions"
   ]
  },
  {
   "cell_type": "code",
   "execution_count": null,
   "metadata": {},
   "outputs": [],
   "source": [
    "@kosh.typed_transformer_with_format({\"numlist\":[\"numpy\",\"str\", \"numlist\"]})\n",
    "def list_to_formats(inputs, format):\n",
    "    out = 10. * numpy.array(inputs)\n",
    "    if format == \"str\":\n",
    "        return str(out)\n",
    "    elif format == \"numlist\":\n",
    "        return out.tolist()\n",
    "    else:\n",
    "        return out\n",
    "    \n",
    "print(\"Raw        :\", dataset[\"numbers\"][:])\n",
    "for format in [\"numpy\", \"str\", \"numlist\"]:\n",
    "    data = dataset.get(\"numbers\", transformers=[list_to_formats,], format=format)[:]\n",
    "    print(\"As {:7s} :\".format(format), data, type(data) )\n",
    "    "
   ]
  },
  {
   "cell_type": "markdown",
   "metadata": {},
   "source": [
    "### A warning about indices\n",
    "\n",
    "Kosh decorators will provide a transformer that will pass through the indices a user asked for (for efficiency).\n",
    "See [this notebook](Example_Advanced_Data_Slicing.ipynb) for cases where this will return the wrong answer (e.g a transformer that flips the order of the input)\n",
    "\n",
    "\n",
    "Now sometimes you will need a complex transformer with some initialization paramters, etc... \n",
    "\n",
    "Let's learn how to build transformers from scratch\n",
    "\n",
    "## Basic Example Converting from list to numpy\n",
    "\n",
    "This first example shows how to use transformers to convert between formats. We create a simple loader that returns a list of numbers as floats. This could be a loader for a very compex format.\n",
    "\n",
    "Here two things could happen:\n",
    "\n",
    "1. The data is not a great format for us.\n",
    "2. The loader is slow (but uses proprietary libraries we cannot re-implement)\n",
    "\n",
    "A transformer can help for both of this.\n",
    "\n",
    "1. The transformer will convert data to a desired format (numpy arrays here)\n",
    "2. The result will be cached so that we can quickly reload the data many times in the script."
   ]
  },
  {
   "cell_type": "markdown",
   "metadata": {},
   "source": [
    "Now let's create a transformer to convert this list of floats to a numpy array on the fly. (we understand it's a one liner in python)\n",
    "\n",
    "All we need to do is inherit the basic kosh transformer and implement the `transform` call.\n",
    "\n",
    "`transform` takes the `inputs` and a `format` as input. \n",
    "\n",
    "It needs a *numlist* as an input"
   ]
  },
  {
   "cell_type": "code",
   "execution_count": null,
   "metadata": {},
   "outputs": [],
   "source": [
    "import time\n",
    "class Ints2Np(kosh.transformers.KoshTransformer):\n",
    "    types =  {\"numlist\": [\"numpy\"]}  # Known inputs type and matching possible output formats\n",
    "    def transform(self, inputs, format):\n",
    "        time.sleep(2)  # Artificial slowdown\n",
    "        return numpy.array(inputs, dtype=numpy.float32)"
   ]
  },
  {
   "cell_type": "markdown",
   "metadata": {},
   "source": [
    "A simple feature retrieval (or a call to `get`) will return our list"
   ]
  },
  {
   "cell_type": "code",
   "execution_count": null,
   "metadata": {},
   "outputs": [],
   "source": [
    "feature = dataset[\"numbers\"]\n",
    "feature[:]"
   ]
  },
  {
   "cell_type": "markdown",
   "metadata": {},
   "source": [
    "But we want a *numpy* array and our loader cannot do that!"
   ]
  },
  {
   "cell_type": "code",
   "execution_count": null,
   "metadata": {},
   "outputs": [],
   "source": [
    "try:\n",
    "    feature(format=\"numpy\")\n",
    "except:\n",
    "    print(\"Failed as expected\")"
   ]
  },
  {
   "cell_type": "markdown",
   "metadata": {},
   "source": [
    "We need to use our transformer.\n",
    "\n",
    "Let's inform Kosh about it"
   ]
  },
  {
   "cell_type": "code",
   "execution_count": null,
   "metadata": {},
   "outputs": [],
   "source": [
    "feature = dataset.get_execution_graph(\"numbers\", transformers=[Ints2Np(),])\n",
    "data = feature(format='numpy')\n",
    "print(data)"
   ]
  },
  {
   "cell_type": "markdown",
   "metadata": {},
   "source": [
    "It works but it is still slow if we call it again"
   ]
  },
  {
   "cell_type": "code",
   "execution_count": null,
   "metadata": {},
   "outputs": [],
   "source": [
    "%time feature(format=\"numpy\")"
   ]
  },
  {
   "cell_type": "markdown",
   "metadata": {},
   "source": [
    "We need to cache the result."
   ]
  },
  {
   "cell_type": "code",
   "execution_count": null,
   "metadata": {},
   "outputs": [],
   "source": [
    "transform_to_npy = Ints2Np(cache=True, cache_dir=os.getcwd())\n",
    "feature = dataset.get_execution_graph(\"numbers\", transformers=[transform_to_npy,])\n",
    "print(\"First time (caching)\")\n",
    "%time dataset.get(\"numbers\", format=\"numpy\", transformers=[transform_to_npy,])\n",
    "print(\"Second time (cached)\")\n",
    "%time dataset.get(\"numbers\", format=\"numpy\", transformers=[transform_to_npy,])"
   ]
  },
  {
   "cell_type": "markdown",
   "metadata": {},
   "source": [
    "## Chaining Transformers\n",
    "\n",
    "While this was neat, now that our data is in a format that we like we might want to further process it with other transformers. Fortunately these can be chained. The level of caching can be controlled as well.\n",
    "\n",
    "Let's create an `Even` transformer that gets only even numbers and a fake *slow* operation, in our case that transformer does nothing except pausing for a specific amount of time.\n",
    "\n"
   ]
  },
  {
   "cell_type": "code",
   "execution_count": null,
   "metadata": {},
   "outputs": [],
   "source": [
    "class Even(kosh.transformers.KoshTransformer):\n",
    "    types = {\"numpy\": [\"numpy\"]}\n",
    "    def transform(self, input, format):\n",
    "        return numpy.take(input, numpy.argwhere(numpy.mod(input, 2)==0))[:,0]\n",
    "    \n",
    "class SlowDowner(kosh.transformers.KoshTransformer):\n",
    "    types = {\"numpy\": [\"numpy\"]}\n",
    "    def __init__(self, sleep_time=3, cache_dir=\"kosh_cache\", cache=False):\n",
    "        super(SlowDowner, self).__init__(cache_dir=cache_dir, cache=cache)\n",
    "        self.sleep_time = sleep_time\n",
    "    def transform(self, input, format):\n",
    "        # Fakes a slow operation\n",
    "        time.sleep(self.sleep_time)\n",
    "        return input"
   ]
  },
  {
   "cell_type": "markdown",
   "metadata": {},
   "source": [
    "Let's chain these together"
   ]
  },
  {
   "cell_type": "code",
   "execution_count": null,
   "metadata": {},
   "outputs": [],
   "source": [
    "%time dataset.get(\"numbers\", format=\"numpy\", transformers=[transform_to_npy, SlowDowner(3), Even(), SlowDowner(4)])"
   ]
  },
  {
   "cell_type": "markdown",
   "metadata": {},
   "source": [
    "Let's cache the last step"
   ]
  },
  {
   "cell_type": "code",
   "execution_count": null,
   "metadata": {},
   "outputs": [],
   "source": [
    "%time dataset.get(\"numbers\", format=\"numpy\", transformers=[transform_to_npy, SlowDowner(3), Even(), SlowDowner(4, cache_dir=\"kosh_cache\", cache=True)])"
   ]
  },
  {
   "cell_type": "markdown",
   "metadata": {},
   "source": [
    "Let's running again we should shove off the last 4 seconds, but let's cache the first 3 as well for next time"
   ]
  },
  {
   "cell_type": "code",
   "execution_count": null,
   "metadata": {},
   "outputs": [],
   "source": [
    "%time dataset.get(\"numbers\", format=\"numpy\", transformers=[transform_to_npy, SlowDowner(3, cache_dir=\"kosh_cache\", cache=True), Even(), SlowDowner(4, cache_dir=\"kosh_cache\", cache=True)])"
   ]
  },
  {
   "cell_type": "markdown",
   "metadata": {},
   "source": [
    "Let's run it again all cached"
   ]
  },
  {
   "cell_type": "code",
   "execution_count": null,
   "metadata": {},
   "outputs": [],
   "source": [
    "%time dataset.get(\"numbers\", format=\"numpy\", transformers=[transform_to_npy, SlowDowner(3, cache_dir=\"kosh_cache\", cache=True), Even(), SlowDowner(4, cache_dir=\"kosh_cache\", cache=True)])"
   ]
  },
  {
   "cell_type": "markdown",
   "metadata": {},
   "source": [
    "## Some examples of transformers included in Kosh\n",
    "\n",
    "Kosh comes with a few transformers\n",
    "\n",
    "### Numpy-related transformers\n",
    "\n",
    "* KoshSimpleNpCache(cache_dir=kosh_cache_dir, cache=True) does nothing but caches the passed arrays using numpy.savez rather than the default (pickled objects)\n",
    "* Take(cache_dir=kosh_cache_dir, cache=True, indices=[], axis=0, verbose=False) runs numpy.take. Will use mpi to split the indices over the available ranks, gather result on rank 0\n",
    "* Delta(cache_dir=kosh_cache_dir, cache=True,cache_dir=kosh_cache_dir, cache=True, axis=0, pad=None, pad_value=0, verbose=False) computes difference over an axis between consecutive strides, possibly padding at start or end\n",
    "\n",
    "### Scikit Learn related transformers\n",
    "\n",
    "see [Next Notebook](Example_05b_Transformers-SKL.ipynb)\n",
    "\n",
    "\n"
   ]
  }
 ],
 "metadata": {
  "kernelspec": {
   "display_name": "Kosh",
   "language": "python",
   "name": "kosh"
  },
  "language_info": {
   "codemirror_mode": {
    "name": "ipython",
    "version": 3
   },
   "file_extension": ".py",
   "mimetype": "text/x-python",
   "name": "python",
   "nbconvert_exporter": "python",
   "pygments_lexer": "ipython3",
   "version": "3.7.10"
  }
 },
 "nbformat": 4,
 "nbformat_minor": 4
}
