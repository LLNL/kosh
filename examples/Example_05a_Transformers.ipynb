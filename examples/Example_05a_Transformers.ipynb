{
 "cells": [
  {
   "cell_type": "markdown",
   "metadata": {},
   "source": [
    "# Kosh Transformers\n",
    "\n",
    "This notebook introduces Kosh's *transformers*. *Transformers* allow data to be further post-processed after extraction from it's original URI.\n",
    "\n",
    "Transformer allow for easy transformations such as sub-sampling to more complex operation such as data augmentation or detecting where data is valid or not.\n",
    "\n",
    "Transformers can be chained. Each step can be cached. Kosh transformers also allow for caching. The default cache directory in stored in `kosh.core.kosh_cache_dir` and points to: `os.path.join(os.environ[\"HOME\"], \".cache\", \"kosh\")`.\n",
    "\n",
    "## Basic Example Converting from list to numpy\n",
    "\n",
    "This first example shows how to use transformers to convert between formats. We create a simple loader that returns a list of numbers as floats. This could be a loader for a very compex format.\n",
    "\n",
    "Here two things could happen:\n",
    "\n",
    "1. The data is not a great format for us.\n",
    "2. The loader is slow (but uses proprietary libraries we cannot re-implement)\n",
    "\n",
    "A transformer can help for both of this.\n",
    "\n",
    "1. The transformer will convert data to a desired format (numpy arrays here)\n",
    "2. The result will be cached some that we can quickly reload the data many times in the script.\n",
    "\n"
   ]
  },
  {
   "cell_type": "code",
   "execution_count": 1,
   "metadata": {},
   "outputs": [],
   "source": [
    "# import necessary modules\n",
    "import kosh\n",
    "import numpy\n",
    "import time\n",
    "import os"
   ]
  },
  {
   "cell_type": "code",
   "execution_count": 2,
   "metadata": {},
   "outputs": [],
   "source": [
    "# Create a file to load in.\n",
    "with open(\"kosh_transformers_chaining_example.ascii\", \"w\") as f:\n",
    "    f.write(\"1 2. 3 4 5 6 7 8 9\")"
   ]
  },
  {
   "cell_type": "markdown",
   "metadata": {},
   "source": [
    "Now we need to create our proprietary loader"
   ]
  },
  {
   "cell_type": "code",
   "execution_count": 3,
   "metadata": {},
   "outputs": [],
   "source": [
    "# A very basic loader\n",
    "\n",
    "# this loader can read the *ascii* mime_type and return *numlist* as one of its output types\n",
    "class StringsLoader(kosh.loaders.KoshLoader):\n",
    "    types ={\"ascii\": [\"numlist\", \"a_format\", \"another_format\"]}  # mime_types and corresponding outpt formats\n",
    "    def extract(self):\n",
    "        \"\"\"The extract function\n",
    "        return a list of floats\"\"\"\n",
    "        time.sleep(2) # fake slow operation\n",
    "        with open(self.obj.uri) as f:\n",
    "            return [float(x) for x in f.read().split()]\n",
    "    def list_features(self):\n",
    "        # The only feature is \"numbers\"\n",
    "        return [\"numbers\",]"
   ]
  },
  {
   "cell_type": "markdown",
   "metadata": {},
   "source": [
    "Now let's create a transformer to convert this list of floats to a numpy array on the fly. (we understand it's a one liner in python)\n",
    "\n",
    "All we need to do is inherit the basic kosh transformer and implement the `transform` call.\n",
    "\n",
    "`transform` takes the `inputs` and a `format` as input. \n",
    "\n",
    "It needs a *numlist* as an input"
   ]
  },
  {
   "cell_type": "code",
   "execution_count": 4,
   "metadata": {},
   "outputs": [
    {
     "name": "stdout",
     "output_type": "stream",
     "text": [
      "/g/g19/cdoutrix/miniconda3/envs/kosh\n",
      "1.2.111.g3aa6ca\n"
     ]
    }
   ],
   "source": [
    "import sys\n",
    "import time\n",
    "print(sys.prefix)\n",
    "print(kosh.__version__)\n",
    "class Ints2Np(kosh.transformers.KoshTransformer):\n",
    "    types =  {\"numlist\": [\"numpy\"]}  # Known inputs type and matching possible output formats\n",
    "    def transform(self, inputs, format):\n",
    "        time.sleep(2)  # Artificial slowdown\n",
    "        return numpy.array(inputs, dtype=numpy.float32)"
   ]
  },
  {
   "cell_type": "markdown",
   "metadata": {},
   "source": [
    "Now let's create store,a dataset and associate the data to it."
   ]
  },
  {
   "cell_type": "code",
   "execution_count": 5,
   "metadata": {},
   "outputs": [
    {
     "data": {
      "text/plain": [
       "['numbers']"
      ]
     },
     "execution_count": 5,
     "metadata": {},
     "output_type": "execute_result"
    }
   ],
   "source": [
    "store = kosh.connect(\"transformers_example.sql\", delete_all_contents=True)\n",
    "dataset = store.create(name=\"test_transformer\")\n",
    "dataset.associate(\"kosh_transformers_chaining_example.ascii\", mime_type=\"ascii\")\n",
    "# let's add our loader to the store\n",
    "store.add_loader(StringsLoader)\n",
    "# and print the features associated with this dataset\n",
    "dataset.list_features()"
   ]
  },
  {
   "cell_type": "markdown",
   "metadata": {},
   "source": [
    "A simple feature retrieval (or a call to `get`) will return our list"
   ]
  },
  {
   "cell_type": "code",
   "execution_count": 6,
   "metadata": {},
   "outputs": [
    {
     "data": {
      "text/plain": [
       "[1.0, 2.0, 3.0, 4.0, 5.0, 6.0, 7.0, 8.0, 9.0]"
      ]
     },
     "execution_count": 6,
     "metadata": {},
     "output_type": "execute_result"
    }
   ],
   "source": [
    "feature = dataset[\"numbers\"]\n",
    "feature[:]"
   ]
  },
  {
   "cell_type": "markdown",
   "metadata": {},
   "source": [
    "But we want a *numpy* array and our loader cannot do that!"
   ]
  },
  {
   "cell_type": "code",
   "execution_count": 7,
   "metadata": {},
   "outputs": [
    {
     "name": "stdout",
     "output_type": "stream",
     "text": [
      "Failed as expected\n"
     ]
    }
   ],
   "source": [
    "try:\n",
    "    feature(format=\"numpy\")\n",
    "except:\n",
    "    print(\"Failed as expected\")"
   ]
  },
  {
   "cell_type": "markdown",
   "metadata": {},
   "source": [
    "We need to use our transformer.\n",
    "\n",
    "Let's inform Kosh about it"
   ]
  },
  {
   "cell_type": "code",
   "execution_count": 8,
   "metadata": {},
   "outputs": [
    {
     "name": "stdout",
     "output_type": "stream",
     "text": [
      "[1. 2. 3. 4. 5. 6. 7. 8. 9.]\n"
     ]
    }
   ],
   "source": [
    "feature = dataset.get_execution_graph(\"numbers\", transformers=[Ints2Np(),])\n",
    "data = feature(format='numpy')\n",
    "print(data)"
   ]
  },
  {
   "cell_type": "markdown",
   "metadata": {},
   "source": [
    "It works but it is still slow if we call it again"
   ]
  },
  {
   "cell_type": "code",
   "execution_count": 9,
   "metadata": {},
   "outputs": [
    {
     "name": "stdout",
     "output_type": "stream",
     "text": [
      "CPU times: user 2.87 ms, sys: 1.87 ms, total: 4.73 ms\n",
      "Wall time: 4.01 s\n"
     ]
    },
    {
     "data": {
      "text/plain": [
       "array([1., 2., 3., 4., 5., 6., 7., 8., 9.], dtype=float32)"
      ]
     },
     "execution_count": 9,
     "metadata": {},
     "output_type": "execute_result"
    }
   ],
   "source": [
    "%time feature(format=\"numpy\")"
   ]
  },
  {
   "cell_type": "markdown",
   "metadata": {},
   "source": [
    "We need to cache the result."
   ]
  },
  {
   "cell_type": "code",
   "execution_count": 10,
   "metadata": {},
   "outputs": [
    {
     "name": "stdout",
     "output_type": "stream",
     "text": [
      "First time (caching)\n",
      "CPU times: user 5.32 ms, sys: 2.3 ms, total: 7.62 ms\n",
      "Wall time: 4.03 s\n",
      "Second time (cached)\n",
      "CPU times: user 6.49 ms, sys: 1.42 ms, total: 7.91 ms\n",
      "Wall time: 2.02 s\n"
     ]
    },
    {
     "data": {
      "text/plain": [
       "array([1., 2., 3., 4., 5., 6., 7., 8., 9.], dtype=float32)"
      ]
     },
     "execution_count": 10,
     "metadata": {},
     "output_type": "execute_result"
    }
   ],
   "source": [
    "transform_to_npy = Ints2Np(cache=True, cache_dir=os.getcwd())\n",
    "feature = dataset.get_execution_graph(\"numbers\", transformers=[transform_to_npy,])\n",
    "print(\"First time (caching)\")\n",
    "%time dataset.get(\"numbers\", format=\"numpy\", transformers=[transform_to_npy,])\n",
    "print(\"Second time (cached)\")\n",
    "%time dataset.get(\"numbers\", format=\"numpy\", transformers=[transform_to_npy,])"
   ]
  },
  {
   "cell_type": "markdown",
   "metadata": {},
   "source": [
    "## Chaining Transformers\n",
    "\n",
    "While this was neat, now that our data is in a format that we like we might want to further process it with other transformers. Fortunately these can be chained. The level of caching can be controlled as well.\n",
    "\n",
    "Let's create an `Even` transformer that gets only even numbers and a fake *slow* operation, in our case that transformer does nothing except pausing for a specific amount of time.\n",
    "\n"
   ]
  },
  {
   "cell_type": "code",
   "execution_count": 11,
   "metadata": {},
   "outputs": [],
   "source": [
    "class Even(kosh.transformers.KoshTransformer):\n",
    "    types = {\"numpy\": [\"numpy\"]}\n",
    "    def transform(self, input, format):\n",
    "        return numpy.take(input, numpy.argwhere(numpy.mod(input, 2)==0))[:,0]\n",
    "    \n",
    "class SlowDowner(kosh.transformers.KoshTransformer):\n",
    "    types = {\"numpy\": [\"numpy\"]}\n",
    "    def __init__(self, sleep_time=3, cache_dir=\"kosh_cache\", cache=False):\n",
    "        super(SlowDowner, self).__init__(cache_dir=cache_dir, cache=cache)\n",
    "        self.sleep_time = sleep_time\n",
    "    def transform(self, input, format):\n",
    "        # Fakes a slow operation\n",
    "        time.sleep(self.sleep_time)\n",
    "        return input"
   ]
  },
  {
   "cell_type": "markdown",
   "metadata": {},
   "source": [
    "Let's chain these together"
   ]
  },
  {
   "cell_type": "code",
   "execution_count": 12,
   "metadata": {},
   "outputs": [
    {
     "name": "stdout",
     "output_type": "stream",
     "text": [
      "CPU times: user 4.85 ms, sys: 3.83 ms, total: 8.68 ms\n",
      "Wall time: 9.03 s\n"
     ]
    },
    {
     "data": {
      "text/plain": [
       "array([2., 4., 6., 8.], dtype=float32)"
      ]
     },
     "execution_count": 12,
     "metadata": {},
     "output_type": "execute_result"
    }
   ],
   "source": [
    "%time dataset.get(\"numbers\", format=\"numpy\", transformers=[transform_to_npy, SlowDowner(3), Even(), SlowDowner(4)])"
   ]
  },
  {
   "cell_type": "markdown",
   "metadata": {},
   "source": [
    "Let's cache the last step"
   ]
  },
  {
   "cell_type": "code",
   "execution_count": 13,
   "metadata": {},
   "outputs": [
    {
     "name": "stdout",
     "output_type": "stream",
     "text": [
      "CPU times: user 9.06 ms, sys: 2.94 ms, total: 12 ms\n",
      "Wall time: 9.04 s\n"
     ]
    },
    {
     "data": {
      "text/plain": [
       "array([2., 4., 6., 8.], dtype=float32)"
      ]
     },
     "execution_count": 13,
     "metadata": {},
     "output_type": "execute_result"
    }
   ],
   "source": [
    "%time dataset.get(\"numbers\", format=\"numpy\", transformers=[transform_to_npy, SlowDowner(3), Even(), SlowDowner(4, cache_dir=\"kosh_cache\", cache=True)])"
   ]
  },
  {
   "cell_type": "markdown",
   "metadata": {},
   "source": [
    "Let's running again we should shove off the last 4 seconds, but let's cache the first 3 as well for next time"
   ]
  },
  {
   "cell_type": "code",
   "execution_count": 14,
   "metadata": {},
   "outputs": [
    {
     "name": "stdout",
     "output_type": "stream",
     "text": [
      "CPU times: user 8.39 ms, sys: 4.39 ms, total: 12.8 ms\n",
      "Wall time: 5.03 s\n"
     ]
    },
    {
     "data": {
      "text/plain": [
       "array([2., 4., 6., 8.], dtype=float32)"
      ]
     },
     "execution_count": 14,
     "metadata": {},
     "output_type": "execute_result"
    }
   ],
   "source": [
    "%time dataset.get(\"numbers\", format=\"numpy\", transformers=[transform_to_npy, SlowDowner(3, cache_dir=\"kosh_cache\", cache=True), Even(), SlowDowner(4, cache_dir=\"kosh_cache\", cache=True)])"
   ]
  },
  {
   "cell_type": "markdown",
   "metadata": {},
   "source": [
    "Let's run it again all cached"
   ]
  },
  {
   "cell_type": "code",
   "execution_count": 15,
   "metadata": {},
   "outputs": [
    {
     "name": "stdout",
     "output_type": "stream",
     "text": [
      "CPU times: user 7.6 ms, sys: 4.51 ms, total: 12.1 ms\n",
      "Wall time: 2.03 s\n"
     ]
    },
    {
     "data": {
      "text/plain": [
       "array([2., 4., 6., 8.], dtype=float32)"
      ]
     },
     "execution_count": 15,
     "metadata": {},
     "output_type": "execute_result"
    }
   ],
   "source": [
    "%time dataset.get(\"numbers\", format=\"numpy\", transformers=[transform_to_npy, SlowDowner(3, cache_dir=\"kosh_cache\", cache=True), Even(), SlowDowner(4, cache_dir=\"kosh_cache\", cache=True)])"
   ]
  },
  {
   "cell_type": "markdown",
   "metadata": {},
   "source": [
    "## Some examples of transformers included in Kosh\n",
    "\n",
    "Kosh comes with a few transformers\n",
    "\n",
    "### Numpy-related transformers\n",
    "\n",
    "* KoshSimpleNpCache(cache_dir=kosh_cache_dir, cache=True) does nothing but caches the passed arrays using numpy.savez rather than the default (pickled objects)\n",
    "* Take(cache_dir=kosh_cache_dir, cache=True, indices=[], axis=0, verbose=False) runs numpy.take. Will use mpi to split the indices over the available ranks, gather result on rank 0\n",
    "* Delta(cache_dir=kosh_cache_dir, cache=True,cache_dir=kosh_cache_dir, cache=True, axis=0, pad=None, pad_value=0, verbose=False) computes difference over an axis between consecutive strides, possibly padding at start or end\n",
    "\n",
    "### Scikit Learn related transformers\n",
    "\n",
    "see [Next Notebook](Example_05b_Transformers-SKL.ipynb)\n",
    "\n",
    "\n"
   ]
  }
 ],
 "metadata": {
  "kernelspec": {
   "display_name": "Kosh",
   "language": "python",
   "name": "kosh"
  },
  "language_info": {
   "codemirror_mode": {
    "name": "ipython",
    "version": 3
   },
   "file_extension": ".py",
   "mimetype": "text/x-python",
   "name": "python",
   "nbconvert_exporter": "python",
   "pygments_lexer": "ipython3",
   "version": "3.7.10"
  }
 },
 "nbformat": 4,
 "nbformat_minor": 4
}
