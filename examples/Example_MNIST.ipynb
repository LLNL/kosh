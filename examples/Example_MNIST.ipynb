{
 "cells": [
  {
   "cell_type": "markdown",
   "metadata": {},
   "source": [
    "# Using the MNIST dataset with Kosh\n",
    "\n",
    "Assumes pytorch example repo is clone at same level as kosh repo\n",
    "\n",
    "pytorch examples repo is [here](https://github.com/pytorch/examples.git)\n",
    "\n",
    "```\n",
    "git clone https://github.com/pytorch/examples ../../pytorch_examples\n",
    "cd ../../pytorch_examples/mnist\n",
    "python main.py\n",
    "```\n",
    "\n"
   ]
  },
  {
   "cell_type": "code",
   "execution_count": 1,
   "metadata": {},
   "outputs": [],
   "source": [
    "import os\n",
    "import kosh\n",
    "from  kosh import KoshLoader\n",
    "\n",
    "# Make sure local file is new sql file\n",
    "kosh_example_sql_file = \"kosh_mnist_example.sql\"\n",
    "    \n",
    "# Create db on file\n",
    "store = kosh.connect(kosh_example_sql_file, delete_all_contents=True)"
   ]
  },
  {
   "cell_type": "code",
   "execution_count": 2,
   "metadata": {},
   "outputs": [],
   "source": [
    "# Add MNST datasets to store\n",
    "train_set = store.create(name=\"train10k\", metadata={'project':\"MNIST\"})\n",
    "test_set = store.create(name=\"test\", metadata={'project':\"MNIST\"})"
   ]
  },
  {
   "cell_type": "code",
   "execution_count": 3,
   "metadata": {},
   "outputs": [
    {
     "data": {
      "text/plain": [
       "'cf5ba05a29bd427984000be26883d78b'"
      ]
     },
     "execution_count": 3,
     "metadata": {},
     "output_type": "execute_result"
    }
   ],
   "source": [
    "# Associate files with datasets\n",
    "train_set.associate(\"../../pytorch_examples/data/MNIST/raw/train-images-idx3-ubyte\", mime_type=\"mnist\")\n",
    "test_set.associate(\"../../pytorch_examples/data/MNIST/raw/t10k-images-idx3-ubyte\", mime_type=\"mnist\")"
   ]
  },
  {
   "cell_type": "code",
   "execution_count": 4,
   "metadata": {},
   "outputs": [],
   "source": [
    "import struct\n",
    "import numpy\n",
    "import torch\n",
    "from torch.utils.data import Dataset\n",
    "from torchvision import datasets, transforms\n",
    "\n",
    "def load_from_mnst(uri, index):\n",
    "    with open(uri, \"rb\") as f:\n",
    "        magic, nitems = struct.unpack(\">2i\", f.read(8))\n",
    "        if magic == 2051:\n",
    "            rows, columns = struct.unpack(\">ii\", f.read(8))\n",
    "            #print(rows, columns)\n",
    "            item_size = rows*columns\n",
    "        else:\n",
    "            item_size = 1\n",
    "        offset = item_size*index\n",
    "        f.seek(offset, 1)\n",
    "        data = struct.unpack(\">{}b\".format(item_size), f.read(item_size))\n",
    "        if magic == 2051:\n",
    "            data = (numpy.array(data, dtype=numpy.float32)) / 255.\n",
    "            data.shape = (columns, rows, 1)\n",
    "        else:\n",
    "            data = numpy.array(data[0])\n",
    "    return data\n",
    "\n",
    "\n",
    "transform_init = transforms.Compose([\n",
    "                       transforms.ToTensor(),\n",
    "                       transforms.Normalize((0.1307,), (0.3081,))\n",
    "                   ])\n",
    "#transform_init = None\n",
    "class MNSTLoader(KoshLoader, Dataset):\n",
    "    types = {\"mnist\": [\"numpy\",]}\n",
    "    def __init__(self, obj, transform=transform_init):\n",
    "        KoshLoader.__init__(self,obj)\n",
    "        Dataset.__init__(self)\n",
    "        self.transform = transform\n",
    "\n",
    "    def __len__(self):\n",
    "        with open(self.obj.uri, \"rb\") as f:\n",
    "            magic, nitems = struct.unpack(\">2i\", f.read(8))\n",
    "        return nitems\n",
    "        \n",
    "    def __getitem__(self, key):\n",
    "        if isinstance(key, slice):\n",
    "            step = key.step\n",
    "            start = key.start\n",
    "            stop = key.stop\n",
    "            if step is None:\n",
    "                step = 1\n",
    "            if start is None:\n",
    "                start = 0\n",
    "            if stop is None:\n",
    "                stop = len(self)\n",
    "            r = range(start, stop, step)\n",
    "        else:\n",
    "            r = range(key, key+1)\n",
    "            \n",
    "        if torch.is_tensor(key):\n",
    "            key = key.tolist()\n",
    "            \n",
    "        out = ()\n",
    "        for index in r:\n",
    "            data = load_from_mnst(self.obj.uri, index)\n",
    "            lbl = self.obj.uri.replace(\"image\", \"label\").replace(\"idx3\", \"idx1\")\n",
    "            if os.path.exists(lbl):\n",
    "                lbl = load_from_mnst(lbl, index)\n",
    "            else:\n",
    "                lbl = None\n",
    "            if self.transform is not None:\n",
    "                data = self.transform(data)\n",
    "            out += ((data, lbl),)\n",
    "        if len(out) > 1:\n",
    "            return out\n",
    "        else:\n",
    "            return out[0]\n",
    "\n",
    "    def extract(self, *args, **kargs):\n",
    "        feature = self.feature\n",
    "        if not feature in self.list_features():\n",
    "            raise RuntimeError(\"unknow feature: {}\".format(feature))\n",
    "\n",
    "        if len(args) == 0:\n",
    "            data = self[:]\n",
    "        else:\n",
    "            data = self[args]\n",
    "        if feature == \"image\":\n",
    "            return [d[0] for d in data]\n",
    "        elif feature == \"label\":\n",
    "            return [d[1] for d in data]\n",
    "        else:\n",
    "            return data\n",
    "            \n",
    "    def list_features(self):\n",
    "        return [\"image\", \"label\", \"both\"]\n",
    "\n",
    "store.add_loader(MNSTLoader)"
   ]
  },
  {
   "cell_type": "code",
   "execution_count": 5,
   "metadata": {},
   "outputs": [
    {
     "data": {
      "text/plain": [
       "['image', 'label', 'both']"
      ]
     },
     "execution_count": 5,
     "metadata": {},
     "output_type": "execute_result"
    }
   ],
   "source": [
    "train_set.list_features()"
   ]
  },
  {
   "cell_type": "code",
   "execution_count": 6,
   "metadata": {},
   "outputs": [
    {
     "name": "stdout",
     "output_type": "stream",
     "text": [
      "<bound method KoshExecutionGraph.__getitem__ of <kosh.exec_graphs.core.KoshExecutionGraph object at 0x2aaab53f1f28>>\n",
      "2\n"
     ]
    },
    {
     "data": {
      "text/plain": [
       "<matplotlib.image.AxesImage at 0x2aab31fa60f0>"
      ]
     },
     "execution_count": 6,
     "metadata": {},
     "output_type": "execute_result"
    },
    {
     "data": {
      "image/png": "[encoded data removed]",
      "text/plain": [
       "<Figure size 432x288 with 1 Axes>"
      ]
     },
     "metadata": {
      "needs_background": "light"
     },
     "output_type": "display_data"
    }
   ],
   "source": [
    "feature = train_set[\"both\"]\n",
    "print(feature.__getitem__)\n",
    "indx = 5\n",
    "img, lbl = feature\n",
    "print(lbl)\n",
    "%matplotlib inline\n",
    "import matplotlib.pyplot as plt\n",
    "plt.imshow(img[0], cmap=\"gray\")\n",
    "#train_img.open()"
   ]
  },
  {
   "cell_type": "code",
   "execution_count": 7,
   "metadata": {},
   "outputs": [
    {
     "data": {
      "text/plain": [
       "tensor(1.1795)"
      ]
     },
     "execution_count": 7,
     "metadata": {},
     "output_type": "execute_result"
    }
   ],
   "source": [
    "feature[5][0].max()"
   ]
  },
  {
   "cell_type": "code",
   "execution_count": 8,
   "metadata": {},
   "outputs": [],
   "source": [
    "i5 = train_set.open()[5:8]"
   ]
  },
  {
   "cell_type": "code",
   "execution_count": 9,
   "metadata": {},
   "outputs": [
    {
     "data": {
      "text/plain": [
       "torch.Tensor"
      ]
     },
     "execution_count": 9,
     "metadata": {},
     "output_type": "execute_result"
    }
   ],
   "source": [
    "type(i5[-1][0])"
   ]
  },
  {
   "cell_type": "code",
   "execution_count": 10,
   "metadata": {},
   "outputs": [],
   "source": [
    "from torch.utils.data import DataLoader\n",
    "\n",
    "dataloader = DataLoader(train_set.open(), batch_size=4,\n",
    "                        shuffle=True, num_workers=4)\n",
    "\n"
   ]
  },
  {
   "cell_type": "code",
   "execution_count": 11,
   "metadata": {},
   "outputs": [
    {
     "name": "stdout",
     "output_type": "stream",
     "text": [
      "Train Epoch: 1 [0/60000 (0%)]\tLoss: 2.302874\n",
      "Train Epoch: 1 [1280/60000 (2%)]\tLoss: 2.300832\n",
      "Train Epoch: 1 [2560/60000 (4%)]\tLoss: 2.290337\n",
      "Train Epoch: 1 [3840/60000 (6%)]\tLoss: 2.292227\n",
      "Train Epoch: 1 [5120/60000 (9%)]\tLoss: 2.272207\n",
      "Train Epoch: 1 [6400/60000 (11%)]\tLoss: 2.272370\n",
      "Train Epoch: 1 [7680/60000 (13%)]\tLoss: 2.268802\n",
      "Train Epoch: 1 [8960/60000 (15%)]\tLoss: 2.240577\n",
      "Train Epoch: 1 [10240/60000 (17%)]\tLoss: 2.252538\n",
      "Train Epoch: 1 [11520/60000 (19%)]\tLoss: 2.219723\n",
      "Train Epoch: 1 [12800/60000 (21%)]\tLoss: 2.195791\n",
      "Train Epoch: 1 [14080/60000 (23%)]\tLoss: 2.125459\n",
      "Train Epoch: 1 [15360/60000 (26%)]\tLoss: 2.081810\n",
      "Train Epoch: 1 [16640/60000 (28%)]\tLoss: 2.006086\n",
      "Train Epoch: 1 [17920/60000 (30%)]\tLoss: 1.864805\n",
      "Train Epoch: 1 [19200/60000 (32%)]\tLoss: 1.845656\n",
      "Train Epoch: 1 [20480/60000 (34%)]\tLoss: 1.726316\n",
      "Train Epoch: 1 [21760/60000 (36%)]\tLoss: 1.374224\n",
      "Train Epoch: 1 [23040/60000 (38%)]\tLoss: 1.349322\n",
      "Train Epoch: 1 [24320/60000 (41%)]\tLoss: 1.199437\n",
      "Train Epoch: 1 [25600/60000 (43%)]\tLoss: 1.216144\n",
      "Train Epoch: 1 [26880/60000 (45%)]\tLoss: 1.102283\n",
      "Train Epoch: 1 [28160/60000 (47%)]\tLoss: 1.142728\n",
      "Train Epoch: 1 [29440/60000 (49%)]\tLoss: 1.470057\n",
      "Train Epoch: 1 [30720/60000 (51%)]\tLoss: 0.961174\n",
      "Train Epoch: 1 [32000/60000 (53%)]\tLoss: 1.040883\n",
      "Train Epoch: 1 [33280/60000 (55%)]\tLoss: 0.899530\n",
      "Train Epoch: 1 [34560/60000 (58%)]\tLoss: 0.983719\n",
      "Train Epoch: 1 [35840/60000 (60%)]\tLoss: 0.888134\n",
      "Train Epoch: 1 [37120/60000 (62%)]\tLoss: 0.701535\n",
      "Train Epoch: 1 [38400/60000 (64%)]\tLoss: 0.743076\n",
      "Train Epoch: 1 [39680/60000 (66%)]\tLoss: 0.942278\n",
      "Train Epoch: 1 [40960/60000 (68%)]\tLoss: 0.699538\n",
      "Train Epoch: 1 [42240/60000 (70%)]\tLoss: 0.621462\n",
      "Train Epoch: 1 [43520/60000 (72%)]\tLoss: 0.947228\n",
      "Train Epoch: 1 [44800/60000 (75%)]\tLoss: 0.630213\n",
      "Train Epoch: 1 [46080/60000 (77%)]\tLoss: 0.621725\n",
      "Train Epoch: 1 [47360/60000 (79%)]\tLoss: 0.640487\n",
      "Train Epoch: 1 [48640/60000 (81%)]\tLoss: 0.987289\n",
      "Train Epoch: 1 [49920/60000 (83%)]\tLoss: 0.952063\n",
      "Train Epoch: 1 [51200/60000 (85%)]\tLoss: 0.743135\n",
      "Train Epoch: 1 [52480/60000 (87%)]\tLoss: 0.588410\n",
      "Train Epoch: 1 [53760/60000 (90%)]\tLoss: 0.620683\n",
      "Train Epoch: 1 [55040/60000 (92%)]\tLoss: 0.886654\n",
      "Train Epoch: 1 [56320/60000 (94%)]\tLoss: 0.507217\n",
      "Train Epoch: 1 [57600/60000 (96%)]\tLoss: 0.681192\n",
      "Train Epoch: 1 [58880/60000 (98%)]\tLoss: 0.735054\n",
      "\n",
      "Test set: Average loss: 0.6328, Accuracy: 7984/10000 (80%)\n",
      "\n"
     ]
    }
   ],
   "source": [
    "# Stolen from pytorch example mnist\n",
    "import torch.nn as nn\n",
    "import torch.optim as optim\n",
    "import torch.nn.functional as F\n",
    "\n",
    "\n",
    "use_cuda = False\n",
    "class Net(nn.Module):\n",
    "    def __init__(self):\n",
    "        super(Net, self).__init__()\n",
    "        self.conv1 = nn.Conv2d(1, 20, 5, 1)\n",
    "        self.conv2 = nn.Conv2d(20, 50, 5, 1)\n",
    "        self.fc1 = nn.Linear(4*4*50, 500)\n",
    "        self.fc2 = nn.Linear(500, 10)\n",
    "\n",
    "    def forward(self, x):\n",
    "        x = F.relu(self.conv1(x))\n",
    "        x = F.max_pool2d(x, 2, 2)\n",
    "        x = F.relu(self.conv2(x))\n",
    "        x = F.max_pool2d(x, 2, 2)\n",
    "        x = x.view(-1, 4*4*50)\n",
    "        x = F.relu(self.fc1(x))\n",
    "        x = self.fc2(x)\n",
    "        return F.log_softmax(x, dim=1)\n",
    "\n",
    "    \n",
    "def train(args, model, device, train_loader, optimizer, epoch):\n",
    "    model.train()\n",
    "    for batch_idx, (data, target) in enumerate(train_loader):\n",
    "        data, target = data.to(device), target.to(device)\n",
    "        optimizer.zero_grad()\n",
    "        output = model(data)\n",
    "        loss = F.nll_loss(output, target)\n",
    "        loss.backward()\n",
    "        optimizer.step()\n",
    "        if batch_idx % args.log_interval == 0:\n",
    "            print('Train Epoch: {} [{}/{} ({:.0f}%)]\\tLoss: {:.6f}'.format(\n",
    "                epoch, batch_idx * len(data), len(train_loader.dataset),\n",
    "                100. * batch_idx / len(train_loader), loss.item()))\n",
    "\n",
    "def test(args, model, device, test_loader):\n",
    "    model.eval()\n",
    "    test_loss = 0\n",
    "    correct = 0\n",
    "    with torch.no_grad():\n",
    "        for data, target in test_loader:\n",
    "            data, target = data.to(device), target.to(device)\n",
    "            output = model(data)\n",
    "            test_loss += F.nll_loss(output, target, reduction='sum').item() # sum up batch loss\n",
    "            pred = output.argmax(dim=1, keepdim=True) # get the index of the max log-probability\n",
    "            correct += pred.eq(target.view_as(pred)).sum().item()\n",
    "\n",
    "    test_loss /= len(test_loader.dataset)\n",
    "\n",
    "    print('\\nTest set: Average loss: {:.4f}, Accuracy: {}/{} ({:.0f}%)\\n'.format(\n",
    "        test_loss, correct, len(test_loader.dataset),\n",
    "        100. * correct / len(test_loader.dataset)))\n",
    "\n",
    "    # Training settings\n",
    "import argparse\n",
    "parser = argparse.ArgumentParser(description='PyTorch MNIST Example')\n",
    "parser.add_argument('--batch-size', type=int, default=64, metavar='N',\n",
    "                    help='input batch size for training (default: 64)')\n",
    "parser.add_argument('--test-batch-size', type=int, default=1000, metavar='N',\n",
    "                    help='input batch size for testing (default: 1000)')\n",
    "parser.add_argument('--epochs', type=int, default=1, metavar='N',\n",
    "                    help='number of epochs to train (default: 1)')\n",
    "parser.add_argument('--lr', type=float, default=0.01, metavar='LR',\n",
    "                    help='learning rate (default: 0.01)')\n",
    "parser.add_argument('--momentum', type=float, default=0.5, metavar='M',\n",
    "                    help='SGD momentum (default: 0.5)')\n",
    "parser.add_argument('--no-cuda', action='store_true', default=False,\n",
    "                    help='disables CUDA training')\n",
    "parser.add_argument('--seed', type=int, default=1, metavar='S',\n",
    "                    help='random seed (default: 1)')\n",
    "parser.add_argument('--log-interval', type=int, default=20, metavar='N',\n",
    "                    help='how many batches to wait before logging training status')\n",
    "\n",
    "parser.add_argument('--save-model', action='store_true', default=False,\n",
    "                    help='For Saving the current Model')\n",
    "args = parser.parse_args(())\n",
    "use_cuda = not args.no_cuda and torch.cuda.is_available()\n",
    "torch.manual_seed(args.seed)\n",
    "\n",
    "device = torch.device(\"cuda\" if use_cuda else \"cpu\")\n",
    "kwargs = {'num_workers': 1, 'pin_memory': True} if use_cuda else {}\n",
    "\n",
    "train_loader = torch.utils.data.DataLoader(\n",
    "    train_set.open(),\n",
    "    batch_size=args.batch_size, shuffle=True, **kwargs)\n",
    "test_loader = torch.utils.data.DataLoader(\n",
    "    test_set.open(),\n",
    "    batch_size=args.test_batch_size, shuffle=True, **kwargs)\n",
    "\n",
    "model = Net().to(device)\n",
    "optimizer = optim.SGD(model.parameters(), lr=args.lr, momentum=args.momentum)\n",
    "\n",
    "for epoch in range(1, args.epochs + 1):\n",
    "    train(args, model, device, train_loader, optimizer, epoch)\n",
    "    test(args, model, device, test_loader)\n",
    "\n"
   ]
  }
 ],
 "metadata": {
  "kernelspec": {
   "display_name": "Kosh",
   "language": "python",
   "name": "kosh"
  },
  "language_info": {
   "codemirror_mode": {
    "name": "ipython",
    "version": 3
   },
   "file_extension": ".py",
   "mimetype": "text/x-python",
   "name": "python",
   "nbconvert_exporter": "python",
   "pygments_lexer": "ipython3",
   "version": "3.7.10"
  }
 },
 "nbformat": 4,
 "nbformat_minor": 4
}
