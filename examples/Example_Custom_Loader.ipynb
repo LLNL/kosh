{
 "cells": [
  {
   "cell_type": "markdown",
   "metadata": {},
   "source": [
    "# Creating a loader with Kosh\n",
    "\n",
    "In this example we will create a custom loader for some ASCII representation\n",
    "\n",
    "The structure is\n",
    "* Headers at the begining of the file starting with #\n",
    "* *#* varname vs axis\n",
    " * indicates new variable with name `varname`\n",
    "* var_value axis_value\n",
    " * repeated n times\n",
    "* end\n",
    " * marks end of the current variable\n",
    "\n",
    "We will assume the user already has functions to read the data in. These can be found in the [some_user_io_functions.py](some_user_io_functions.py) file.\n",
    "\n",
    "The function to read data in is called `load_variable_from_file`, the one to list the features in the file is called `get_variable_names`."
   ]
  },
  {
   "cell_type": "code",
   "execution_count": 1,
   "metadata": {},
   "outputs": [],
   "source": [
    "import os\n",
    "import kosh\n",
    "\n",
    "# Make sure local file is new sql file\n",
    "kosh_example_sql_file = \"my_store.sql\"\n",
    "    \n",
    "# Create db on file\n",
    "store = kosh.connect(kosh_example_sql_file, delete_all_contents=True)"
   ]
  },
  {
   "cell_type": "code",
   "execution_count": 2,
   "metadata": {},
   "outputs": [],
   "source": [
    "# Add dataset to the store\n",
    "sample = store.create(name=\"example\", metadata={'project':\"example\"})"
   ]
  },
  {
   "cell_type": "code",
   "execution_count": 3,
   "metadata": {},
   "outputs": [
    {
     "data": {
      "text/plain": [
       "'f17daf05c9204a868b642e7b178a3c53'"
      ]
     },
     "execution_count": 3,
     "metadata": {},
     "output_type": "execute_result"
    }
   ],
   "source": [
    "# Associate file with datasets\n",
    "sample.associate(\"example.ultra\", mime_type=\"custom\")"
   ]
  },
  {
   "cell_type": "markdown",
   "metadata": {},
   "source": [
    "Let's create our `CustomLoader` inheriting from `kosh.KoshLoader`\n",
    "\n",
    "For this we will need to:\n",
    "\n",
    "* register the types we can read at the class level (not in `__init__`) and the format each type can be exported as.\n",
    " * types : { \"custom\" : [\"numpy\",] }\n",
    " * **IMPORTANT** the keys in this dictionary is what Kosh uses to tie the loader to a **mime_type**\n",
    "* implement the `extract` function to read data in\n",
    " * desired feature is in `self.feature`\n",
    " * potential keywords are in: `self._user_passed_parameters[1]`\n",
    " * kosh object describing the source is in `self.obj` (can query its attributes if desired)\n",
    " * source uri is at: `self.obj.uri`\n",
    " * The function to read a variable from a file is: `load_variable_from_file`\n",
    "* implement the `list_features(self)` function, using the `get_variable_names` helper function.\n",
    "* optionally implement the `describe_feature(self, feature)`\n"
   ]
  },
  {
   "cell_type": "code",
   "execution_count": 4,
   "metadata": {},
   "outputs": [],
   "source": [
    "import sys, os\n",
    "sys.path.append(\".\")\n",
    "from some_user_io_functions import load_variable_from_file, get_variable_names"
   ]
  },
  {
   "cell_type": "markdown",
   "metadata": {},
   "source": [
    "Let's query the function documentation"
   ]
  },
  {
   "cell_type": "code",
   "execution_count": 5,
   "metadata": {},
   "outputs": [
    {
     "data": {
      "text/plain": [
       "\u001b[0;31mSignature:\u001b[0m \u001b[0mload_variable_from_file\u001b[0m\u001b[0;34m(\u001b[0m\u001b[0mfilepath\u001b[0m\u001b[0;34m,\u001b[0m \u001b[0mvariable_names\u001b[0m\u001b[0;34m)\u001b[0m\u001b[0;34m\u001b[0m\u001b[0;34m\u001b[0m\u001b[0m\n",
       "\u001b[0;31mDocstring:\u001b[0m\n",
       "Load the variable 'variable_name' for a file at filepath\n",
       ":param filepath: path to the file to read\n",
       ":type filepath: str\n",
       ":param variable_names: Name of the variable(s) to read in file\n",
       ":type variable_names: str or list\n",
       ":return: A numpy array containing the variable(s) values\n",
       ":rtype: numpy.ndarray\n",
       "\u001b[0;31mFile:\u001b[0m      ~/git/kosh/examples/some_user_io_functions.py\n",
       "\u001b[0;31mType:\u001b[0m      function\n"
      ]
     },
     "metadata": {},
     "output_type": "display_data"
    }
   ],
   "source": [
    "load_variable_from_file?"
   ]
  },
  {
   "cell_type": "code",
   "execution_count": 6,
   "metadata": {},
   "outputs": [],
   "source": [
    "from kosh import KoshLoader\n",
    "import numpy\n",
    "\n",
    "class CustomLoader(KoshLoader):\n",
    "    types ={\"custom\": [\"numpy\", ]}  # keys ties things back to mime_type in associate function\n",
    "    def extract(self, *args, **kargs):\n",
    "        return load_variable_from_file(self.obj.uri, self.feature)\n",
    "        \n",
    "    def list_features(self):\n",
    "        return get_variable_names(self.obj.uri)\n",
    "    \n",
    "    def describe_feature(self, feature):\n",
    "        var = load_variable_from_file(self.obj.uri, feature)\n",
    "        info = {\"name\": feature, \"size\": var.shape}\n",
    "        return info\n"
   ]
  },
  {
   "cell_type": "markdown",
   "metadata": {},
   "source": [
    "At this point we need to register/[add](https://lc.llnl.gov/kosh/autoapi/kosh/core/index.html#kosh.core.KoshStoreClass.add_loader) our loader with the store (let's save it in the store as well)."
   ]
  },
  {
   "cell_type": "code",
   "execution_count": 7,
   "metadata": {},
   "outputs": [],
   "source": [
    "store.add_loader(CustomLoader)"
   ]
  },
  {
   "cell_type": "markdown",
   "metadata": {},
   "source": [
    "We can now [query](https://lc.llnl.gov/kosh/autoapi/kosh/core/index.html#kosh.core.KoshDataset.list_features) our dataset, as explained in the [previous](04_Associating_and_Reading_Data.ipynb) notebook."
   ]
  },
  {
   "cell_type": "code",
   "execution_count": 8,
   "metadata": {},
   "outputs": [
    {
     "name": "stdout",
     "output_type": "stream",
     "text": [
      "['time', 'energy', 'var2']\n"
     ]
    }
   ],
   "source": [
    "print(sample.list_features())"
   ]
  },
  {
   "cell_type": "code",
   "execution_count": 9,
   "metadata": {},
   "outputs": [
    {
     "data": {
      "text/plain": [
       "{'name': 'energy', 'size': (8,)}"
      ]
     },
     "execution_count": 9,
     "metadata": {},
     "output_type": "execute_result"
    }
   ],
   "source": [
    "sample.describe_feature(\"energy\")"
   ]
  },
  {
   "cell_type": "markdown",
   "metadata": {},
   "source": [
    "Or extract its features"
   ]
  },
  {
   "cell_type": "code",
   "execution_count": 10,
   "metadata": {},
   "outputs": [
    {
     "name": "stdout",
     "output_type": "stream",
     "text": [
      "[0.6 0.7 0.8 0.6 0.5 0.2 0.1 0.6]\n"
     ]
    }
   ],
   "source": [
    "print(sample.get(\"energy\"))"
   ]
  }
 ],
 "metadata": {
  "kernelspec": {
   "display_name": "Kosh",
   "language": "python",
   "name": "kosh"
  },
  "language_info": {
   "codemirror_mode": {
    "name": "ipython",
    "version": 3
   },
   "file_extension": ".py",
   "mimetype": "text/x-python",
   "name": "python",
   "nbconvert_exporter": "python",
   "pygments_lexer": "ipython3",
   "version": "3.7.10"
  }
 },
 "nbformat": 4,
 "nbformat_minor": 4
}
