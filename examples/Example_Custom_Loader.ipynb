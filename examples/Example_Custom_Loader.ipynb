{
 "cells": [
  {
   "cell_type": "markdown",
   "metadata": {},
   "source": [
    "# Creating a loader with Kosh"
   ]
  },
  {
   "cell_type": "code",
   "execution_count": 1,
   "metadata": {},
   "outputs": [],
   "source": [
    "import os\n",
    "import kosh\n",
    "from  kosh import KoshLoader\n",
    "\n",
    "# Make sure local file is new sql file\n",
    "kosh_example_sql_file = \"kosh_ultra_example.sql\"\n",
    "    \n",
    "# Create db on file\n",
    "store = kosh.create_new_db(kosh_example_sql_file)"
   ]
  },
  {
   "cell_type": "code",
   "execution_count": 2,
   "metadata": {},
   "outputs": [],
   "source": [
    "# Add MNST datasets to store\n",
    "sample = store.create(name=\"example\", metadata={'project':\"example\"})\n"
   ]
  },
  {
   "cell_type": "code",
   "execution_count": 3,
   "metadata": {},
   "outputs": [
    {
     "data": {
      "text/plain": [
       "'3e0555ec0be8426880610bf5be587f47'"
      ]
     },
     "execution_count": 3,
     "metadata": {},
     "output_type": "execute_result"
    }
   ],
   "source": [
    "# Associate files with datasets\n",
    "sample.associate(\"example.ultra\", mime_type=\"my_ultra\")"
   ]
  },
  {
   "cell_type": "code",
   "execution_count": 4,
   "metadata": {},
   "outputs": [],
   "source": [
    "import numpy\n",
    "\n",
    "class MyUltraLoader(KoshLoader):\n",
    "    types ={\"my_ultra\": [\"numpy\", ]}\n",
    "    def load_from_ultra(self, variable):\n",
    "        if not isinstance(variable, (list,tuple)):  # only one variable requested\n",
    "            variable = [variable,]\n",
    "        variables = [[],] * len(variable)\n",
    "        previous_line = \"\"\n",
    "        var_names = None\n",
    "        with open(self.obj.uri, \"rb\") as f:\n",
    "            for line in f.readlines():\n",
    "                # Skip headers\n",
    "                line = line.decode(\"utf-8\")\n",
    "                if line[0]==\"#\" or line.strip()==\"end\":\n",
    "                    previous_line = line\n",
    "                    var_names = None\n",
    "                    continue\n",
    "                if var_names is None:\n",
    "                    var_names = previous_line.split()[1:]\n",
    "                    # clean up name list\n",
    "                    while \"vs\" in var_names:\n",
    "                        var_names.remove(\"vs\")\n",
    "                sp = line.split()\n",
    "                for ivar, name in enumerate(variable):\n",
    "                    if name in var_names:\n",
    "                        index = var_names.index(name)\n",
    "                        variables[ivar].append(float(sp[index]))\n",
    "        # we're done reading these variables, co\n",
    "        for ivar in range(len(variables)):\n",
    "            if len(variables[ivar]) > 0 and isinstance(variable[ivar], list):\n",
    "                variables[ivar] = numpy.array(variables[ivar])\n",
    "        if len(variables) > 1:\n",
    "            return variables\n",
    "        else:  # only one variable read in\n",
    "            return variables[0]\n",
    "        \n",
    "    def __init__(self, obj):\n",
    "        super(MyUltraLoader, self).__init__(obj)\n",
    "\n",
    "    def extract(self, *args, **kargs):\n",
    "        return self.load_from_ultra(self.feature)\n",
    "        \n",
    "    def list_features(self):\n",
    "        variables = set()\n",
    "        with open(self.obj.uri, \"r\") as f:\n",
    "            previous = \"\"\n",
    "            for line in f.readlines():\n",
    "                if line[0] == \"#\":\n",
    "                    previous = line\n",
    "                    var_names = None\n",
    "                    continue\n",
    "                if var_names is not None:\n",
    "                    continue\n",
    "                var_names = previous.split()[1:]\n",
    "                while \"vs\" in var_names:\n",
    "                    var_names.remove(\"vs\")\n",
    "                for name in var_names:\n",
    "                    variables.add(name)\n",
    "        return list(variables)    \n",
    "\n",
    "store.add_loader(MyUltraLoader)"
   ]
  },
  {
   "cell_type": "code",
   "execution_count": 5,
   "metadata": {},
   "outputs": [
    {
     "name": "stdout",
     "output_type": "stream",
     "text": [
      "['var2', 'energy', 'time']\n"
     ]
    }
   ],
   "source": [
    "print(sample.list_features())"
   ]
  },
  {
   "cell_type": "code",
   "execution_count": 6,
   "metadata": {},
   "outputs": [
    {
     "name": "stdout",
     "output_type": "stream",
     "text": [
      "[0.6, 0.7, 0.8, 0.6, 0.5, 0.2, 0.1, 0.6]\n"
     ]
    }
   ],
   "source": [
    "print(sample.get(\"energy\"))"
   ]
  }
 ],
 "metadata": {
  "kernelspec": {
   "display_name": "Kosh Environment",
   "language": "python",
   "name": "kosh"
  },
  "language_info": {
   "codemirror_mode": {
    "name": "ipython",
    "version": 3
   },
   "file_extension": ".py",
   "mimetype": "text/x-python",
   "name": "python",
   "nbconvert_exporter": "python",
   "pygments_lexer": "ipython3",
   "version": "3.6.5"
  }
 },
 "nbformat": 4,
 "nbformat_minor": 4
}
