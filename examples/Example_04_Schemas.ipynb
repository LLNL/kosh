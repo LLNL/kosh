{
 "cells": [
  {
   "cell_type": "markdown",
   "metadata": {},
   "source": [
    "# Using Schemas in Kosh\n",
    "\n",
    "This notebook shows how to use schema in Kosh to validate your metadata\n"
   ]
  },
  {
   "cell_type": "code",
   "execution_count": 1,
   "metadata": {},
   "outputs": [],
   "source": [
    "import kosh\n",
    "import os\n",
    "\n",
    "kosh_example_sql_file = \"kosh_schemas_example.sql\"\n",
    "\n",
    "# Create and open a new store (erase if exists)\n",
    "store = kosh.connect(kosh_example_sql_file, delete_all_contents=True)\n",
    "# create a dataset\n",
    "dataset = store.create()"
   ]
  },
  {
   "cell_type": "markdown",
   "metadata": {},
   "source": [
    "Let's create a schema to validate our metadata\n",
    "a schema object takes two dictionaries as input\n",
    "one for the required attributes and one for the optional attributes\n",
    "\n",
    "For each attributes we need to provide validation functions or valid values\n",
    " - If the \"validation\" is a callable it will be applied on values of the attribute and must pass and return True\n",
    " - If the validation is an instance of 'type' the attribute must be an instance of the validation type\n",
    " - Otherwise the value must match \"validation\"\n",
    " \n",
    " It is possible though to have multiple possible validations for a single attribute, simply define them in the dictionary as a list, if any validation passes the attribute is considered valid\n",
    " \n",
    "\n",
    "Let's create a validation schema that requires our datasets to have the attribute \"must\" with any value and allow for an attribute 'maybe' that must be one of 1, \"yes\" or True"
   ]
  },
  {
   "cell_type": "code",
   "execution_count": 2,
   "metadata": {},
   "outputs": [],
   "source": [
    "required = {\"must\": None}\n",
    "optional = {\"maybe\": [1, \"yes\"]}\n",
    "schema = kosh.KoshSchema(required, optional)"
   ]
  },
  {
   "cell_type": "markdown",
   "metadata": {},
   "source": [
    "Our current (blank) dataset will not validate, we can first try it as follow:"
   ]
  },
  {
   "cell_type": "code",
   "execution_count": 3,
   "metadata": {},
   "outputs": [
    {
     "name": "stdout",
     "output_type": "stream",
     "text": [
      "As expected, we failed to validate with error: Could not validate 9e0152167054428692bb87486de0f891\n",
      "1 required attribute errors: {'must': AttributeError('Object 9e0152167054428692bb87486de0f891 does not have must attribute')}\n",
      "0 optional attributes errors: {}\n"
     ]
    }
   ],
   "source": [
    "try:\n",
    "    schema.validate(dataset)\n",
    "except ValueError as err:\n",
    "    print(\"As expected, we failed to validate with error:\", err)"
   ]
  },
  {
   "cell_type": "code",
   "execution_count": 4,
   "metadata": {},
   "outputs": [
    {
     "data": {
      "text/plain": [
       "True"
      ]
     },
     "execution_count": 4,
     "metadata": {},
     "output_type": "execute_result"
    }
   ],
   "source": [
    "# Let's add the attribute \n",
    "dataset.must = \"I have must\"\n",
    "# Validation now passes\n",
    "schema.validate(dataset)"
   ]
  },
  {
   "cell_type": "markdown",
   "metadata": {},
   "source": [
    "Now let's have must as an integer"
   ]
  },
  {
   "cell_type": "code",
   "execution_count": 5,
   "metadata": {},
   "outputs": [
    {
     "name": "stdout",
     "output_type": "stream",
     "text": [
      "As expected, it now fails to validate with error: Could not validate 9e0152167054428692bb87486de0f891\n",
      "1 required attribute errors: {'must': ValueError('value I have must failed validation')}\n",
      "0 optional attributes errors: {}\n"
     ]
    }
   ],
   "source": [
    "required = {\"must\": int}\n",
    "optional = {\"maybe\": [1, \"yes\"]}\n",
    "schema = kosh.KoshSchema(required, optional)\n",
    "# it does not validate anymore\n",
    "try:\n",
    "    schema.validate(dataset)\n",
    "except ValueError as err:\n",
    "    print(\"As expected, it now fails to validate with error:\", err)"
   ]
  },
  {
   "cell_type": "code",
   "execution_count": 6,
   "metadata": {},
   "outputs": [
    {
     "data": {
      "text/plain": [
       "KOSH DATASET\n",
       "\tid: 9e0152167054428692bb87486de0f891\n",
       "\tname: Unnamed Dataset\n",
       "\tcreator: cdoutrix\n",
       "\n",
       "--- Attributes ---\n",
       "\tcreator: cdoutrix\n",
       "\tmust: I have must\n",
       "\tname: Unnamed Dataset\n",
       "--- Associated Data (0)---\n",
       "--- Ensembles (0)---\n",
       "\t[]\n",
       "--- Ensemble Attributes ---\n"
      ]
     },
     "execution_count": 6,
     "metadata": {},
     "output_type": "execute_result"
    }
   ],
   "source": [
    "dataset"
   ]
  },
  {
   "cell_type": "code",
   "execution_count": 7,
   "metadata": {},
   "outputs": [
    {
     "data": {
      "text/plain": [
       "True"
      ]
     },
     "execution_count": 7,
     "metadata": {},
     "output_type": "execute_result"
    }
   ],
   "source": [
    "# Let's fix this\n",
    "dataset.must = 5\n",
    "# It now validates\n",
    "schema.validate(dataset)"
   ]
  },
  {
   "cell_type": "code",
   "execution_count": 8,
   "metadata": {},
   "outputs": [
    {
     "data": {
      "text/plain": [
       "True"
      ]
     },
     "execution_count": 8,
     "metadata": {},
     "output_type": "execute_result"
    }
   ],
   "source": [
    "# Note that any extra attribute is ok but will not be checked for validation\n",
    "dataset.any = \"hi\"\n",
    "schema.validate(dataset)"
   ]
  },
  {
   "cell_type": "code",
   "execution_count": 9,
   "metadata": {},
   "outputs": [],
   "source": [
    "# We can now enforce this schema subsequently\n",
    "dataset.schema = schema"
   ]
  },
  {
   "cell_type": "code",
   "execution_count": 10,
   "metadata": {},
   "outputs": [
    {
     "name": "stdout",
     "output_type": "stream",
     "text": [
      "Failed to set attribute as it did not validate (must be int). Error: value 7.6 failed validation\n"
     ]
    }
   ],
   "source": [
    "# Now we cannot set `must` to a bad value\n",
    "try:\n",
    "    dataset.must = 7.6\n",
    "except ValueError as err:\n",
    "    print(\"Failed to set attribute as it did not validate (must be int). Error:\", err)"
   ]
  },
  {
   "cell_type": "code",
   "execution_count": 11,
   "metadata": {},
   "outputs": [
    {
     "data": {
      "text/plain": [
       "5"
      ]
     },
     "execution_count": 11,
     "metadata": {},
     "output_type": "execute_result"
    }
   ],
   "source": [
    "# Still at 5\n",
    "dataset.must"
   ]
  },
  {
   "cell_type": "markdown",
   "metadata": {},
   "source": [
    "Note that when setting the schema attribute all attributes of the dataset will be checked"
   ]
  },
  {
   "cell_type": "code",
   "execution_count": 12,
   "metadata": {},
   "outputs": [],
   "source": [
    "dataset2 = store.create()\n",
    "dataset2.must = 7.6\n",
    "try:\n",
    "  dataset2.schema = schema\n",
    "except: \n",
    "    pass"
   ]
  },
  {
   "cell_type": "code",
   "execution_count": 13,
   "metadata": {},
   "outputs": [
    {
     "name": "stdout",
     "output_type": "stream",
     "text": [
      "Optional attributes must validate as well. Error: Could not validate value 'b'\n"
     ]
    }
   ],
   "source": [
    "# Similarly optional attribute must validate\n",
    "try:\n",
    "    dataset.maybe = \"b\"\n",
    "except ValueError as err:\n",
    "    print(\"Optional attributes must validate as well. Error:\", err)"
   ]
  },
  {
   "cell_type": "code",
   "execution_count": 14,
   "metadata": {},
   "outputs": [],
   "source": [
    "dataset.maybe = \"yes\"\n",
    "dataset.maybe = 1"
   ]
  },
  {
   "cell_type": "markdown",
   "metadata": {},
   "source": [
    "Now sometimes we need more complex validation let's create a simple validation function"
   ]
  },
  {
   "cell_type": "code",
   "execution_count": 15,
   "metadata": {},
   "outputs": [],
   "source": [
    "def isYes(value):\n",
    "    if isinstance(value, str):\n",
    "        return value.lower()[0] == \"y\"\n",
    "    elif isinstance(value, int):\n",
    "        return value == 1\n",
    "    \n",
    "required = {\"must\": int}\n",
    "optional = {\"maybe\": isYes}\n",
    "schema = kosh.KoshSchema(required, optional)\n",
    "\n",
    "dataset.schema = schema\n",
    "dataset.maybe = \"y\""
   ]
  },
  {
   "cell_type": "markdown",
   "metadata": {},
   "source": [
    "we can also pass list of possible validations\n"
   ]
  },
  {
   "cell_type": "code",
   "execution_count": 16,
   "metadata": {},
   "outputs": [],
   "source": [
    "def isNo(value):\n",
    "    if isinstance(value, str):\n",
    "        return value.lower()[0] == \"n\"\n",
    "    elif isinstance(value, int):\n",
    "        return value == 0\n",
    "    \n",
    "required = {\"must\": int}\n",
    "optional = {\"maybe\": [isYes, isNo, \"oui\"]}\n",
    "schema = kosh.KoshSchema(required, optional)\n",
    "\n",
    "dataset.schema = schema\n",
    "dataset.maybe = \"N\"\n",
    "dataset.maybe = 'No'\n",
    "dataset.maybe = 'oui'\n",
    "dataset.maybe = 'Yes'"
   ]
  }
 ],
 "metadata": {
  "kernelspec": {
   "display_name": "Kosh Environment",
   "language": "python",
   "name": "kosh"
  },
  "language_info": {
   "codemirror_mode": {
    "name": "ipython",
    "version": 3
   },
   "file_extension": ".py",
   "mimetype": "text/x-python",
   "name": "python",
   "nbconvert_exporter": "python",
   "pygments_lexer": "ipython3",
   "version": "3.9.13"
  }
 },
 "nbformat": 4,
 "nbformat_minor": 4
}
