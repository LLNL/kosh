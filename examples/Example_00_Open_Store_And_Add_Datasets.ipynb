{
 "cells": [
  {
   "cell_type": "markdown",
   "metadata": {},
   "source": [
    "# Connecting to a Store and Adding Datasets\n",
    "\n",
    "In this Notebook we create a new store and add a few datasets to it.\n",
    "\n",
    "## Connect to store (using sina local file)\n",
    "\n",
    "First let's create an empty databse (with you as a single user)\n",
    "\n",
    "In a real application only admin user should have write permission to the file"
   ]
  },
  {
   "cell_type": "code",
   "execution_count": 1,
   "metadata": {},
   "outputs": [
    {
     "data": {
      "text/plain": [
       "<kosh.sina.core.KoshSinaStore at 0x2aaaba1e6860>"
      ]
     },
     "execution_count": 1,
     "metadata": {},
     "output_type": "execute_result"
    }
   ],
   "source": [
    "import os\n",
    "import sys\n",
    "import shlex\n",
    "from subprocess import Popen, PIPE\n",
    "import kosh\n",
    "\n",
    "kosh_example_sql_file = \"kosh_example.sql\"\n",
    "\n",
    "# Create a new store (erase if exists)\n",
    "kosh.create_new_db(kosh_example_sql_file)"
   ]
  },
  {
   "cell_type": "code",
   "execution_count": 2,
   "metadata": {},
   "outputs": [],
   "source": [
    "from  kosh import KoshStore\n",
    "import os\n",
    "\n",
    "# connect to store\n",
    "store = KoshStore(db_uri=kosh_example_sql_file)"
   ]
  },
  {
   "cell_type": "markdown",
   "metadata": {},
   "source": [
    "## Adding datasets to the store\n",
    "\n",
    "Let's add the first 10 runs"
   ]
  },
  {
   "cell_type": "code",
   "execution_count": 3,
   "metadata": {},
   "outputs": [
    {
     "name": "stdout",
     "output_type": "stream",
     "text": [
      "we found: 125 runs\n"
     ]
    },
    {
     "name": "stderr",
     "output_type": "stream",
     "text": [
      "/g/g19/cdoutrix/miniconda3/envs/kosh/lib/python3.6/site-packages/ipykernel_launcher.py:3: TqdmExperimentalWarning: Using `tqdm.autonotebook.tqdm` in notebook mode. Use `tqdm.tqdm` instead to force console mode (e.g. in jupyter console)\n",
      "  This is separate from the ipykernel package so we can avoid doing imports until\n"
     ]
    },
    {
     "data": {
      "application/vnd.jupyter.widget-view+json": {
       "model_id": "b79f71ca37f44051ae320b5d19318a6d",
       "version_major": 2,
       "version_minor": 0
      },
      "text/plain": [
       "HBox(children=(FloatProgress(value=0.0, max=10.0), HTML(value='')))"
      ]
     },
     "metadata": {},
     "output_type": "display_data"
    },
    {
     "name": "stdout",
     "output_type": "stream",
     "text": [
      "DS NAME: run_000\n",
      "DS NAME: run_001\n",
      "DS NAME: run_002\n",
      "DS NAME: run_003\n",
      "DS NAME: run_004\n",
      "DS NAME: run_005\n",
      "DS NAME: run_006\n",
      "DS NAME: run_007\n",
      "DS NAME: run_008\n",
      "DS NAME: run_009\n",
      "\n"
     ]
    }
   ],
   "source": [
    "import glob\n",
    "try:\n",
    "    from tqdm.autonotebook import tqdm\n",
    "except:\n",
    "    tqdm = list\n",
    "\n",
    "runs = glob.glob(\"sample_files/run*hdf5\")\n",
    "print(\"we found: {} runs\".format(len(runs)))\n",
    "\n",
    "for run in tqdm(runs[:10]):\n",
    "    name = os.path.basename(run).split(\".\")[0]\n",
    "    print(\"DS NAME:\", name)\n",
    "    # let's make sure it is unique, in case we run this cell multiple times\n",
    "    datasets = store.search(name=name)\n",
    "    if len(datasets) == 0:\n",
    "        store.create(name)\n",
    "    else:\n",
    "        print(\"we found {} datasets already matching this name\".format(len(datasets)))\n",
    "        print(datasets[0])\n"
   ]
  },
  {
   "cell_type": "markdown",
   "metadata": {},
   "source": [
    "## Adding attributes do a dataset\n",
    "\n",
    "For each of these runs let's add metadata"
   ]
  },
  {
   "cell_type": "code",
   "execution_count": 4,
   "metadata": {
    "scrolled": true
   },
   "outputs": [
    {
     "data": {
      "application/vnd.jupyter.widget-view+json": {
       "model_id": "d219578b47b547d2a783e316c13c737e",
       "version_major": 2,
       "version_minor": 0
      },
      "text/plain": [
       "HBox(children=(FloatProgress(value=0.0, max=10.0), HTML(value='')))"
      ]
     },
     "metadata": {},
     "output_type": "display_data"
    },
    {
     "name": "stdout",
     "output_type": "stream",
     "text": [
      "\n",
      "KOSH DATASET\n",
      "\tid: f21638d2201441f386d5b0e7ec6768da\n",
      "\tname:run_009\n",
      "\tcreator: cdoutrix\n",
      "\n",
      "--- Attributes ---\n",
      "\tcreator: cdoutrix\n",
      "\tname: run_009\n",
      "\tparam1: 1.96155866130105\n",
      "\tparam2: 0.598311636826357\n",
      "\tparam3: 1.6207983434392808\n",
      "\tparam4: 0.4540713849908521\n",
      "\tparam5: 1.0719082463618532\n",
      "\tparam6: E\n",
      "\tproject: Kosh Tutorial\n",
      "--- Associated Data (0)---\n",
      "\n"
     ]
    }
   ],
   "source": [
    "import random\n",
    "\n",
    "def create_metadata():\n",
    "    metadata = {\"param1\": random.random() * 2.,\n",
    "                \"param2\": random.random() * 1.5,\n",
    "                \"param3\": random.random() * 5,\n",
    "                \"param4\": random.random() * 3,\n",
    "                \"param5\": random.random() * 2.5,\n",
    "                \"param6\": chr(random.randint(65, 91)),\n",
    "               }\n",
    "    metadata[\"project\"] = \"Kosh Tutorial\"\n",
    "    return metadata\n",
    "\n",
    "pbar = tqdm(runs[:10])\n",
    "for run in pbar:\n",
    "    name = os.path.basename(run).split(\".\")[0]\n",
    "    # Retrieve dataset via name\n",
    "    dataset = store.search(name=name)[0]\n",
    "    # Let's create a few random attributes\n",
    "    metadata = create_metadata()\n",
    "    for attribute in metadata:\n",
    "        setattr(dataset, attribute, metadata[attribute])\n",
    "print(dataset)"
   ]
  },
  {
   "cell_type": "markdown",
   "metadata": {},
   "source": [
    "## Creating datasets with all the metadata at once.\n",
    "\n",
    "This speeds things up.\n",
    "\n",
    "We will also turn asynchronous mode on to speed up things further"
   ]
  },
  {
   "cell_type": "code",
   "execution_count": 5,
   "metadata": {},
   "outputs": [
    {
     "data": {
      "application/vnd.jupyter.widget-view+json": {
       "model_id": "c99964c687d74b228abd821bf6a3a7f4",
       "version_major": 2,
       "version_minor": 0
      },
      "text/plain": [
       "HBox(children=(FloatProgress(value=0.0, max=115.0), HTML(value='')))"
      ]
     },
     "metadata": {},
     "output_type": "display_data"
    },
    {
     "name": "stdout",
     "output_type": "stream",
     "text": [
      "\n",
      "KOSH DATASET\n",
      "\tid: e8d619a0a6b9412794ad0f1a8bec35fd\n",
      "\tname:run_124\n",
      "\tcreator: cdoutrix\n",
      "\n",
      "--- Attributes ---\n",
      "\tcreator: cdoutrix\n",
      "\tname: run_124\n",
      "\tparam1: 0.9251686219432851\n",
      "\tparam2: 0.6843459510042346\n",
      "\tparam3: 2.6061415205754077\n",
      "\tparam4: 2.0618942190739373\n",
      "\tparam5: 1.6820464799539523\n",
      "\tparam6: Q\n",
      "\tproject: Kosh Tutorial\n",
      "--- Associated Data (0)---\n",
      "\n"
     ]
    }
   ],
   "source": [
    "store.synchronous(False)\n",
    "pbar = tqdm(runs[10:])\n",
    "for i, run in enumerate(pbar):\n",
    "    name = os.path.basename(run).split(\".\")[0]\n",
    "    #pbar.set_description(\"run: {:45}\".format(name))\n",
    "    # let's make sure it is unique\n",
    "    #datasets = store.search(name=name)\n",
    "    datasets=[]\n",
    "    if len(datasets) == 0:\n",
    "        metadata = create_metadata()\n",
    "        dataset = store.create(name, metadata=metadata)\n",
    "    else:\n",
    "        print(\"we found {} datasets already matching this name\".format(len(datasets)))\n",
    "        print(datasets[0])\n",
    "print(dataset)\n",
    "# We need to sync the store to ensure it's written to the database\n",
    "store.sync()"
   ]
  },
  {
   "cell_type": "markdown",
   "metadata": {},
   "source": [
    "## Adding/Modifying/Deleting Dataset attributes"
   ]
  },
  {
   "cell_type": "code",
   "execution_count": 6,
   "metadata": {},
   "outputs": [
    {
     "name": "stdout",
     "output_type": "stream",
     "text": [
      "['creator', 'name', 'param1', 'param2', 'param3', 'param4', 'param5', 'param6', 'project']\n"
     ]
    }
   ],
   "source": [
    "# List existing attributes\n",
    "print(dataset.listattributes())"
   ]
  },
  {
   "cell_type": "code",
   "execution_count": 7,
   "metadata": {},
   "outputs": [
    {
     "name": "stdout",
     "output_type": "stream",
     "text": [
      "['creator', 'name', 'new_attribute', 'param1', 'param2', 'param3', 'param4', 'param5', 'param6', 'project']\n",
      "new\n"
     ]
    }
   ],
   "source": [
    "# Create a new attribute\n",
    "dataset.new_attribute = \"new\"\n",
    "print(dataset.listattributes())\n",
    "print(dataset.new_attribute)"
   ]
  },
  {
   "cell_type": "code",
   "execution_count": 8,
   "metadata": {},
   "outputs": [
    {
     "name": "stdout",
     "output_type": "stream",
     "text": [
      "changed\n"
     ]
    }
   ],
   "source": [
    "# modify an attribute\n",
    "dataset.new_attribute = \"changed\"\n",
    "print(dataset.new_attribute)"
   ]
  },
  {
   "cell_type": "code",
   "execution_count": 9,
   "metadata": {},
   "outputs": [
    {
     "name": "stdout",
     "output_type": "stream",
     "text": [
      "['creator', 'name', 'new_attribute', 'param1', 'param2', 'param3', 'param4', 'param5', 'param6', 'project', 'yet_another_new_attribute']\n",
      "changed_again\n",
      "yana\n"
     ]
    }
   ],
   "source": [
    "# Modify/add many attributes at once (less db access, faster)\n",
    "dataset.update({\"new_attribute\": \"changed_again\", \"yet_another_new_attribute\":\"yana\"})\n",
    "print(dataset.listattributes())\n",
    "print(dataset.new_attribute)\n",
    "print(dataset.yet_another_new_attribute)"
   ]
  },
  {
   "cell_type": "code",
   "execution_count": 10,
   "metadata": {},
   "outputs": [
    {
     "name": "stdout",
     "output_type": "stream",
     "text": [
      "['creator', 'name', 'param1', 'param2', 'param3', 'param4', 'param5', 'param6', 'project']\n"
     ]
    }
   ],
   "source": [
    "# Deleting attributes\n",
    "del(dataset.new_attribute)\n",
    "del(dataset.yet_another_new_attribute)\n",
    "print(dataset.listattributes())"
   ]
  },
  {
   "cell_type": "markdown",
   "metadata": {},
   "source": [
    "## Querying the store"
   ]
  },
  {
   "cell_type": "code",
   "execution_count": 11,
   "metadata": {},
   "outputs": [
    {
     "name": "stdout",
     "output_type": "stream",
     "text": [
      "18\n"
     ]
    }
   ],
   "source": [
    "# we're using sina to search in range\n",
    "from sina.utils import DataRange\n",
    "datasets = store.search(param1=DataRange(min=1.7))\n",
    "print(len(datasets))"
   ]
  }
 ],
 "metadata": {
  "kernelspec": {
   "display_name": "Kosh Environment",
   "language": "python",
   "name": "kosh"
  },
  "language_info": {
   "codemirror_mode": {
    "name": "ipython",
    "version": 3
   },
   "file_extension": ".py",
   "mimetype": "text/x-python",
   "name": "python",
   "nbconvert_exporter": "python",
   "pygments_lexer": "ipython3",
   "version": "3.6.5"
  }
 },
 "nbformat": 4,
 "nbformat_minor": 4
}
