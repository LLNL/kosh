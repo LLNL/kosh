{
 "cells": [
  {
   "cell_type": "markdown",
   "metadata": {},
   "source": [
    "# Kosh and Sina Interoperability\n",
    "\n",
    "Table Of Content\n",
    "\n",
    "1. [Introduction](#Introduction)\n",
    "2. [Opening/Creating a New Store](#Opening/Creating-a-new-store.)\n",
    "3. [Adding Entries](#Adding-Entries)\n",
    "4. [Accessing a Record/Dataset with known id](#Accessing-a-Record/Dataset-with-known-id)\n",
    "5. [Getting Everything In the Store](#Getting-Everything-In-the-Store)\n",
    "6. [Deleting entries](#Deleting-Entries)\n",
    "7. [Updating Entries](#Updating-Entries)\n",
    "8. [Searching the Store](#Searching-the-Store)\n",
    "9. [Data](#Data)\n",
    "\n",
    "## Introduction\n",
    "\n",
    "In this notebook we will show you how Kosh and Sina are related and how to do things that both can do, along with things that are better suited for each software.\n",
    "\n",
    "We will also show how to make them work together.\n",
    "\n",
    "Kosh uses Sina under the hood, for the purpose of this notebooks, both Sina and Kosh will work off the **same** store.\n",
    "\n",
    "\n",
    "## Opening/Creating a new store.\n",
    "\n",
    "### SQLite\n",
    "\n",
    "Both Sina and Kosh will create a store for you if it does not exists.\n"
   ]
  },
  {
   "cell_type": "code",
   "execution_count": 1,
   "metadata": {},
   "outputs": [],
   "source": [
    "# Cleanup first in case we ran this before\n",
    "import os\n",
    "import sys\n",
    "if os.path.exists(\"my_sina_store.sql\"):\n",
    "    os.remove(\"my_sina_store.sql\")\n",
    "if os.path.exists(\"my_kosh_store.sql\"):\n",
    "    os.remove(\"my_kosh_store.sql\")\n",
    "\n",
    "# Sina\n",
    "import sina \n",
    "# New or existing store\n",
    "store_sina = sina.connect(\"my_sina_store.sql\")\n",
    "# If you want to clear the data in the store\n",
    "store_sina.delete_all_contents(force=\"SKIP PROMPT\")\n",
    "\n",
    "# Kosh\n",
    "import kosh\n",
    "# New or existing store\n",
    "store_kosh = kosh.connect(\"my_kosh_store.sql\")\n",
    "# You can also delete its content\n",
    "store_kosh.delete_all_contents(force=\"SKIP PROMPT\")\n",
    "# Kosh let you wipe the data on loading\n",
    "store_kosh = kosh.connect(\"my_kosh_store.sql\", delete_all_contents=True)\n",
    "\n",
    "# Kosh can open a Sina store, we will use it for the rest of this notebook\n",
    "# so that both Sina and Kosh operate on the same store\n",
    "# You will get a warning because this store does have have some of Kosh reserved features\n",
    "store_kosh = kosh.connect(\"my_sina_store.sql\")"
   ]
  },
  {
   "cell_type": "markdown",
   "metadata": {},
   "source": [
    "### MySql"
   ]
  },
  {
   "cell_type": "code",
   "execution_count": 2,
   "metadata": {},
   "outputs": [],
   "source": [
    "# Sina\n",
    "# mysql_store_sina = sina.connect(\"mysql://<your_username>@:/>read_default_file=<path_to_cnf>\")"
   ]
  },
  {
   "cell_type": "code",
   "execution_count": 3,
   "metadata": {},
   "outputs": [],
   "source": [
    "# Kosh\n",
    "# mysql_store_kosh = kosh.connect(\"mysql://<your_username>@:/>read_default_file=<path_to_cnf>\")"
   ]
  },
  {
   "cell_type": "markdown",
   "metadata": {},
   "source": [
    "### Casandra\n",
    "\n",
    "???\n",
    "\n",
    "**NOTE**\n",
    "\n",
    "Kosh and Sina store are mostly interchangeable, you can access the sina store and records directly from a Kosh store."
   ]
  },
  {
   "cell_type": "code",
   "execution_count": 4,
   "metadata": {},
   "outputs": [],
   "source": [
    "# You can access the Sina store from a Kosh store\n",
    "the_sina_store = store_kosh.get_sina_store()\n",
    "# Or the records\n",
    "records = store_kosh.get_sina_records()\n",
    "# or from the store\n",
    "records = the_sina_store.records"
   ]
  },
  {
   "cell_type": "markdown",
   "metadata": {},
   "source": [
    "## Adding Entries\n",
    "\n",
    "In Sina, entries to the database are called records. Records can be of many types.\n",
    "\n",
    "Unless specified otherwise, Kosh will create records of type `dataset` by default.\n",
    "\n",
    "### From Python"
   ]
  },
  {
   "cell_type": "code",
   "execution_count": 5,
   "metadata": {},
   "outputs": [],
   "source": [
    "# Sina\n",
    "from sina.model import Record\n",
    "sina_record = Record(id=\"my_id\", type=\"my_chosen_type\")\n",
    "store_sina.records.insert(sina_record)"
   ]
  },
  {
   "cell_type": "code",
   "execution_count": 6,
   "metadata": {},
   "outputs": [],
   "source": [
    "# Kosh\n",
    "# type will be 'dataset', random unique id will be generated\n",
    "kosh_dataset_record = store_kosh.create()\n",
    "\n",
    "# Picking id and type\n",
    "kosh_dataset_record_2 = store_kosh.create(id=\"some_id\", sina_type=\"some_type\")"
   ]
  },
  {
   "cell_type": "markdown",
   "metadata": {},
   "source": [
    "### From json files\n",
    "\n",
    "\n",
    "#### Sina\n",
    "Sina can also load records from json, you can read more about these [here](https://lc.llnl.gov/workflow/docs/sina/sina_schema.html#sina-schema)\n"
   ]
  },
  {
   "cell_type": "code",
   "execution_count": 7,
   "metadata": {},
   "outputs": [],
   "source": [
    "import sina"
   ]
  },
  {
   "cell_type": "code",
   "execution_count": 8,
   "metadata": {},
   "outputs": [],
   "source": [
    "sina_records = sina.utils.convert_json_to_records_and_relationships(\"sina_curve_rec.json\")\n",
    "for sina_record in sina_records:\n",
    "    store_sina.records.insert(sina_record)"
   ]
  },
  {
   "cell_type": "markdown",
   "metadata": {},
   "source": [
    "You can also *ingest* data outside of Python"
   ]
  },
  {
   "cell_type": "code",
   "execution_count": 9,
   "metadata": {},
   "outputs": [
    {
     "name": "stdout",
     "output_type": "stream",
     "text": [
      "/usr/bin/sh: sina: command not found\n"
     ]
    }
   ],
   "source": [
    "!sina ingest --database my_sina_store.sql sina_curve_rec_2.json"
   ]
  },
  {
   "cell_type": "code",
   "execution_count": 10,
   "metadata": {},
   "outputs": [],
   "source": [
    "rec = sina_records[0][0]"
   ]
  },
  {
   "cell_type": "markdown",
   "metadata": {},
   "source": [
    "#### Kosh\n",
    "\n",
    "Similarly, Kosh has its own `export`/`import` functions, that are using Sina's json format under the hood.\n",
    "\n",
    "Kosh can import Sina json files directly as well. \n",
    "\n",
    "The `match_attributes` is here to help resolving conflicts with other datasets already in the store.\n"
   ]
  },
  {
   "cell_type": "code",
   "execution_count": 11,
   "metadata": {},
   "outputs": [
    {
     "data": {
      "text/plain": [
       "[<kosh.core_sina.KoshSinaObject at 0x2aab4adb5810>]"
      ]
     },
     "execution_count": 11,
     "metadata": {},
     "output_type": "execute_result"
    },
    {
     "data": {
      "text/plain": [
       "\u001b[0;31mSignature:\u001b[0m \u001b[0mstore_kosh\u001b[0m\u001b[0;34m.\u001b[0m\u001b[0mimport_dataset\u001b[0m\u001b[0;34m(\u001b[0m\u001b[0mdatasets\u001b[0m\u001b[0;34m,\u001b[0m \u001b[0mmatch_attributes\u001b[0m\u001b[0;34m=\u001b[0m\u001b[0;34m[\u001b[0m\u001b[0;34m'name'\u001b[0m\u001b[0;34m]\u001b[0m\u001b[0;34m,\u001b[0m \u001b[0mmerge_handler\u001b[0m\u001b[0;34m=\u001b[0m\u001b[0;32mNone\u001b[0m\u001b[0;34m,\u001b[0m \u001b[0mmerge_handler_kargs\u001b[0m\u001b[0;34m=\u001b[0m\u001b[0;34m{\u001b[0m\u001b[0;34m}\u001b[0m\u001b[0;34m,\u001b[0m \u001b[0mskip_sina_record_sections\u001b[0m\u001b[0;34m=\u001b[0m\u001b[0;34m[\u001b[0m\u001b[0;34m]\u001b[0m\u001b[0;34m)\u001b[0m\u001b[0;34m\u001b[0m\u001b[0;34m\u001b[0m\u001b[0m\n",
       "\u001b[0;31mDocstring:\u001b[0m\n",
       "import datasets and ensembles that were exported from another store, or load them from a json file\n",
       ":param datasets: Dataset/Ensemble object exported by another store, a dataset/ensemble\n",
       "                 or a json file containing these.\n",
       ":type datasets: json file, json loaded object, KoshDataset or KoshEnsemble\n",
       ":param match_attributes: parameters on a dataset to use if this it is already in the store\n",
       "                         in general we can't use 'id' since it is randomly generated at creation\n",
       "                         If the \"same\" dataset was created in two different stores\n",
       "                         (e.g running the same code twice but with different Kosh store)\n",
       "                         the dataset would be identical in both store but with different ids.\n",
       "                         This helps you make sure you do not end up with duplicate entries.\n",
       "                         Warning, if this parameter is too lose too many datasets will match\n",
       "                         and the import will abort, if it's too tight duplicates will not be identified.\n",
       ":type match_attributes: list of str\n",
       ":param merge_handler: If found dataset has attributes with different values from imported dataset\n",
       "                         how do we handle this? Accept values are: None, \"conservative\", \"overwrite\",\n",
       "                         \"preserve\", or a function.\n",
       "                      The function decalartion should be:\n",
       "                                foo(store_dataset,\n",
       "                                    imported_dataset_attributes_dict,\n",
       "                                    section,\n",
       "                                    **merge_handler_kargs)\n",
       "                      Where `store_dataset` is the destination kosh dataset or its non-data dictionary section\n",
       "                            `imported_dataset_attributes_dict` is a dictionary of attributes/values\n",
       "                                                               of the dataset being imported\n",
       "                            `section` is the section of the record being updated\n",
       "                            `merge_handler_kargs` is a dict of passed for this function\n",
       "                      And return a dictionary of attributes/values the target_dataset should have.\n",
       ":type merge_handler: None, str, func\n",
       ":param merge_handler_kargs: If a function is passed to merge_handler these keywords arguments\n",
       "                            will be passed in addition to this store dataset and the imported dataset.\n",
       ":type merge_handler_kargs: dict\n",
       ":param skip_sina_record_sections: When importing a sina record, skip over these sections\n",
       ":type skip_sina_record_sections: list\n",
       ":return: list of datasets\n",
       ":rtype: list of KoshSinaDataset\n",
       "\u001b[0;31mFile:\u001b[0m      ~/miniconda3/envs/kosh/lib/python3.7/site-packages/kosh/store.py\n",
       "\u001b[0;31mType:\u001b[0m      method\n"
      ]
     },
     "metadata": {},
     "output_type": "display_data"
    }
   ],
   "source": [
    "store_kosh.import_dataset?\n",
    "datasets = store_kosh.import_dataset(\"sina_curve_rec.json\", match_attributes=[\"name\", \"id\"])\n",
    "datasets = store_kosh.import_dataset(\"kosh_dataset.json\", match_attributes=[\"name\", \"id\"])\n",
    "datasets = store_kosh.import_dataset(kosh_dataset_record.export(), match_attributes=[\"name\", \"id\"])\n",
    "list(datasets)"
   ]
  },
  {
   "cell_type": "markdown",
   "metadata": {},
   "source": [
    "## Accessing a Record/Dataset with known id"
   ]
  },
  {
   "cell_type": "code",
   "execution_count": 12,
   "metadata": {},
   "outputs": [
    {
     "name": "stdout",
     "output_type": "stream",
     "text": [
      "Model Record <id=obj1, type=some_type>\n",
      "KOSH DATASET\n",
      "\tid: an_id\n",
      "\tname: Unnamed Dataset\n",
      "\tcreator: anonymous\n",
      "\n",
      "--- Attributes ---\n",
      "\tcreator: anonymous\n",
      "\tname: Unnamed Dataset\n",
      "--- Associated Data (0)---\n",
      "--- Ensembles (0)---\n",
      "\t[]\n"
     ]
    }
   ],
   "source": [
    "# Sina\n",
    "my_rec = store_sina.records.get(\"obj1\")\n",
    "print(my_rec)\n",
    "\n",
    "# Kosh\n",
    "dataset = store_kosh.open(\"an_id\")\n",
    "print(dataset)"
   ]
  },
  {
   "cell_type": "markdown",
   "metadata": {},
   "source": [
    "## Getting Everything In the Store"
   ]
  },
  {
   "cell_type": "code",
   "execution_count": 13,
   "metadata": {},
   "outputs": [],
   "source": [
    "# Sina\n",
    "sina_all = store_sina.records.get_all()\n",
    "# sina_all = store_sina.records.find()\n",
    "\n",
    "# Kosh\n",
    "# Will only return \"datasets\" (not associated sources, see bellow)\n",
    "kosh_all = store_kosh.find()"
   ]
  },
  {
   "cell_type": "markdown",
   "metadata": {},
   "source": [
    "## Deleting Entries"
   ]
  },
  {
   "cell_type": "code",
   "execution_count": 14,
   "metadata": {},
   "outputs": [],
   "source": [
    "# Sina\n",
    "\n",
    "store_sina.records.delete(sina_record)\n",
    "# or id\n",
    "store_sina.records.delete(\"obj2\")"
   ]
  },
  {
   "cell_type": "code",
   "execution_count": 15,
   "metadata": {},
   "outputs": [],
   "source": [
    "# Kosh\n",
    "\n",
    "# Using the dataset itself\n",
    "store_kosh.delete(kosh_dataset_record)\n",
    "\n",
    "# Or the id\n",
    "store_kosh.delete(\"an_id\")"
   ]
  },
  {
   "cell_type": "markdown",
   "metadata": {},
   "source": [
    "## Updating Entries"
   ]
  },
  {
   "cell_type": "code",
   "execution_count": 16,
   "metadata": {},
   "outputs": [
    {
     "name": "stdout",
     "output_type": "stream",
     "text": [
      "{'pi': {'value': 3.14159}, 'pi_over_2': {'value': 1.57}}\n",
      "{}\n",
      "KOSH DATASET\n",
      "\tid: my_id\n",
      "\tname: ???\n",
      "\tcreator: ???\n",
      "--- Associated Data (0)---\n",
      "--- Ensembles (0)---\n",
      "\t[]\n",
      "KOSH DATASET\n",
      "\tid: my_id\n",
      "\tname: ???\n",
      "\tcreator: ???\n",
      "\n",
      "--- Attributes ---\n",
      "\tpi: 3.14159\n",
      "\tpi_over_2: 1.57\n",
      "--- Associated Data (0)---\n",
      "--- Ensembles (0)---\n",
      "\t[]\n"
     ]
    }
   ],
   "source": [
    "# Sina\n",
    "rec = store_sina.records.get(\"my_id\")\n",
    "rec.add_data(\"pi\", 3.14159)\n",
    "# or\n",
    "rec[\"data\"][\"pi_over_2\"] = {\"value\": 1.57}\n",
    "print(rec[\"data\"])\n",
    "\n",
    "# Note that the record is NOT updated in the database yet\n",
    "print(store_sina.records.get(\"my_id\")[\"data\"])\n",
    "kosh_rec = store_kosh.open(\"my_id\")\n",
    "print(kosh_rec) # not updated\n",
    "# Let's update\n",
    "store_sina.records.delete(\"my_id\")\n",
    "store_sina.records.insert(rec)\n",
    "print(kosh_rec) # Updated live no need to fetch again\n"
   ]
  },
  {
   "cell_type": "code",
   "execution_count": 17,
   "metadata": {},
   "outputs": [
    {
     "name": "stdout",
     "output_type": "stream",
     "text": [
      "KOSH DATASET\n",
      "\tid: some_id\n",
      "\tname: Unnamed Dataset\n",
      "\tcreator: cdoutrix\n",
      "\n",
      "--- Attributes ---\n",
      "\tcreator: cdoutrix\n",
      "\tname: Unnamed Dataset\n",
      "\tpi: 3.14159\n",
      "\tpi_over_2: 1.57\n",
      "--- Associated Data (0)---\n",
      "--- Ensembles (0)---\n",
      "\t[]\n",
      "{'creator': {'value': '29227d615664b750489776379f5cd287'}, 'name': {'value': 'Unnamed Dataset'}, '_associated_data_': {'value': None}, 'pi': {'value': 3.14159}, 'pi_over_2': {'value': 1.57}}\n"
     ]
    }
   ],
   "source": [
    "# Kosh\n",
    "ds = store_kosh.open(\"some_id\")\n",
    "ds.pi = 3.14159\n",
    "ds.pi_over_2 = 1.57\n",
    "\n",
    "# Store is updated\n",
    "# Kosh way\n",
    "ds2 = store_kosh.open(\"some_id\")\n",
    "print(ds2)\n",
    "# Sina way\n",
    "print(store_sina.records.get(\"some_id\")[\"data\"])\n"
   ]
  },
  {
   "cell_type": "markdown",
   "metadata": {},
   "source": [
    "## Searching the Store\n",
    "\n",
    "Sina is designed to help you query your store in many different ways.\n",
    "Kosh is designed to help you get to your external data fast and easily\n",
    "\n",
    "You can use sina query capabilities to pinpoint your Kosh datasets.\n",
    "\n",
    "*Reminder:* You can access sina store and sina records directly from an opened Kosh store.\n",
    "\n",
    "At its most basic think of Kosh's `find` function as an analog of Sina's `find` function"
   ]
  },
  {
   "cell_type": "markdown",
   "metadata": {},
   "source": [
    "Sina let you query the store in many ways, and has much more advanced and efficient queries than Kosh\n",
    "\n",
    "Kosh can do similar things, usually less efficiently, but within one function call only.\n",
    "\n",
    "### Search records by type"
   ]
  },
  {
   "cell_type": "code",
   "execution_count": 18,
   "metadata": {},
   "outputs": [
    {
     "data": {
      "text/plain": [
       "[Model Record <id=706a74b6d43548d19796d79453c833e4, type=some_type>,\n",
       " Model Record <id=obj1, type=some_type>,\n",
       " Model Record <id=some_id, type=some_type>]"
      ]
     },
     "execution_count": 18,
     "metadata": {},
     "output_type": "execute_result"
    }
   ],
   "source": [
    "# Sina\n",
    "list(store_sina.records.find(types=[\"some_type\",]))\n",
    "list(store_sina.records.find_with_type(\"some_type\"))"
   ]
  },
  {
   "cell_type": "code",
   "execution_count": 19,
   "metadata": {},
   "outputs": [
    {
     "data": {
      "text/plain": [
       "[KOSH DATASET\n",
       "\tid: some_id\n",
       "\tname: Unnamed Dataset\n",
       "\tcreator: cdoutrix\n",
       "\n",
       "--- Attributes ---\n",
       "\tcreator: cdoutrix\n",
       "\tname: Unnamed Dataset\n",
       "\tpi: 3.14159\n",
       "\tpi_over_2: 1.57\n",
       "--- Associated Data (0)---\n",
       "--- Ensembles (0)---\n",
       "\t[],\n",
       " KOSH DATASET\n",
       "\tid: 706a74b6d43548d19796d79453c833e4\n",
       "\tname: ???\n",
       "\tcreator: ???\n",
       "\n",
       "--- Attributes ---\n",
       "\tparam1: 1\n",
       "\tparam2: 2\n",
       "\tparam3: 3.3\n",
       "--- Associated Data (2)---\n",
       "\tMime_type: image/png\n",
       "\t\tfoo.png ( 706a74b6d43548d19796d79453c833e4 )\n",
       "\tMime_type: sina/curve\n",
       "\t\tinternal ( timeplot_1 )\n",
       "--- Ensembles (0)---\n",
       "\t[],\n",
       " KOSH DATASET\n",
       "\tid: obj1\n",
       "\tname: ???\n",
       "\tcreator: ???\n",
       "\n",
       "--- Attributes ---\n",
       "\tparam1: 1\n",
       "\tparam2: 2\n",
       "\tparam3: 3.3\n",
       "--- Associated Data (2)---\n",
       "\tMime_type: image/png\n",
       "\t\tfoo.png ( obj1 )\n",
       "\tMime_type: sina/curve\n",
       "\t\tinternal ( timeplot_1 )\n",
       "--- Ensembles (0)---\n",
       "\t[]]"
      ]
     },
     "execution_count": 19,
     "metadata": {},
     "output_type": "execute_result"
    }
   ],
   "source": [
    "# Kosh\n",
    "list(store_kosh.find(types=[\"some_type\",]))"
   ]
  },
  {
   "cell_type": "markdown",
   "metadata": {},
   "source": [
    "### Search records based on data\n",
    "\n",
    "More detailed documentation can be found on Sina's documentation [here](https://lc.llnl.gov/workflow/docs/sina/api_basics.html?highlight=datarange#filtering-records-based-on-their-data)\n",
    "\n",
    "Kosh's `find` differs slightly here, as the 'data' keys of Sina's find function *can* be passed directly and keys required for any value can be passed as a simple string\n"
   ]
  },
  {
   "cell_type": "code",
   "execution_count": 20,
   "metadata": {},
   "outputs": [
    {
     "data": {
      "text/plain": [
       "['some_id']"
      ]
     },
     "execution_count": 20,
     "metadata": {},
     "output_type": "execute_result"
    }
   ],
   "source": [
    "list(store_sina.records.find(data= {\"pi_over_2\":sina.utils.DataRange(1.3, 1.6), \"pi\":3.14159, \"creator\":sina.utils.exists()}))\n",
    "# or via the data dedicated function:\n",
    "list(store_sina.records.find_with_data(pi_over_2=sina.utils.DataRange(1.3, 1.6), pi=3.14159, creator=sina.utils.exists()))"
   ]
  },
  {
   "cell_type": "code",
   "execution_count": 21,
   "metadata": {},
   "outputs": [
    {
     "data": {
      "text/plain": [
       "[KOSH DATASET\n",
       "\tid: some_id\n",
       "\tname: Unnamed Dataset\n",
       "\tcreator: cdoutrix\n",
       "\n",
       "--- Attributes ---\n",
       "\tcreator: cdoutrix\n",
       "\tname: Unnamed Dataset\n",
       "\tpi: 3.14159\n",
       "\tpi_over_2: 1.57\n",
       "--- Associated Data (0)---\n",
       "--- Ensembles (0)---\n",
       "\t[]]"
      ]
     },
     "execution_count": 21,
     "metadata": {},
     "output_type": "execute_result"
    }
   ],
   "source": [
    "list(store_kosh.find('creator', pi_over_2=sina.utils.DataRange(1.3, 1.6), pi=3.14159))"
   ]
  },
  {
   "cell_type": "markdown",
   "metadata": {},
   "source": [
    "### Search records with file uri\n",
    "\n",
    "Sina records can contain a special field to store files related to this record. You can search Sina for all records *linked* to a specific file."
   ]
  },
  {
   "cell_type": "code",
   "execution_count": 22,
   "metadata": {},
   "outputs": [
    {
     "data": {
      "text/plain": [
       "[Model Record <id=706a74b6d43548d19796d79453c833e4, type=some_type>,\n",
       " Model Record <id=obj1, type=some_type>]"
      ]
     },
     "execution_count": 22,
     "metadata": {},
     "output_type": "execute_result"
    }
   ],
   "source": [
    "list(store_sina.records.find(file_uri=\"foo.png\"))\n",
    "# or via its dedicated function\n",
    "list(store_sina.records.find_with_file_uri(\"foo.png\"))"
   ]
  },
  {
   "cell_type": "markdown",
   "metadata": {},
   "source": [
    "Kosh can accomplish the same search via its dedicated `file_uri` key when searching"
   ]
  },
  {
   "cell_type": "code",
   "execution_count": 23,
   "metadata": {},
   "outputs": [
    {
     "data": {
      "text/plain": [
       "sina.datastore.DataStore.RecordOperations"
      ]
     },
     "execution_count": 23,
     "metadata": {},
     "output_type": "execute_result"
    }
   ],
   "source": [
    "list(store_kosh.find(file_uri='foo.png'))\n",
    "type(store_sina.records)"
   ]
  },
  {
   "cell_type": "markdown",
   "metadata": {},
   "source": [
    "At this point it is worth noting that, in Kosh, it is recommended to `associate` files with a dataset rather than using the `file` section.\n",
    "\n",
    "*Associating* a file (source) with a Kosh dataset will create a new record in the database with a Kosh reserved record type. There many reasons why Kosh does this.\n",
    "\n",
    "* If a file is `associated` with many Kosh datasets this saves on the number of entries in the database.\n",
    "* Since files are now represented by their own records, we can add many queryable metadata to them.\n",
    "* As your problem complexity grows, many files/sources can be associated with a dataset. Having these files represented as records in Sina allows Kosh to use Sina's query capabilities to quickly pinpoint the desired files(s)/source(s).\n",
    "\n",
    "Let's demonstrate this:"
   ]
  },
  {
   "cell_type": "code",
   "execution_count": 24,
   "metadata": {},
   "outputs": [
    {
     "data": {
      "text/plain": [
       "[<kosh.core_sina.KoshSinaFile at 0x2aab4b02ed10>,\n",
       " <kosh.core_sina.KoshSinaFile at 0x2aab4affe9d0>,\n",
       " <kosh.core_sina.KoshSinaFile at 0x2aab4b06bf10>,\n",
       " <kosh.core_sina.KoshSinaFile at 0x2aab4b0a3e10>,\n",
       " <kosh.core_sina.KoshSinaFile at 0x2aab4b0a3fd0>,\n",
       " <kosh.core_sina.KoshSinaFile at 0x2aab4ad3b590>,\n",
       " <kosh.core_sina.KoshSinaFile at 0x2aab4b0baa90>,\n",
       " <kosh.core_sina.KoshSinaFile at 0x2aab4ad3bf50>,\n",
       " <kosh.core_sina.KoshSinaFile at 0x2aab4ad3b390>,\n",
       " <kosh.core_sina.KoshSinaFile at 0x2aab4ad3bd10>,\n",
       " <kosh.core_sina.KoshSinaFile at 0x2aab4ad53410>,\n",
       " <kosh.core_sina.KoshSinaFile at 0x2aab4ad531d0>,\n",
       " <kosh.core_sina.KoshSinaFile at 0x2aab4b0aeed0>,\n",
       " <kosh.core_sina.KoshSinaFile at 0x2aab4b0aee10>,\n",
       " <kosh.core_sina.KoshSinaFile at 0x2aab4b0baf50>,\n",
       " <kosh.core_sina.KoshSinaFile at 0x2aab4b0baf90>,\n",
       " <kosh.core_sina.KoshSinaFile at 0x2aab4b0babd0>]"
      ]
     },
     "execution_count": 24,
     "metadata": {},
     "output_type": "execute_result"
    }
   ],
   "source": [
    "my_kosh_dataset = store_kosh.open(\"my_id\")\n",
    "for i in range(100):\n",
    "    my_kosh_dataset.associate(\"some_file_{:04d}.png\".format(i), mime_type=\"png\", metadata= {\"some_param\":i})\n",
    "# now let's search all source for this dataset with `some_param` value between 73 and 90\n",
    "list(my_kosh_dataset.search(some_param=sina.utils.DataRange(73, 90)))"
   ]
  },
  {
   "cell_type": "markdown",
   "metadata": {},
   "source": [
    "## Data\n",
    "\n",
    "\n",
    "### Curves \n",
    "\n",
    "#### Sina\n",
    "\n",
    "Sina allows you to query the \"data\" section of its records, but you can also access **and** search `curves sets` which are essentially time series associated with a record.\n",
    "\n",
    "A curve set is constituted of an `independent` variable and some `dependent` variable(s).\n",
    "\n",
    "You can ask Sina to give you all records with a `volume` curve set having values greater than 15\n"
   ]
  },
  {
   "cell_type": "code",
   "execution_count": 25,
   "metadata": {},
   "outputs": [
    {
     "data": {
      "text/plain": [
       "[]"
      ]
     },
     "execution_count": 25,
     "metadata": {},
     "output_type": "execute_result"
    }
   ],
   "source": [
    "list(store_sina.records.find(data={\"volume\":sina.utils.any_in(sina.utils.DataRange(min=15.))}))"
   ]
  },
  {
   "cell_type": "markdown",
   "metadata": {},
   "source": [
    "You can then get the curves from the record."
   ]
  },
  {
   "cell_type": "code",
   "execution_count": 26,
   "metadata": {},
   "outputs": [
    {
     "data": {
      "text/plain": [
       "{'timeplot_1': {'independent': {'time': {'value': [0, 1, 2]}},\n",
       "  'dependent': {'feature_a': {'value': [15, 25, 35], 'tags': ['tag1']},\n",
       "   'feature_b': {'value': [10.1, 25.2, 40.3], 'units': 'm'}}}}"
      ]
     },
     "execution_count": 26,
     "metadata": {},
     "output_type": "execute_result"
    }
   ],
   "source": [
    "rec = store_sina.records.get(\"obj1\")\n",
    "rec[\"curve_sets\"]"
   ]
  },
  {
   "cell_type": "markdown",
   "metadata": {},
   "source": [
    "#### Kosh\n",
    "\n",
    "Kosh's uses Sina search capabilities under the hood, so similarly you would do:\n"
   ]
  },
  {
   "cell_type": "code",
   "execution_count": 27,
   "metadata": {},
   "outputs": [
    {
     "name": "stdout",
     "output_type": "stream",
     "text": [
      "['timeplot_1', 'timeplot_1/feature_a', 'timeplot_1/feature_b', 'timeplot_1/time']\n"
     ]
    }
   ],
   "source": [
    "vol_ids = list(store_kosh.find(volume=sina.utils.any_in(sina.utils.DataRange(min=15.))))\n",
    "\n",
    "# And to get the curves list:\n",
    "dataset = store_kosh.open(\"obj1\")\n",
    "print(dataset.list_features())"
   ]
  },
  {
   "cell_type": "markdown",
   "metadata": {},
   "source": [
    "Let's access the `time`"
   ]
  },
  {
   "cell_type": "code",
   "execution_count": 28,
   "metadata": {},
   "outputs": [
    {
     "name": "stdout",
     "output_type": "stream",
     "text": [
      "[0 1 2]\n"
     ]
    }
   ],
   "source": [
    "print(dataset.get(\"timeplot_1/time\"))"
   ]
  },
  {
   "cell_type": "markdown",
   "metadata": {},
   "source": [
    "### External Data (large files)\n",
    "\n",
    "Sina provides a mechanism to link files to records, via the `add_file` function.\n",
    "\n",
    "If you also provide a `mime_type` attribute to this added file Kosh will treat it as an associated file and will be able to extract its data via loader (although it will not be able to find it via an attribute search)."
   ]
  },
  {
   "cell_type": "code",
   "execution_count": 29,
   "metadata": {},
   "outputs": [],
   "source": [
    "rec.add_file(\"sample_files/run_000.hdf5\", mimetype=\"hdf5\")\n",
    "store_sina.records.delete(rec.id)\n",
    "store_sina.records.insert(rec)"
   ]
  },
  {
   "cell_type": "code",
   "execution_count": 30,
   "metadata": {},
   "outputs": [
    {
     "data": {
      "text/plain": [
       "['timeplot_1',\n",
       " 'timeplot_1/feature_a',\n",
       " 'timeplot_1/feature_b',\n",
       " 'timeplot_1/time',\n",
       " 'cycles',\n",
       " 'direction',\n",
       " 'elements',\n",
       " 'node',\n",
       " 'node/metrics_0',\n",
       " 'node/metrics_1',\n",
       " 'node/metrics_10',\n",
       " 'node/metrics_11',\n",
       " 'node/metrics_12',\n",
       " 'node/metrics_2',\n",
       " 'node/metrics_3',\n",
       " 'node/metrics_4',\n",
       " 'node/metrics_5',\n",
       " 'node/metrics_6',\n",
       " 'node/metrics_7',\n",
       " 'node/metrics_8',\n",
       " 'node/metrics_9',\n",
       " 'zone',\n",
       " 'zone/metrics_0',\n",
       " 'zone/metrics_1',\n",
       " 'zone/metrics_2',\n",
       " 'zone/metrics_3',\n",
       " 'zone/metrics_4']"
      ]
     },
     "execution_count": 30,
     "metadata": {},
     "output_type": "execute_result"
    }
   ],
   "source": [
    "dataset.list_features(use_cache=False)  # Because it was cached and Kosh cannot know something changed from sina side"
   ]
  },
  {
   "cell_type": "code",
   "execution_count": 31,
   "metadata": {},
   "outputs": [
    {
     "data": {
      "text/plain": [
       "(<HDF5 dataset \"metrics_0\": shape (2, 4), type \"<f4\">, array([15, 25, 35]))"
      ]
     },
     "execution_count": 31,
     "metadata": {},
     "output_type": "execute_result"
    }
   ],
   "source": [
    "dataset.get(\"zone/metrics_0\"), dataset.get(\"timeplot_1/feature_a\")"
   ]
  }
 ],
 "metadata": {
  "kernelspec": {
   "display_name": "Kosh",
   "language": "python",
   "name": "kosh"
  },
  "language_info": {
   "codemirror_mode": {
    "name": "ipython",
    "version": 3
   },
   "file_extension": ".py",
   "mimetype": "text/x-python",
   "name": "python",
   "nbconvert_exporter": "python",
   "pygments_lexer": "ipython3",
   "version": "3.7.10"
  }
 },
 "nbformat": 4,
 "nbformat_minor": 4
}
