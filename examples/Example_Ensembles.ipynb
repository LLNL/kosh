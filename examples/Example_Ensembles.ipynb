{
 "cells": [
  {
   "cell_type": "markdown",
   "metadata": {},
   "source": [
    "# Ensembles in Kosh\n",
    "\n",
    "Frequently the need arise to run an *ensemble*, e.g producing many datasets that share some common `metadata` or `sources`\n",
    "\n",
    "Kosh provides a convenience class `KoshEnsemble` that helps you keep all of your datasets in sync.\n",
    "\n",
    "## The basics\n",
    "\n",
    "In essence, by creating a `KoshEnsemble` you lock a set of metadata that will be shared by all members of the ensemble. These metadata we be identical for all dataset in the ensemble and can only be edited from the `KoshEnsemble` object.\n",
    "\n",
    "Additionally you can associate data with the ensemble. The data will then appear as if it was associated with each dataset.\n"
   ]
  },
  {
   "cell_type": "code",
   "execution_count": 1,
   "metadata": {},
   "outputs": [
    {
     "name": "stdout",
     "output_type": "stream",
     "text": [
      "KOSH ENSEMBLE\n",
      "\tid: 51d499a7215c444181150f95d30d5aa6\n",
      "\tname: My Example Dataset\n",
      "\tcreator: cdoutrix\n",
      "\n",
      "--- Attributes ---\n",
      "\tcreator: cdoutrix\n",
      "\tname: My Example Dataset\n",
      "\tproject: Example\n",
      "\troot: /root/path/for/ensemble\n",
      "--- Associated Data (0)---\n",
      "--- Member Datasets (0)---\n",
      "\t[]\n"
     ]
    }
   ],
   "source": [
    "import kosh\n",
    "\n",
    "store = kosh.connect(\"ensembles_example.sql\", delete_all_contents=True)\n",
    "\n",
    "# let's create an ensemble. \n",
    "# we use the dedicated `create_ensemble` function that works just like the `create` function for datasets\n",
    "\n",
    "ensemble = store.create_ensemble(name=\"My Example Dataset\", metadata={\"root\":\"/root/path/for/ensemble\", \"project\":\"Example\"})\n",
    "\n",
    "print(ensemble)"
   ]
  },
  {
   "cell_type": "code",
   "execution_count": 2,
   "metadata": {},
   "outputs": [
    {
     "name": "stdout",
     "output_type": "stream",
     "text": [
      "KOSH ENSEMBLE\n",
      "\tid: 51d499a7215c444181150f95d30d5aa6\n",
      "\tname: My Example Dataset\n",
      "\tcreator: cdoutrix\n",
      "\n",
      "--- Attributes ---\n",
      "\tcreator: cdoutrix\n",
      "\tname: My Example Dataset\n",
      "\tproject: Example\n",
      "\troot: /root/path/for/ensemble\n",
      "--- Associated Data (1)---\n",
      "\tMime_type: text\n",
      "\t\t/g/g19/cdoutrix/git/kosh/LICENSE ( 507b1b686ee24cc886fa3f98773e46ce )\n",
      "--- Member Datasets (0)---\n",
      "\t[]\n"
     ]
    }
   ],
   "source": [
    "# Let's associated some file common to all datasets with the ensemble\n",
    "ensemble.associate(\"../LICENSE\", \"text\")\n",
    "print(ensemble)"
   ]
  },
  {
   "cell_type": "code",
   "execution_count": 3,
   "metadata": {},
   "outputs": [
    {
     "name": "stdout",
     "output_type": "stream",
     "text": [
      "KOSH DATASET\n",
      "\tid: f486f4c07ea04eeea6e3d084e2053808\n",
      "\tname: First dataset\n",
      "\tcreator: cdoutrix\n",
      "\n",
      "--- Attributes ---\n",
      "\tcreator: cdoutrix\n",
      "\tname: First dataset\n",
      "\tparam1: 1.0\n",
      "\tparam2: a\n",
      "--- Associated Data (1)---\n",
      "\tMime_type: text\n",
      "\t\t/g/g19/cdoutrix/git/kosh/LICENSE ( 507b1b686ee24cc886fa3f98773e46ce )\n",
      "--- Ensembles (1)---\n",
      "\t['51d499a7215c444181150f95d30d5aa6']\n",
      "--- Ensemble Attributes ---\n",
      "\t--- Ensemble 51d499a7215c444181150f95d30d5aa6 ---\n",
      "\t\tproject: Example\n",
      "\t\troot: /root/path/for/ensemble\n",
      "\n"
     ]
    }
   ],
   "source": [
    "# Now let's add a member to our ensemble.\n",
    "# We use the `create` function which works exactly as the store's `create` function.\n",
    "ds1 = ensemble.create(name=\"First dataset\", metadata={\"param1\":1., \"param2\": \"a\"})\n",
    "# Notice that our ensemble attributes and associated data appear on the dataset\n",
    "print(ds1)"
   ]
  },
  {
   "cell_type": "code",
   "execution_count": 4,
   "metadata": {},
   "outputs": [
    {
     "name": "stdout",
     "output_type": "stream",
     "text": [
      "KOSH ENSEMBLE\n",
      "\tid: 51d499a7215c444181150f95d30d5aa6\n",
      "\tname: My Example Dataset\n",
      "\tcreator: cdoutrix\n",
      "\n",
      "--- Attributes ---\n",
      "\tcreator: cdoutrix\n",
      "\tname: My Example Dataset\n",
      "\tproject: Example\n",
      "\troot: /root/path/for/ensemble\n",
      "--- Associated Data (1)---\n",
      "\tMime_type: text\n",
      "\t\t/g/g19/cdoutrix/git/kosh/LICENSE ( 507b1b686ee24cc886fa3f98773e46ce )\n",
      "--- Member Datasets (1)---\n",
      "\t['f486f4c07ea04eeea6e3d084e2053808']\n"
     ]
    }
   ],
   "source": [
    "# Dataset 1 also appears as part of the ensemble:\n",
    "print(ensemble)"
   ]
  },
  {
   "cell_type": "code",
   "execution_count": 5,
   "metadata": {},
   "outputs": [
    {
     "name": "stdout",
     "output_type": "stream",
     "text": [
      "KOSH ENSEMBLE\n",
      "\tid: 51d499a7215c444181150f95d30d5aa6\n",
      "\tname: My Example Dataset\n",
      "\tcreator: cdoutrix\n",
      "\n",
      "--- Attributes ---\n",
      "\tcreator: cdoutrix\n",
      "\tname: My Example Dataset\n",
      "\tproject: Example\n",
      "\troot: /root/path/for/ensemble\n",
      "--- Associated Data (1)---\n",
      "\tMime_type: text\n",
      "\t\t/g/g19/cdoutrix/git/kosh/LICENSE ( 507b1b686ee24cc886fa3f98773e46ce )\n",
      "--- Member Datasets (2)---\n",
      "\t['f486f4c07ea04eeea6e3d084e2053808', 'a97dae31c064496d947d71899830519e']\n"
     ]
    }
   ],
   "source": [
    "# We can also create a dataset on its own as usual:\n",
    "ds2 = store.create(name=\"Second dataset\", metadata={\"param1\":2., \"param2\": \"b\"})\n",
    "# And later add it to the ensemble\n",
    "ensemble.add(ds2)\n",
    "print(ensemble)"
   ]
  },
  {
   "cell_type": "code",
   "execution_count": 6,
   "metadata": {},
   "outputs": [
    {
     "name": "stdout",
     "output_type": "stream",
     "text": [
      "KOSH ENSEMBLE\n",
      "\tid: 51d499a7215c444181150f95d30d5aa6\n",
      "\tname: My Example Dataset\n",
      "\tcreator: cdoutrix\n",
      "\n",
      "--- Attributes ---\n",
      "\tcreator: cdoutrix\n",
      "\tname: My Example Dataset\n",
      "\tproject: Example\n",
      "\troot: /root/path/for/ensemble\n",
      "--- Associated Data (1)---\n",
      "\tMime_type: text\n",
      "\t\t/g/g19/cdoutrix/git/kosh/LICENSE ( 507b1b686ee24cc886fa3f98773e46ce )\n",
      "--- Member Datasets (3)---\n",
      "\t['f486f4c07ea04eeea6e3d084e2053808', 'a97dae31c064496d947d71899830519e', 'e5181f5390ed434691c5debc4d30023c']\n"
     ]
    }
   ],
   "source": [
    "# We can also tell a dataset to join an ensemble:\n",
    "# Let's create a dataset:\n",
    "ds3 = store.create(name=\"Third dataset\", metadata={\"param1\":3., \"param2\": \"c\"})\n",
    "# Now let's ask the dataset to join the ensemble:\n",
    "ds3.join_ensemble(ensemble)\n",
    "print(ensemble)"
   ]
  },
  {
   "cell_type": "code",
   "execution_count": 7,
   "metadata": {},
   "outputs": [
    {
     "data": {
      "text/plain": [
       "['f486f4c07ea04eeea6e3d084e2053808',\n",
       " 'a97dae31c064496d947d71899830519e',\n",
       " 'e5181f5390ed434691c5debc4d30023c']"
      ]
     },
     "execution_count": 7,
     "metadata": {},
     "output_type": "execute_result"
    }
   ],
   "source": [
    "# Now we can access all datasets of an ensemble:\n",
    "list(ensemble.get_members(ids_only=True))"
   ]
  },
  {
   "cell_type": "code",
   "execution_count": 8,
   "metadata": {},
   "outputs": [
    {
     "name": "stdout",
     "output_type": "stream",
     "text": [
      "Ensemble has 4 members.\n",
      "Ensemble has 3 members after dataset left.\n",
      "Ensemble has 4 members after adding dataset back.\n",
      "Ensemble has 3 members after removing dataset.\n"
     ]
    }
   ],
   "source": [
    "# Similarly a dataset can leave or be removed from an ensemble.\n",
    "dataset = ensemble.create()\n",
    "print(\"Ensemble has {} members.\".format(len(list(ensemble.get_members(ids_only=True)))))\n",
    "dataset.leave_ensemble(ensemble)\n",
    "print(\"Ensemble has {} members after dataset left.\".format(len(list(ensemble.get_members(ids_only=True)))))\n",
    "ensemble.add(dataset)\n",
    "print(\"Ensemble has {} members after adding dataset back.\".format(len(list(ensemble.get_members(ids_only=True)))))\n",
    "ensemble.delete(dataset)\n",
    "print(\"Ensemble has {} members after removing dataset.\".format(len(list(ensemble.get_members(ids_only=True)))))"
   ]
  },
  {
   "cell_type": "markdown",
   "metadata": {},
   "source": [
    "# Attributes\n",
    "\n",
    "As previously mentioned the ensemble attributes appear on all of its members. \n",
    "\n",
    "Changing or adding an ensemble attribute propagates to all of its members:\n"
   ]
  },
  {
   "cell_type": "code",
   "execution_count": 9,
   "metadata": {},
   "outputs": [
    {
     "data": {
      "text/plain": [
       "[('foo', 'bar'), ('foo', 'bar'), ('foo', 'bar')]"
      ]
     },
     "execution_count": 9,
     "metadata": {},
     "output_type": "execute_result"
    }
   ],
   "source": [
    "ensemble.root = \"foo\"\n",
    "ensemble.new_attribute = \"bar\"\n",
    "[(x.root, x.new_attribute) for x in ensemble.get_members()]"
   ]
  },
  {
   "cell_type": "markdown",
   "metadata": {},
   "source": [
    "***WARNING:*** You cannot set an attribute belonging to an ensemble from one of its members"
   ]
  },
  {
   "cell_type": "code",
   "execution_count": 10,
   "metadata": {},
   "outputs": [
    {
     "name": "stdout",
     "output_type": "stream",
     "text": [
      "'The attribute root is controlled by ensemble: 51d499a7215c444181150f95d30d5aa6 and cannot be set here'\n"
     ]
    },
    {
     "data": {
      "text/plain": [
       "'foo'"
      ]
     },
     "execution_count": 10,
     "metadata": {},
     "output_type": "execute_result"
    }
   ],
   "source": [
    "try:\n",
    "    ds1.root = \"root_from_ds1\"\n",
    "except KeyError as err:\n",
    "    print(err)\n",
    "ds1.root"
   ]
  },
  {
   "cell_type": "markdown",
   "metadata": {},
   "source": [
    "You can ask a dataset if one of its attributes belongs to an ensemble"
   ]
  },
  {
   "cell_type": "code",
   "execution_count": 11,
   "metadata": {},
   "outputs": [
    {
     "name": "stdout",
     "output_type": "stream",
     "text": [
      "Is `root` an ensemble attribute? True\n",
      "Is `param1` an ensemble attribute? False\n"
     ]
    }
   ],
   "source": [
    "print(\"Is `root` an ensemble attribute?\", ds1.is_ensemble_attribute(\"root\"))\n",
    "print(\"Is `param1` an ensemble attribute?\", ds1.is_ensemble_attribute(\"param1\"))"
   ]
  },
  {
   "cell_type": "markdown",
   "metadata": {},
   "source": [
    "You can also get which ensemble the attribute comes from:"
   ]
  },
  {
   "cell_type": "code",
   "execution_count": 12,
   "metadata": {},
   "outputs": [
    {
     "name": "stdout",
     "output_type": "stream",
     "text": [
      "Attribute `root` belongs to ensemble: 51d499a7215c444181150f95d30d5aa6\n"
     ]
    }
   ],
   "source": [
    "print(\"Attribute `root` belongs to ensemble:\", ds1.is_ensemble_attribute(\"root\", ensemble_id=True))"
   ]
  },
  {
   "cell_type": "raw",
   "metadata": {},
   "source": [
    "Attributes that do not belong to an ensemble return an empty string"
   ]
  },
  {
   "cell_type": "code",
   "execution_count": 13,
   "metadata": {},
   "outputs": [
    {
     "name": "stdout",
     "output_type": "stream",
     "text": [
      "Attribute `param1` belongs to ensemble: \n"
     ]
    }
   ],
   "source": [
    "print(\"Attribute `param1` belongs to ensemble:\", ds1.is_ensemble_attribute(\"param1\", ensemble_id=True))"
   ]
  },
  {
   "cell_type": "markdown",
   "metadata": {},
   "source": [
    "## Searching\n",
    "\n",
    "We can search a store for ensembles containing some attributes"
   ]
  },
  {
   "cell_type": "code",
   "execution_count": 14,
   "metadata": {},
   "outputs": [
    {
     "name": "stdout",
     "output_type": "stream",
     "text": [
      "['51d499a7215c444181150f95d30d5aa6']\n"
     ]
    }
   ],
   "source": [
    "ensembles = store.find_ensembles(root=\"foo\", ids_only=True)\n",
    "print(list(ensembles))"
   ]
  },
  {
   "cell_type": "markdown",
   "metadata": {},
   "source": [
    "The ensemble metadata appear as dataset metadata, so we can search dataset based on ensemble attributes"
   ]
  },
  {
   "cell_type": "code",
   "execution_count": 15,
   "metadata": {},
   "outputs": [
    {
     "data": {
      "text/plain": [
       "['f486f4c07ea04eeea6e3d084e2053808',\n",
       " 'a97dae31c064496d947d71899830519e',\n",
       " 'e5181f5390ed434691c5debc4d30023c']"
      ]
     },
     "execution_count": 15,
     "metadata": {},
     "output_type": "execute_result"
    }
   ],
   "source": [
    "list(store.find(root=\"foo\", ids_only=True))"
   ]
  },
  {
   "cell_type": "markdown",
   "metadata": {},
   "source": [
    "Just like for datasets, the `find` function is used to lookup associated sources"
   ]
  },
  {
   "cell_type": "code",
   "execution_count": 16,
   "metadata": {},
   "outputs": [
    {
     "data": {
      "text/plain": [
       "'507b1b686ee24cc886fa3f98773e46ce'"
      ]
     },
     "execution_count": 16,
     "metadata": {},
     "output_type": "execute_result"
    }
   ],
   "source": [
    "next(ensemble.find(mime_type=\"text\", ids_only=True))"
   ]
  },
  {
   "cell_type": "markdown",
   "metadata": {},
   "source": [
    "The associated data will also appear and be searchable for each individual dataset."
   ]
  },
  {
   "cell_type": "code",
   "execution_count": 17,
   "metadata": {},
   "outputs": [
    {
     "data": {
      "text/plain": [
       "'507b1b686ee24cc886fa3f98773e46ce'"
      ]
     },
     "execution_count": 17,
     "metadata": {},
     "output_type": "execute_result"
    }
   ],
   "source": [
    "next(ds1.find(mime_type=\"text\", ids_only=True))"
   ]
  },
  {
   "cell_type": "markdown",
   "metadata": {},
   "source": [
    "We can also search for datasets within an ensemble."
   ]
  },
  {
   "cell_type": "code",
   "execution_count": 18,
   "metadata": {},
   "outputs": [
    {
     "data": {
      "text/plain": [
       "'f486f4c07ea04eeea6e3d084e2053808'"
      ]
     },
     "execution_count": 18,
     "metadata": {},
     "output_type": "execute_result"
    }
   ],
   "source": [
    "next(ensemble.find_datasets(param1=1, ids_only=True))"
   ]
  },
  {
   "cell_type": "markdown",
   "metadata": {},
   "source": [
    "## Multiple ensembles\n",
    "\n",
    "Datasets can be part of multiple ensembles. For example doing  a parameter study for a problem. But also with 2 different tools.\n",
    "\n"
   ]
  },
  {
   "cell_type": "code",
   "execution_count": 19,
   "metadata": {},
   "outputs": [
    {
     "name": "stdout",
     "output_type": "stream",
     "text": [
      "We found: 3 datasets\n"
     ]
    },
    {
     "data": {
      "text/plain": [
       "KOSH DATASET\n",
       "\tid: 27b0ce4cad1f430f8c8dac684418f6e5\n",
       "\tname: Unnamed Dataset\n",
       "\tcreator: cdoutrix\n",
       "\n",
       "--- Attributes ---\n",
       "\tcreator: cdoutrix\n",
       "\tname: Unnamed Dataset\n",
       "\tparam1: 1\n",
       "--- Associated Data (0)---\n",
       "--- Ensembles (2)---\n",
       "\t['1fbde2cc31dd4722befd0b4a612e1dad', '651fb4a6a60d432bbd524ed65aaee48e']\n",
       "--- Ensemble Attributes ---\n",
       "\t--- Ensemble 1fbde2cc31dd4722befd0b4a612e1dad ---\n",
       "\t\ttool: tool1\n",
       "\t--- Ensemble 651fb4a6a60d432bbd524ed65aaee48e ---\n",
       "\t\tproblem: problem1\n"
      ]
     },
     "execution_count": 19,
     "metadata": {},
     "output_type": "execute_result"
    }
   ],
   "source": [
    "problem1_ensemble = store.create_ensemble(name=\"problem 1\", metadata={\"problem\":\"problem1\"})\n",
    "problem2_ensemble = store.create_ensemble(name=\"problem 2\", metadata={\"problem\":\"problem2\"})\n",
    "tool1_ensemble = store.create_ensemble(name=\"tool1\", metadata={\"tool\":\"tool1\"})\n",
    "tool2_ensemble = store.create_ensemble(name=\"tool2\", metadata={\"tool\":\"tool2\"})\n",
    "\n",
    "for problem in [\"problem1\", \"problem2\"]:\n",
    "    for tool in [\"tool1\", \"tool2\"]:\n",
    "        for param1 in [1,2,3,]:\n",
    "            ds = store.create(metadata={\"param1\":param1})\n",
    "            tool_ensemble = next(store.find_ensembles(tool= tool))\n",
    "            ds.join_ensemble(tool_ensemble)\n",
    "            problem_ensemble = next(store.find_ensembles(problem= problem))\n",
    "            ds.join_ensemble(problem_ensemble)\n",
    "\n",
    "# now let's find datasets for tool1 and problem1\n",
    "datasets = list(store.find(tool=\"tool1\", problem=\"problem1\"))\n",
    "print(\"We found:\",len(datasets),\"datasets\")\n",
    "ds = datasets[0]  # belongs to two ensembles\n",
    "#  Note that string will show which attributes belong to which ensemble\n",
    "ds"
   ]
  },
  {
   "cell_type": "markdown",
   "metadata": {},
   "source": [
    "***WARNING:*** In order to belong to multi-ensemble, each ensemble must have a unique set of attributes\n",
    "\n",
    "Example if another ensemble had the `problem` attribute and a datasets belong to both ensembles, we could not determine which ensemble to grab the `problem` attribute from:"
   ]
  },
  {
   "cell_type": "code",
   "execution_count": 20,
   "metadata": {},
   "outputs": [
    {
     "name": "stdout",
     "output_type": "stream",
     "text": [
      "Dataset 27b0ce4cad1f430f8c8dac684418f6e5 is already part of ensemble 651fb4a6a60d432bbd524ed65aaee48e which already provides support for attribute: problem. Bailing\n"
     ]
    }
   ],
   "source": [
    "e3 = store.create_ensemble(metadata={\"problem\":\"another problem\"})\n",
    "try:\n",
    "    ds.join_ensemble(e3)\n",
    "except Exception as err:\n",
    "    print(err)"
   ]
  },
  {
   "cell_type": "markdown",
   "metadata": {},
   "source": [
    "Similarly you cannot create a new attribute on an ensemble if one of its member belongs to another ensemble already controlling this attribute:\n"
   ]
  },
  {
   "cell_type": "code",
   "execution_count": 21,
   "metadata": {},
   "outputs": [
    {
     "name": "stdout",
     "output_type": "stream",
     "text": [
      "A member of this ensemble belongs to ensemble 1fbde2cc31dd4722befd0b4a612e1dad which already controls attribute tool\n"
     ]
    }
   ],
   "source": [
    "try:\n",
    "    problem1_ensemble.tool = \"some tool\"\n",
    "except Exception as err:\n",
    "    print(err)"
   ]
  }
 ],
 "metadata": {
  "kernelspec": {
   "display_name": "Kosh",
   "language": "python",
   "name": "kosh"
  },
  "language_info": {
   "codemirror_mode": {
    "name": "ipython",
    "version": 3
   },
   "file_extension": ".py",
   "mimetype": "text/x-python",
   "name": "python",
   "nbconvert_exporter": "python",
   "pygments_lexer": "ipython3",
   "version": "3.7.10"
  }
 },
 "nbformat": 4,
 "nbformat_minor": 4
}
