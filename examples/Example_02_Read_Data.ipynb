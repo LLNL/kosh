{
 "cells": [
  {
   "cell_type": "markdown",
   "metadata": {},
   "source": [
    "# Reading Data\n",
    "\n",
    "## Connect to store (using sina local file)\n",
    "\n",
    "First let's create an empty database with you as a single user\n",
    "\n",
    "In a real application only admin user should have write permission to the file"
   ]
  },
  {
   "cell_type": "code",
   "execution_count": 1,
   "metadata": {},
   "outputs": [],
   "source": [
    "import os\n",
    "import sys\n",
    "import shlex\n",
    "from subprocess import Popen, PIPE\n",
    "import kosh\n",
    "\n",
    "kosh_example_sql_file = \"kosh_example_read.sql\"\n",
    "\n",
    "# Create a new store (erase if exists)\n",
    "store = kosh.create_new_db(kosh_example_sql_file)"
   ]
  },
  {
   "cell_type": "markdown",
   "metadata": {},
   "source": [
    "## Adding datasets to the store\n",
    "\n",
    "Let's add a dataset and associate hdf5 file with it."
   ]
  },
  {
   "cell_type": "code",
   "execution_count": 2,
   "metadata": {},
   "outputs": [
    {
     "name": "stderr",
     "output_type": "stream",
     "text": [
      "/g/g19/cdoutrix/miniconda3/envs/kosh/lib/python3.6/site-packages/kosh/sina/core.py:868: UserWarning: \n",
      "In the next version the search function will return a generator.\n",
      "You might need to wrap the result in a list.\n",
      "  \"\\nIn the next version the search function will return a generator.\\n\"\n"
     ]
    },
    {
     "data": {
      "text/plain": [
       "'884679dcdab4459ca1798299adade307'"
      ]
     },
     "execution_count": 2,
     "metadata": {},
     "output_type": "execute_result"
    }
   ],
   "source": [
    "dataset = store.create()\n",
    "dataset.associate(\"../tests/baselines/node_extracts2/node_extracts2.hdf5\", mime_type=\"hdf5\", absolute_path=False)"
   ]
  },
  {
   "cell_type": "markdown",
   "metadata": {},
   "source": [
    "## Querying Data\n",
    "\n",
    "In Kosh data retrievable are called \"features\"\n",
    "\n",
    "Let's see which feature are associated with this dataset:"
   ]
  },
  {
   "cell_type": "code",
   "execution_count": 3,
   "metadata": {
    "scrolled": true
   },
   "outputs": [
    {
     "name": "stdout",
     "output_type": "stream",
     "text": [
      "['cycles', 'direction', 'elements', 'node', 'node/metrics_0', 'node/metrics_1', 'node/metrics_10', 'node/metrics_11', 'node/metrics_12', 'node/metrics_2', 'node/metrics_3', 'node/metrics_4', 'node/metrics_5', 'node/metrics_6', 'node/metrics_7', 'node/metrics_8', 'node/metrics_9', 'zone', 'zone/metrics_0', 'zone/metrics_1', 'zone/metrics_2', 'zone/metrics_3', 'zone/metrics_4']\n"
     ]
    }
   ],
   "source": [
    "features = dataset.list_features()\n",
    "print(features)"
   ]
  },
  {
   "cell_type": "markdown",
   "metadata": {},
   "source": [
    "Let's get more information on a specific features"
   ]
  },
  {
   "cell_type": "code",
   "execution_count": 4,
   "metadata": {},
   "outputs": [
    {
     "name": "stdout",
     "output_type": "stream",
     "text": [
      "{'size': (2, 18), 'format': 'hdf5', 'type': dtype('<f4'), 'dimensions': [{'name': 'cycles', 'first': 11, 'last': 8, 'length': 2}, {'name': 'elements', 'first': 17, 'last': 15, 'length': 18}]}\n"
     ]
    }
   ],
   "source": [
    "info = dataset.describe_feature(\"node/metrics_5\")\n",
    "print(info)"
   ]
  },
  {
   "cell_type": "markdown",
   "metadata": {},
   "source": [
    "## Opening Data\n",
    "\n",
    "We might want to simply acces the URI (to add ata to it for example).\n",
    "\n",
    "for this we will need the *id* of the associated_uri"
   ]
  },
  {
   "cell_type": "code",
   "execution_count": 5,
   "metadata": {},
   "outputs": [
    {
     "name": "stderr",
     "output_type": "stream",
     "text": [
      "/g/g19/cdoutrix/miniconda3/envs/kosh/lib/python3.6/site-packages/kosh/sina/core.py:508: UserWarning: \n",
      "In the next version the search function will return a generator.\n",
      "You might need to wrap the result in a list.\n",
      "  \"\\nIn the next version the search function will return a generator.\\n\"\n"
     ]
    },
    {
     "data": {
      "text/plain": [
       "<HDF5 file \"node_extracts2.hdf5\" (mode r)>"
      ]
     },
     "execution_count": 5,
     "metadata": {},
     "output_type": "execute_result"
    }
   ],
   "source": [
    "associated_id = dataset.search(mime_type=\"hdf5\", ids_only=True)[0]\n",
    "h5_file = dataset.open(associated_id)\n",
    "h5_file"
   ]
  },
  {
   "cell_type": "markdown",
   "metadata": {},
   "source": [
    "## Getting Data\n",
    "\n",
    "Let's access this feature by calling the `get_execution_graph()` function.\n",
    "This returns a Kosh representation of how to get to a feature's data.\n",
    "Note that is just a representation (a path) to the data, not the data itself."
   ]
  },
  {
   "cell_type": "code",
   "execution_count": 6,
   "metadata": {},
   "outputs": [
    {
     "data": {
      "text/plain": [
       "<kosh.exec_graphs.core.KoshExecutionGraph at 0x2aaade3106d8>"
      ]
     },
     "execution_count": 6,
     "metadata": {},
     "output_type": "execute_result"
    }
   ],
   "source": [
    "feature = dataset.get_execution_graph(\"node/metrics_5\")\n",
    "feature"
   ]
  },
  {
   "cell_type": "markdown",
   "metadata": {},
   "source": [
    "This can be shorten as:"
   ]
  },
  {
   "cell_type": "code",
   "execution_count": 7,
   "metadata": {},
   "outputs": [
    {
     "data": {
      "text/plain": [
       "<kosh.exec_graphs.core.KoshExecutionGraph at 0x2aaade310860>"
      ]
     },
     "execution_count": 7,
     "metadata": {},
     "output_type": "execute_result"
    }
   ],
   "source": [
    "feature = dataset[\"node/metrics_5\"]\n",
    "feature"
   ]
  },
  {
   "cell_type": "markdown",
   "metadata": {},
   "source": [
    "This gives us a handle to this feature's data, no data has actually been read yet.\n",
    "\n",
    "Let's retrieve the data by calling the `traverse` function. This will connect the feature's origin (uri) to the data, applying any *transformer* or *operator* to it (see other notebooks to learn about these)"
   ]
  },
  {
   "cell_type": "code",
   "execution_count": 8,
   "metadata": {},
   "outputs": [
    {
     "name": "stdout",
     "output_type": "stream",
     "text": [
      "<HDF5 dataset \"metrics_5\": shape (2, 18), type \"<f4\">\n"
     ]
    }
   ],
   "source": [
    "data = feature.traverse()\n",
    "print(data)"
   ]
  },
  {
   "cell_type": "markdown",
   "metadata": {},
   "source": [
    "Which is equivalent to:"
   ]
  },
  {
   "cell_type": "code",
   "execution_count": 9,
   "metadata": {},
   "outputs": [
    {
     "name": "stdout",
     "output_type": "stream",
     "text": [
      "<HDF5 dataset \"metrics_5\": shape (2, 18), type \"<f4\">\n"
     ]
    }
   ],
   "source": [
    "data = feature()\n",
    "print(data)"
   ]
  },
  {
   "cell_type": "markdown",
   "metadata": {},
   "source": [
    "This is equivalent of what versions 1.1 and below used to do:"
   ]
  },
  {
   "cell_type": "code",
   "execution_count": 10,
   "metadata": {},
   "outputs": [
    {
     "name": "stdout",
     "output_type": "stream",
     "text": [
      "<HDF5 dataset \"metrics_5\": shape (2, 18), type \"<f4\">\n"
     ]
    }
   ],
   "source": [
    "data = dataset.get(\"node/metrics_5\")\n",
    "print(data)"
   ]
  },
  {
   "cell_type": "markdown",
   "metadata": {},
   "source": [
    "Note that you can also slice the feature directly"
   ]
  },
  {
   "cell_type": "code",
   "execution_count": 11,
   "metadata": {},
   "outputs": [
    {
     "name": "stdout",
     "output_type": "stream",
     "text": [
      "<HDF5 dataset \"metrics_5\": shape (2, 18), type \"<f4\">\n"
     ]
    }
   ],
   "source": [
    "data = feature[:]\n",
    "print(data)"
   ]
  },
  {
   "cell_type": "code",
   "execution_count": 12,
   "metadata": {},
   "outputs": [
    {
     "name": "stdout",
     "output_type": "stream",
     "text": [
      "{'size': (2, 18), 'format': 'hdf5', 'type': dtype('<f4'), 'dimensions': [{'name': 'cycles', 'first': 11, 'last': 8, 'length': 2}, {'name': 'elements', 'first': 17, 'last': 15, 'length': 18}]}\n",
      "(1, 2)\n"
     ]
    }
   ],
   "source": [
    "# If you know the dims you can select by value and/or indices\n",
    "print(dataset.describe_feature(\"node/metrics_1\"))\n",
    "feature2 = dataset[\"node/metrics_1\"]\n",
    "data2 = feature2(cycles=slice(0,1), elements=[17, 15])\n",
    "print(data2.shape)"
   ]
  },
  {
   "cell_type": "markdown",
   "metadata": {},
   "source": [
    "## Associating Multiple Sources\n",
    "\n",
    "Let's add an image file"
   ]
  },
  {
   "cell_type": "code",
   "execution_count": 13,
   "metadata": {},
   "outputs": [
    {
     "data": {
      "text/plain": [
       "['cycles',\n",
       " 'direction',\n",
       " 'elements',\n",
       " 'node',\n",
       " 'node/metrics_0',\n",
       " 'node/metrics_1',\n",
       " 'node/metrics_10',\n",
       " 'node/metrics_11',\n",
       " 'node/metrics_12',\n",
       " 'node/metrics_2',\n",
       " 'node/metrics_3',\n",
       " 'node/metrics_4',\n",
       " 'node/metrics_5',\n",
       " 'node/metrics_6',\n",
       " 'node/metrics_7',\n",
       " 'node/metrics_8',\n",
       " 'node/metrics_9',\n",
       " 'zone',\n",
       " 'zone/metrics_0',\n",
       " 'zone/metrics_1',\n",
       " 'zone/metrics_2',\n",
       " 'zone/metrics_3',\n",
       " 'zone/metrics_4',\n",
       " 'image']"
      ]
     },
     "execution_count": 13,
     "metadata": {},
     "output_type": "execute_result"
    }
   ],
   "source": [
    "dataset.associate(\"../share/icons/png/Kosh_Logo_K_blue.png\", mime_type=\"png\", absolute_path=False)\n",
    "dataset.list_features()"
   ]
  },
  {
   "cell_type": "code",
   "execution_count": 14,
   "metadata": {},
   "outputs": [
    {
     "name": "stdout",
     "output_type": "stream",
     "text": [
      "(403, 431, 4)\n"
     ]
    },
    {
     "data": {
      "image/png": "[encoded data removed]",
      "text/plain": [
       "<Figure size 432x288 with 1 Axes>"
      ]
     },
     "metadata": {
      "needs_background": "light"
     },
     "output_type": "display_data"
    }
   ],
   "source": [
    "img = dataset[\"image\"]\n",
    "print(img[:].shape)\n",
    "try:\n",
    "    import matplotlib.pyplot as plt\n",
    "    %matplotlib inline\n",
    "    plt.imshow(img[...,-1])  # Plot last channel\n",
    "except ImportError:\n",
    "    print(\"You will need matplotlib to plot the picture\")"
   ]
  },
  {
   "cell_type": "markdown",
   "metadata": {},
   "source": [
    "We can also retrieve the png as the raw binary data"
   ]
  },
  {
   "cell_type": "code",
   "execution_count": 15,
   "metadata": {},
   "outputs": [
    {
     "data": {
      "text/plain": [
       "(694772, bytes)"
      ]
     },
     "execution_count": 15,
     "metadata": {},
     "output_type": "execute_result"
    }
   ],
   "source": [
    "raw = img(format=\"bytes\")\n",
    "len(raw), type(raw)"
   ]
  },
  {
   "cell_type": "markdown",
   "metadata": {},
   "source": [
    "We can associate many image files but this leads to duplicate \"image\" feature"
   ]
  },
  {
   "cell_type": "code",
   "execution_count": 16,
   "metadata": {},
   "outputs": [
    {
     "data": {
      "text/plain": [
       "['image']"
      ]
     },
     "execution_count": 16,
     "metadata": {},
     "output_type": "execute_result"
    }
   ],
   "source": [
    "# let's remove hdf5 for clarity\n",
    "dataset.dissociate(\"../tests/baselines/node_extracts2/node_extracts2.hdf5\", absolute_path=False)\n",
    "dataset.list_features()"
   ]
  },
  {
   "cell_type": "markdown",
   "metadata": {},
   "source": [
    "Now let's associate a second image file"
   ]
  },
  {
   "cell_type": "code",
   "execution_count": 17,
   "metadata": {},
   "outputs": [
    {
     "data": {
      "text/plain": [
       "['image_@_../share/icons/png/Kosh_Logo_K_blue.png',\n",
       " 'image_@_../share/icons/png/Kosh_Logo_K_orange.png']"
      ]
     },
     "execution_count": 17,
     "metadata": {},
     "output_type": "execute_result"
    }
   ],
   "source": [
    "dataset.associate(\"../share/icons/png/Kosh_Logo_K_orange.png\", mime_type=\"png\", absolute_path=False)\n",
    "dataset.list_features()  # URI is now added to feature to disambiguate them"
   ]
  },
  {
   "cell_type": "code",
   "execution_count": 18,
   "metadata": {},
   "outputs": [
    {
     "data": {
      "text/plain": [
       "{'size': (427, 403), 'mode': 'RGBA', 'format': 'PNG'}"
      ]
     },
     "execution_count": 18,
     "metadata": {},
     "output_type": "execute_result"
    }
   ],
   "source": [
    "dataset.describe_feature(\"image_@_../share/icons/png/Kosh_Logo_K_orange.png\")"
   ]
  },
  {
   "cell_type": "code",
   "execution_count": 19,
   "metadata": {},
   "outputs": [
    {
     "data": {
      "image/png": "[encoded data removed]",
      "text/plain": [
       "<Figure size 432x288 with 1 Axes>"
      ]
     },
     "metadata": {
      "needs_background": "light"
     },
     "output_type": "display_data"
    }
   ],
   "source": [
    "try:\n",
    "    plt.imshow(dataset.get(\"image_@_../share/icons/png/Kosh_Logo_K_orange.png\"))  # Plot last channel\n",
    "except Exception:\n",
    "    print(\"With matplotlib you would have seen a \")"
   ]
  }
 ],
 "metadata": {
  "kernelspec": {
   "display_name": "Kosh Environment",
   "language": "python",
   "name": "kosh"
  },
  "language_info": {
   "codemirror_mode": {
    "name": "ipython",
    "version": 3
   },
   "file_extension": ".py",
   "mimetype": "text/x-python",
   "name": "python",
   "nbconvert_exporter": "python",
   "pygments_lexer": "ipython3",
   "version": "3.6.11"
  }
 },
 "nbformat": 4,
 "nbformat_minor": 4
}
