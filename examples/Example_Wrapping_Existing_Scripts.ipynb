{
 "cells": [
  {
   "cell_type": "markdown",
   "metadata": {},
   "source": [
    "# Wrapping Existing Scripts with Kosh\n",
    "\n",
    "In this tutorial we show you how to wrap existing command line based script and use them in combination with Kosh\n",
    "\n",
    "Table of Content\n",
    "\n",
    "* [The Script](#script)\n",
    "* [Script Expectations](#expect)\n",
    "* [Description of a wrapper](#wrapper)\n",
    "  * [Initializing](#init)\n",
    "  * [Adding parameters](#adding)\n",
    "  * [Positional parameters](#pos)\n",
    "* [Setting up the notebook](#setting)\n",
    "* [Part 1: Feeding a single object to the wrapper](#single)\n",
    "  * [Named parameters](#named)\n",
    "  * [Positional parameters](#positional)\n",
    "  * [Mapping parameters names to your objects attributes](#mapping)\n",
    "  * [Complex attributes mapping](#complex)\n",
    "* [Part 2: Passing multiple objects to the wrapper](#multiple)\n",
    "\n",
    "\n",
    "## The script<a id=\"script\"></a>\n",
    "\n",
    "We will be using a simple *dummy* script that simply outputs the parameters passed to it.\n",
    "\n"
   ]
  },
  {
   "cell_type": "code",
   "execution_count": 1,
   "metadata": {},
   "outputs": [
    {
     "name": "stdout",
     "output_type": "stream",
     "text": [
      "usage: dummy.py [-h] [--param1 PARAM1] [--param2 PARAM2] [--combined COMBINED]\n",
      "                [--run RUN]\n",
      "\n",
      "optional arguments:\n",
      "  -h, --help           show this help message and exit\n",
      "  --param1 PARAM1      First prameter (default: None)\n",
      "  --param2 PARAM2      Second parameter (default: None)\n",
      "  --combined COMBINED  A param that will come from two dataset attributes\n",
      "                       (default: None)\n",
      "  --run RUN, -r RUN    run (default: None)\n"
     ]
    }
   ],
   "source": [
    "! python ../tests/baselines/scripts/dummy.py --help"
   ]
  },
  {
   "cell_type": "markdown",
   "metadata": {},
   "source": [
    "Example:"
   ]
  },
  {
   "cell_type": "code",
   "execution_count": 2,
   "metadata": {},
   "outputs": [
    {
     "name": "stdout",
     "output_type": "stream",
     "text": [
      "Run:my_run, P1:P1, P2:P2, C:COMB, extras:['blah', 'blah', 'blah']\n"
     ]
    }
   ],
   "source": [
    "! python ../tests/baselines/scripts/dummy.py --param1 P1 --param2=P2 --combined=COMB -r my_run blah blah blah"
   ]
  },
  {
   "cell_type": "markdown",
   "metadata": {},
   "source": [
    "## Script expectations<a id=\"expect\"></a>\n",
    "\n",
    "At the moment, the script must follow these requirements:\n",
    "\n",
    " * It must muse executed from the command line and can be in any language\n",
    " * arguments are passed either via underscore(s) (e.g `--param1`, `-r`), or be simply positional.\n",
    " \n",
    "## Setting up the wrapper<a id='wrapper'></a>\n",
    "\n",
    "### Initializing with an executable<a id='init'></a>\n",
    "\n",
    "When initiating the wrapper, we must let it know:\n",
    "\n",
    " * The `executable` (e.g `python ../tests/baselines/scripts/dummy.py`)\n",
    "\n",
    "### Adding parameters to parse<a id='adding'></a>\n",
    "\n",
    "Once you're wrapper is *linked* to the executable, you will need to let it know the parameters that you want to map\n",
    "\n",
    "This is done via the `add_argument` command (similar to the `argparse` module)\n",
    "\n",
    "The syntax is:\n",
    "```python\n",
    "wrapper.add_argument(parameter, feed_name, default, mapper, feed_pos)\n",
    "```\n",
    "\n",
    "* `parameter`: is the name of the parameter in your script (e.g `--param`)\n",
    "* `feed_name`: is the name of the attribute to match to this parameter in your input feeds. By default it will be the same as the parameter name\n",
    "* `default`: is the name of the default value to use if the parameter is not attached in the feed, `use_default` means do not construct this parameter in the command line to let the script choose the value. Otherwise this value will be used to construct the command line, if the parameter could not be constructed via feed objects.\n",
    "* `mapper`: is a function that takes the **feed object** and the **feed_name** as input and return the value to use. Failure on the function will result in using the *default* value for this parameter.\n",
    "* `feed_pos`: Index of  the object in the input feed that will be used to construct this paramter value. Possible values:\n",
    "  * `index`: The `index`th object in the feed will be used to construct the value\n",
    "  * `None`: All objects will be scanned in order. Once a value is obtained, subsequent feed objects will be ignored.\n",
    "  * `-1`: All objects will be scanned in order. The last value successfully constructed will be used.\n",
    "\n",
    "### Positional parameters<a id='pos'></a>\n",
    "\n",
    "Positional parameters can be defined by passing `parameter=''` ***AND*** `feed_name='some_name'`\n",
    "\n",
    "**IMPORTANT**: Positional parameters will be constructed in the order they have beed added to the wrapper via the `add_argument` function.\n",
    "\n",
    "## Setting up the notebook<a id='setting'></a>\n",
    "\n",
    "Let's import the necessary modules and create an empty store with a single attributeless dataset\n"
   ]
  },
  {
   "cell_type": "code",
   "execution_count": 3,
   "metadata": {},
   "outputs": [],
   "source": [
    "import kosh\n",
    "store = kosh.create_new_db(\"script_wrapping_tutorial.sql\")\n",
    "dataset = store.create(name=\"tutorial\")"
   ]
  },
  {
   "cell_type": "markdown",
   "metadata": {},
   "source": [
    "## Part 1: Single object feed<a id='single'></a>\n",
    "\n",
    "### Named parameters<a id='named'></a>\n",
    "\n",
    "Let's setup our script wrapper, will simply tell it to use our dataset's `param1` attribute value as the value for the `--param1` command line argument."
   ]
  },
  {
   "cell_type": "code",
   "execution_count": 4,
   "metadata": {},
   "outputs": [],
   "source": [
    "# How to run my script?\n",
    "my_executable = \"python ../tests/baselines/scripts/dummy.py\"\n",
    "wrapper = kosh.utils.KoshScriptWrapper(executable=my_executable)\n",
    "wrapper.add_argument(\"--param1\")"
   ]
  },
  {
   "cell_type": "markdown",
   "metadata": {},
   "source": [
    "Now let's use this on our dataset:"
   ]
  },
  {
   "cell_type": "code",
   "execution_count": 5,
   "metadata": {},
   "outputs": [
    {
     "name": "stdout",
     "output_type": "stream",
     "text": [
      "Run:None, P1:parameter 1, P2:None, C:None, extras:[]\n",
      "\n"
     ]
    }
   ],
   "source": [
    "# First let's set `param1`\n",
    "dataset.param1 = \"parameter 1\"\n",
    "# By default the call returns the process output and error pipes\n",
    "o, e = wrapper.run(dataset)\n",
    "print(o.decode())"
   ]
  },
  {
   "cell_type": "code",
   "execution_count": 6,
   "metadata": {},
   "outputs": [
    {
     "name": "stdout",
     "output_type": "stream",
     "text": [
      "Run:None, P1:parameter 1, P2:None, C:None, extras:[]\n",
      "\n"
     ]
    }
   ],
   "source": [
    "# If you prefer you can get back the process itself before the call to `communicate`\n",
    "p = wrapper.run(dataset, call_communicate=False)\n",
    "print(p.communicate()[0].decode())"
   ]
  },
  {
   "cell_type": "markdown",
   "metadata": {},
   "source": [
    "You can inspect the call that was generated at:\n",
    "wrapper.constructed_command_line"
   ]
  },
  {
   "cell_type": "code",
   "execution_count": 7,
   "metadata": {},
   "outputs": [
    {
     "name": "stdout",
     "output_type": "stream",
     "text": [
      "We called: python ../tests/baselines/scripts/dummy.py --param1 'parameter 1'\n"
     ]
    }
   ],
   "source": [
    "print(\"We called:\", wrapper.constructed_command_line)"
   ]
  },
  {
   "cell_type": "code",
   "execution_count": 8,
   "metadata": {},
   "outputs": [
    {
     "name": "stdout",
     "output_type": "stream",
     "text": [
      "Run:None, P1:parameter 1, P2:None, C:None, extras:[]\n"
     ]
    }
   ],
   "source": [
    "# Let's double check we get the same answer\n",
    "!python ../tests/baselines/scripts/dummy.py --param1 'parameter 1'"
   ]
  },
  {
   "cell_type": "markdown",
   "metadata": {},
   "source": [
    "Let's map all parameters"
   ]
  },
  {
   "cell_type": "code",
   "execution_count": 9,
   "metadata": {},
   "outputs": [
    {
     "name": "stdout",
     "output_type": "stream",
     "text": [
      "python ../tests/baselines/scripts/dummy.py --param1 'parameter 1'\n"
     ]
    }
   ],
   "source": [
    "wrapper = kosh.utils.KoshScriptWrapper(executable=my_executable)\n",
    "wrapper.add_argument(\"--param1\")\n",
    "wrapper.add_argument(\"--param2\")\n",
    "wrapper.add_argument(\"--run\")\n",
    "wrapper.add_argument(\"--combined\")\n",
    "wrapper.run(dataset)\n",
    "# note that parameters not mapped to the dataset where not\n",
    "# constructed by default, letting the script pick their default value\n",
    "print(wrapper.constructed_command_line)"
   ]
  },
  {
   "cell_type": "markdown",
   "metadata": {},
   "source": [
    "We can pass the desired values at call time to override any value found in dataset(s):"
   ]
  },
  {
   "cell_type": "code",
   "execution_count": 10,
   "metadata": {},
   "outputs": [
    {
     "name": "stdout",
     "output_type": "stream",
     "text": [
      "python ../tests/baselines/scripts/dummy.py --param1 'parameter 1' --param2 'P2'\n"
     ]
    }
   ],
   "source": [
    "wrapper.run(dataset,param2=\"P2\")\n",
    "print(wrapper.constructed_command_line)"
   ]
  },
  {
   "cell_type": "markdown",
   "metadata": {},
   "source": [
    "We can also set our own default for unmapped parameters, (rather than the script's ones)"
   ]
  },
  {
   "cell_type": "code",
   "execution_count": 11,
   "metadata": {},
   "outputs": [
    {
     "name": "stdout",
     "output_type": "stream",
     "text": [
      "python ../tests/baselines/scripts/dummy.py --param1 'parameter 1' --param2 'my_p2_default' --combined 'my_Def_combined'\n"
     ]
    }
   ],
   "source": [
    "wrapper = kosh.utils.KoshScriptWrapper(executable=my_executable)\n",
    "wrapper.add_argument(\"--param1\", default=\"use_default\")\n",
    "wrapper.add_argument(\"--param2\", default=\"my_p2_default\")\n",
    "wrapper.add_argument(\"--combined\", default=\"my_Def_combined\")\n",
    "wrapper.run(dataset)\n",
    "# note that parameters not mapped to the datset where\n",
    "# constructed with our new defaults\n",
    "# while `--run` was left unconstructed\n",
    "print(wrapper.constructed_command_line)"
   ]
  },
  {
   "cell_type": "code",
   "execution_count": 12,
   "metadata": {},
   "outputs": [
    {
     "name": "stdout",
     "output_type": "stream",
     "text": [
      "python ../tests/baselines/scripts/dummy.py --param1 'parameter 1' --param2 'P2' --combined 'my_Def_combined'\n"
     ]
    }
   ],
   "source": [
    "# We can mix and match, call time always override everything else\n",
    "wrapper.run(dataset, param2=\"P2\", run=\"MY RUN\")\n",
    "print(wrapper.constructed_command_line)"
   ]
  },
  {
   "cell_type": "code",
   "execution_count": 13,
   "metadata": {},
   "outputs": [
    {
     "name": "stdout",
     "output_type": "stream",
     "text": [
      "python ../tests/baselines/scripts/dummy.py --param1 'my forced param1' --param2 'P2' --combined 'my_Def_combined'\n"
     ]
    }
   ],
   "source": [
    "# we can also override the dataset mapping\n",
    "wrapper.run(dataset, param2=\"P2\", run=\"MY RUN\", param1=\"my forced param1\")\n",
    "# Note that `run` is NOT constructed because our wrapper does NOT know about it\n",
    "print(wrapper.constructed_command_line)"
   ]
  },
  {
   "cell_type": "code",
   "execution_count": 14,
   "metadata": {},
   "outputs": [
    {
     "name": "stdout",
     "output_type": "stream",
     "text": [
      "python ../tests/baselines/scripts/dummy.py --param1 'my forced param1' --param2 'P2' --combined 'my_Def_combined' --run 'MY RUN'\n"
     ]
    }
   ],
   "source": [
    "# We need to let the wrapper know about `run`\n",
    "wrapper = kosh.utils.KoshScriptWrapper(executable=my_executable)\n",
    "wrapper.add_argument(\"--param1\", default=\"use_default\")\n",
    "wrapper.add_argument(\"--param2\", default=\"my_p2_default\")\n",
    "wrapper.add_argument(\"--combined\", default=\"my_Def_combined\")\n",
    "wrapper.add_argument(\"--run\")\n",
    "wrapper.run(dataset, param2=\"P2\", run=\"MY RUN\", param1=\"my forced param1\")\n",
    "# Note that `run` is now constructed because our wrapper does know about it\n",
    "print(wrapper.constructed_command_line)"
   ]
  },
  {
   "cell_type": "code",
   "execution_count": 15,
   "metadata": {},
   "outputs": [
    {
     "name": "stdout",
     "output_type": "stream",
     "text": [
      "python ../tests/baselines/scripts/dummy.py --param1 'parameter 1' --param2 'P2' --combined 'my_Def_combined' -r 'MY RUN'\n"
     ]
    }
   ],
   "source": [
    "# we can also let it know about the \"-r\" alias if we prefer\n",
    "wrapper = kosh.utils.KoshScriptWrapper(executable=my_executable)\n",
    "wrapper.add_argument(\"--param1\", default=\"use_default\")\n",
    "wrapper.add_argument(\"--param2\", default=\"my_p2_default\")\n",
    "wrapper.add_argument(\"--combined\", default=\"my_Def_combined\")\n",
    "wrapper.add_argument(\"-r\")\n",
    "\n",
    "# we need to pass it via \"r\" though\n",
    "wrapper.run(dataset, param2=\"P2\", r=\"MY RUN\")\n",
    "print(wrapper.constructed_command_line)"
   ]
  },
  {
   "cell_type": "markdown",
   "metadata": {},
   "source": [
    "### Positional parameters<a id='positional'></a>\n",
    "\n",
    "Now let's let our wrapper know that we want some positional parameters\n",
    "\n",
    "In order to map them to our dataset attributes and preserve the order we need to declare them in the order they should be passed to the script"
   ]
  },
  {
   "cell_type": "code",
   "execution_count": 16,
   "metadata": {},
   "outputs": [
    {
     "name": "stdout",
     "output_type": "stream",
     "text": [
      "python ../tests/baselines/scripts/dummy.py --param1 'parameter 1' --param2 'my_p2_default' --combined 'my_Def_combined' 'positional_1' 'my_def_second'\n"
     ]
    }
   ],
   "source": [
    "wrapper = kosh.utils.KoshScriptWrapper(executable=my_executable)\n",
    "wrapper.add_argument(\"--param1\", default=\"use_default\")\n",
    "wrapper.add_argument(\"--param2\", default=\"my_p2_default\")\n",
    "wrapper.add_argument(\"--combined\", default=\"my_Def_combined\")\n",
    "wrapper.add_argument(\"-r\")\n",
    "# Now the positional argument and their corresponding target attributes on the feed\n",
    "# Also we can similarly replace the default values\n",
    "wrapper.add_argument(\"\", feed_attribute=\"first\")\n",
    "wrapper.add_argument(\"\", feed_attribute=\"second\", default=\"my_def_second\")\n",
    "wrapper.add_argument(\"\", feed_attribute=\"third\")\n",
    "\n",
    "# let's set first on our dataset\n",
    "dataset.first = \"positional_1\"\n",
    "wrapper.run(dataset)\n",
    "# Note that the last positional arg was not constructed\n",
    "# because it's value was not updated from \"use_default\"\n",
    "# and no positional argument exists after it\n",
    "print(wrapper.constructed_command_line)"
   ]
  },
  {
   "cell_type": "markdown",
   "metadata": {},
   "source": [
    "Note that the declaration order matters:"
   ]
  },
  {
   "cell_type": "code",
   "execution_count": 17,
   "metadata": {},
   "outputs": [
    {
     "name": "stdout",
     "output_type": "stream",
     "text": [
      "python ../tests/baselines/scripts/dummy.py --param1 'parameter 1' --param2 'my_p2_default' --combined 'my_Def_combined' 'my_def_second' 'positional_1'\n"
     ]
    }
   ],
   "source": [
    "wrapper = kosh.utils.KoshScriptWrapper(executable=my_executable)\n",
    "wrapper.add_argument(\"--param1\", default=\"use_default\")\n",
    "wrapper.add_argument(\"--param2\", default=\"my_p2_default\")\n",
    "wrapper.add_argument(\"--combined\", default=\"my_Def_combined\")\n",
    "wrapper.add_argument(\"-r\")\n",
    "# Now the positional argument and their corresponding target attributes on the feed\n",
    "# Also we can similarly replace the default values\n",
    "wrapper.add_argument(\"\", feed_attribute=\"second\", default=\"my_def_second\")\n",
    "wrapper.add_argument(\"\", feed_attribute=\"first\")\n",
    "wrapper.add_argument(\"\", feed_attribute=\"third\")\n",
    "\n",
    "# let's set first on our dataset\n",
    "dataset.first = \"positional_1\"\n",
    "wrapper.run(dataset)\n",
    "# Note that the last positional arg was not constructed\n",
    "# because it's value was not updated from \"use_default\"\n",
    "# and no positional argument exists after it\n",
    "print(wrapper.constructed_command_line)"
   ]
  },
  {
   "cell_type": "markdown",
   "metadata": {},
   "source": [
    "### Mapping parameters<a id='mapping'></a>\n",
    "\n",
    "While being able to map parameters is nice, it is often impractical as metadata will not match exactly the script expected parameters names.\n",
    "\n",
    "Similarly to *positional parameters* we can pass a `feed_name` to point to the corresponding attribute in the feed object\n",
    "\n",
    "In our case let's say that the `run` parameter actually maps to the `name` attribute of our dataset"
   ]
  },
  {
   "cell_type": "code",
   "execution_count": 18,
   "metadata": {},
   "outputs": [
    {
     "name": "stdout",
     "output_type": "stream",
     "text": [
      "python ../tests/baselines/scripts/dummy.py --param1 'parameter 1' --param2 'my_p2_default' --combined 'my_Def_combined' -r 'tutorial'\n"
     ]
    }
   ],
   "source": [
    "wrapper = kosh.utils.KoshScriptWrapper(executable=my_executable)\n",
    "wrapper.add_argument(\"--param1\", default=\"use_default\")\n",
    "wrapper.add_argument(\"--param2\", default=\"my_p2_default\")\n",
    "wrapper.add_argument(\"--combined\", default=\"my_Def_combined\")\n",
    "wrapper.add_argument(\"-r\", feed_attribute=\"name\")\n",
    "wrapper.run(dataset)\n",
    "# Note that `--run` was mapped to `tutorials` which our dataset name\n",
    "print(wrapper.constructed_command_line)"
   ]
  },
  {
   "cell_type": "markdown",
   "metadata": {},
   "source": [
    "### Complex name mapping: using functions<a id='complex'></a>\n",
    "\n",
    "Sometimes we will need some more elaborate ways to construct the value.\n",
    "\n",
    "One can pass a `mapper`function to the `add_argument` command that will take the feed object passed at call time as an input as well as the feed attribute it is mapped to.\n",
    "\n",
    "Here we will map `combined` to path created by joining the `root` attribute of our dataset to its `name` attribute\n"
   ]
  },
  {
   "cell_type": "code",
   "execution_count": 19,
   "metadata": {},
   "outputs": [
    {
     "name": "stdout",
     "output_type": "stream",
     "text": [
      "python ../tests/baselines/scripts/dummy.py --param1 'parameter 1' --param2 'my_p2_default' --combined '/my/root/path/tutorial' --run 'tutorial'\n"
     ]
    }
   ],
   "source": [
    "import os\n",
    "wrapper = kosh.utils.KoshScriptWrapper(executable=my_executable)\n",
    "wrapper.add_argument(\"--param1\", default=\"use_default\")\n",
    "wrapper.add_argument(\"--param2\", default=\"my_p2_default\")\n",
    "wrapper.add_argument(\"--combined\", default=\"my_Def_combined\", mapper=lambda x, y: os.path.join(x.root, x.name))\n",
    "wrapper.add_argument(\"--run\", feed_attribute=\"name\")\n",
    "\n",
    "# let's set first on our dataset\n",
    "dataset.root = \"/my/root/path\"\n",
    "wrapper.run(dataset)\n",
    "print(wrapper.constructed_command_line)"
   ]
  },
  {
   "cell_type": "markdown",
   "metadata": {},
   "source": [
    "We can use this for positional parameters as well\n",
    "\n",
    "In this case we will map the third positional arguments to the uri of the first associated data source with mime_type \"py\""
   ]
  },
  {
   "cell_type": "code",
   "execution_count": 20,
   "metadata": {},
   "outputs": [
    {
     "name": "stdout",
     "output_type": "stream",
     "text": [
      "python ../tests/baselines/scripts/dummy.py --param1 'parameter 1' --param2 'my_p2_default' --combined '/my/root/path/tutorial' --run 'tutorial' 'positional_1' 'my_def_second' '/g/g19/cdoutrix/git/kosh/setup.py'\n"
     ]
    }
   ],
   "source": [
    "def my_function(obj, attribute):\n",
    "    associated_source = obj.search(mime_type=\"py\")[0]\n",
    "    return associated_source.uri\n",
    "\n",
    "wrapper = kosh.utils.KoshScriptWrapper(executable=my_executable)\n",
    "wrapper.add_argument(\"--param1\", default=\"use_default\")\n",
    "wrapper.add_argument(\"--param2\", default=\"my_p2_default\")\n",
    "wrapper.add_argument(\"--combined\", default=\"my_Def_combined\", mapper=lambda x, y: os.path.join(x.root, x.name))\n",
    "wrapper.add_argument(\"--run\", feed_attribute=\"name\")\n",
    "wrapper.add_argument(\"\", feed_attribute=\"first\")\n",
    "wrapper.add_argument(\"\", feed_attribute=\"second\", default=\"my_def_second\")\n",
    "wrapper.add_argument(\"\", feed_attribute=\"third\", mapper=my_function)\n",
    "\n",
    "\n",
    "dataset.associate(\"../setup.py\", \"py\")\n",
    "wrapper.run(dataset)\n",
    "print(wrapper.constructed_command_line)"
   ]
  },
  {
   "cell_type": "markdown",
   "metadata": {},
   "source": [
    "## Part 2: Passing multiple objects to the run command<a id='multiple'></a>\n",
    "\n",
    "So far we showed how to map parameters to a single object, but we can *feed* many objects to our `run` command.\n",
    "\n",
    "Via the `add_argument` you can control which object of the feed will be used to construct each parameter.\n",
    "\n",
    "By default, the wrapper will construct the parameter values from the first valid object fed to it.\n",
    "\n",
    "For example let's feed it the following 3 objects:"
   ]
  },
  {
   "cell_type": "code",
   "execution_count": 21,
   "metadata": {},
   "outputs": [],
   "source": [
    "d1 = store.create(name='d1', metadata={\"run\": \"run1\"})\n",
    "d2 = store.create(name='d2', metadata={\"run\": \"run2\", \"param1\":2})\n",
    "d3 = store.create(name='d3', metadata={\"run\": \"run3\", \"param1\":3, \"param2\":3})\n",
    "\n",
    "wrapper = kosh.utils.KoshScriptWrapper(executable=my_executable)\n",
    "wrapper.add_argument(\"--param1\", default=\"p1_default\")\n",
    "wrapper.add_argument(\"--param2\", default=\"my_p2_default\")\n",
    "wrapper.add_argument(\"--run\")\n",
    "wrapper.add_argument(\"--combined\", default='combined_default')\n"
   ]
  },
  {
   "cell_type": "markdown",
   "metadata": {},
   "source": [
    "Let's *feed* the following 3 objects to our wrapper. They all contain `run` so the value of `run` used will be the one from the first object fed to it. `param1` is only on two datasets so it will use the first value it can construct which is from `d2`. Only `d3` has the `param2` attribute so it will be taken from it. Finally none of them has the `combined` attribute so the *default value* from the `add_argument` command will be used."
   ]
  },
  {
   "cell_type": "code",
   "execution_count": 22,
   "metadata": {},
   "outputs": [
    {
     "name": "stdout",
     "output_type": "stream",
     "text": [
      "python ../tests/baselines/scripts/dummy.py --param1 2 --param2 3 --run 'run1' --combined 'combined_default'\n"
     ]
    }
   ],
   "source": [
    "wrapper.run(d1, d2, d3)\n",
    "print(wrapper.constructed_command_line)"
   ]
  },
  {
   "cell_type": "markdown",
   "metadata": {},
   "source": [
    "Note how changing the *feed* order matters:"
   ]
  },
  {
   "cell_type": "code",
   "execution_count": 23,
   "metadata": {},
   "outputs": [
    {
     "name": "stdout",
     "output_type": "stream",
     "text": [
      "python ../tests/baselines/scripts/dummy.py --param1 3 --param2 3 --run 'run3' --combined 'combined_default'\n"
     ]
    }
   ],
   "source": [
    "wrapper.run(d3, d1, d2)\n",
    "print(wrapper.constructed_command_line)"
   ]
  },
  {
   "cell_type": "markdown",
   "metadata": {},
   "source": [
    "Now, this default might not be your prefered way, so you can also tell the wrapper to use the value from the last possible object, for this use the `feed_pos=-1` argument"
   ]
  },
  {
   "cell_type": "code",
   "execution_count": 24,
   "metadata": {},
   "outputs": [
    {
     "name": "stdout",
     "output_type": "stream",
     "text": [
      "python ../tests/baselines/scripts/dummy.py --param1 3 --param2 3 --run 'run3'\n"
     ]
    }
   ],
   "source": [
    "wrapper = kosh.utils.KoshScriptWrapper(executable=my_executable)\n",
    "wrapper.add_argument(\"--param1\", default=\"p1_default\", feed_pos=-1)\n",
    "wrapper.add_argument(\"--param2\", default=\"my_p2_default\", feed_pos=-1)\n",
    "wrapper.add_argument(\"--run\", feed_pos=-1)\n",
    "wrapper.run(d1, d2, d3)\n",
    "print(wrapper.constructed_command_line)"
   ]
  },
  {
   "cell_type": "markdown",
   "metadata": {},
   "source": [
    "Note how `param1` is not coming from the last passed object."
   ]
  },
  {
   "cell_type": "code",
   "execution_count": 25,
   "metadata": {},
   "outputs": [
    {
     "name": "stdout",
     "output_type": "stream",
     "text": [
      "python ../tests/baselines/scripts/dummy.py --param1 2 --param2 3 --run 'run2'\n"
     ]
    }
   ],
   "source": [
    "wrapper.run(d3, d1, d2)\n",
    "print(wrapper.constructed_command_line)"
   ]
  },
  {
   "cell_type": "markdown",
   "metadata": {},
   "source": [
    "But sometimes you want to control exactly which object from the feed must be used.\n",
    "Let's force `param1` and `param2` to come from the second passed object (`feed_pos=1` because of 0 indexing in Python)"
   ]
  },
  {
   "cell_type": "code",
   "execution_count": 26,
   "metadata": {},
   "outputs": [
    {
     "name": "stdout",
     "output_type": "stream",
     "text": [
      "python ../tests/baselines/scripts/dummy.py --param1 2 --param2 'my_p2_default' --run 'run1'\n"
     ]
    }
   ],
   "source": [
    "wrapper = kosh.utils.KoshScriptWrapper(executable=my_executable)\n",
    "wrapper.add_argument(\"--param1\", default=\"p1_default\", feed_pos=1)\n",
    "wrapper.add_argument(\"--param2\", default=\"my_p2_default\", feed_pos=1)\n",
    "wrapper.add_argument(\"--run\")\n",
    "wrapper.run(d1, d2, d3)\n",
    "print(wrapper.constructed_command_line)"
   ]
  },
  {
   "cell_type": "markdown",
   "metadata": {},
   "source": [
    "`feed_pos` can also be used with positional arguments"
   ]
  },
  {
   "cell_type": "code",
   "execution_count": 27,
   "metadata": {},
   "outputs": [
    {
     "name": "stdout",
     "output_type": "stream",
     "text": [
      "python ../tests/baselines/scripts/dummy.py --param1 2 --param2 'my_p2_default' --run 'run1' 'd2' 2\n"
     ]
    }
   ],
   "source": [
    "wrapper = kosh.utils.KoshScriptWrapper(executable=my_executable)\n",
    "wrapper.add_argument(\"--param1\", default=\"p1_default\", feed_pos=1)\n",
    "wrapper.add_argument(\"--param2\", default=\"my_p2_default\", feed_pos=1)\n",
    "wrapper.add_argument(\"\", feed_attribute=\"name\", feed_pos=1)\n",
    "wrapper.add_argument(\"\", feed_attribute=\"param1\", feed_pos=1)\n",
    "wrapper.add_argument(\"--run\")\n",
    "wrapper.run(d1, d2, d3)\n",
    "print(wrapper.constructed_command_line)"
   ]
  }
 ],
 "metadata": {
  "kernelspec": {
   "display_name": "Kosh Environment",
   "language": "python",
   "name": "kosh"
  },
  "language_info": {
   "codemirror_mode": {
    "name": "ipython",
    "version": 3
   },
   "file_extension": ".py",
   "mimetype": "text/x-python",
   "name": "python",
   "nbconvert_exporter": "python",
   "pygments_lexer": "ipython3",
   "version": "3.6.11"
  }
 },
 "nbformat": 4,
 "nbformat_minor": 4
}
