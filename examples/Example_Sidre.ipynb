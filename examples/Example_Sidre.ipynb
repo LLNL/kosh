{
 "cells": [
  {
   "cell_type": "markdown",
   "metadata": {},
   "source": [
    "# This Notebook illustrates how to use the Sidre/Conduit Loader\n",
    "\n",
    "## Installing conduit with Kosh\n",
    "\n",
    "```bash\n",
    "git clone https://github.com/LLNL/conduit.git\n",
    "cd conduit\n",
    "mkdir build\n",
    "cd build\n",
    "export MY_PYTHON=$(python -c \"import sys;print(sys.prefix)\")\n",
    "cmake ../src -DCMAKE_INSTALL_PREFIX=${MY_PYTHON} -DENABLE_PYTHON=ON -DHDF5_DIR=/usr\n",
    "make -j\n",
    "make install\n",
    "```\n",
    "\n",
    "## Making sure conduit is in your path\n",
    "\n",
    "in your python scripts add\n",
    "\n",
    "```python\n",
    "import sys\n",
    "import os\n",
    "sys.path.append(os.path.join(sys.prefix,\"python-modules\"))\n",
    "```\n",
    "\n",
    "Let's import the necessary modules for this notebook"
   ]
  },
  {
   "cell_type": "code",
   "execution_count": 1,
   "metadata": {},
   "outputs": [],
   "source": [
    "from __future__ import print_function\n",
    "import sys\n",
    "import os\n",
    "sys.path.append(os.path.join(sys.prefix,\"python-modules\"))\n",
    "import kosh"
   ]
  },
  {
   "cell_type": "code",
   "execution_count": 2,
   "metadata": {},
   "outputs": [
    {
     "name": "stdout",
     "output_type": "stream",
     "text": [
      "You already have out_spio_blueprint_example.root\n",
      "You already have out_spio_blueprint_example/out_spio_blueprint_example_0000000.hdf5\n",
      "You already have out_spio_blueprint_example/out_spio_blueprint_example_0000001.hdf5\n",
      "You already have out_spio_blueprint_example/out_spio_blueprint_example_0000002.hdf5\n",
      "You already have out_spio_blueprint_example/out_spio_blueprint_example_0000003.hdf5\n"
     ]
    }
   ],
   "source": [
    "# Let's import data if not already present\n",
    "import requests\n",
    "import os\n",
    "\n",
    "source_uri = \"https://github.com/LLNL/conduit/raw/master/src/tests/relay/data/\"\n",
    "files = ['out_spio_blueprint_example.root',]\n",
    "files +=  [os.path.join('out_spio_blueprint_example', 'out_spio_blueprint_example_000000{}.hdf5'.format(x)) for x in range(4)]\n",
    "\n",
    "for filename in files:\n",
    "    if not os.path.exists(filename):\n",
    "        print(\"Fetching\",filename)\n",
    "        if not os.path.exists(os.path.dirname(os.path.abspath(filename))):\n",
    "            os.makedirs(os.path.dirname(os.path.abspath(filename)))\n",
    "        r = requests.get(source_uri+filename, stream=True)\n",
    "        with open(filename,\"wb\") as f:\n",
    "            for chunk in r.iter_content(chunk_size=1024):\n",
    "                if chunk:\n",
    "                    f.write(chunk) # write this chunk to a local version of the file\n",
    "    else:\n",
    "        print(\"You already have {}\".format(filename))"
   ]
  },
  {
   "cell_type": "markdown",
   "metadata": {},
   "source": [
    "Let's create a new store and create a dataset pointing to these example files"
   ]
  },
  {
   "cell_type": "code",
   "execution_count": 3,
   "metadata": {},
   "outputs": [
    {
     "data": {
      "text/plain": [
       "'c46f79cc2fc54c89980a742ad0592691'"
      ]
     },
     "execution_count": 3,
     "metadata": {},
     "output_type": "execute_result"
    }
   ],
   "source": [
    "# Create a new store\n",
    "kosh_example_sql_file = \"my_store.sql\"\n",
    "    \n",
    "# Create db on file\n",
    "store = kosh.create_new_db(kosh_example_sql_file)\n",
    "\n",
    "dataset = store.create(name=\"example\", metadata={'project':\"example\"})\n",
    "    \n",
    " #Associate file with datasets\n",
    "dataset.associate(files[0], mime_type=\"sidre_mesh_blueprint_fields\")"
   ]
  },
  {
   "cell_type": "markdown",
   "metadata": {},
   "source": [
    "Let's list the features available to us"
   ]
  },
  {
   "cell_type": "code",
   "execution_count": 4,
   "metadata": {},
   "outputs": [
    {
     "data": {
      "text/plain": [
       "['mesh/field', 'mesh/rank']"
      ]
     },
     "execution_count": 4,
     "metadata": {},
     "output_type": "execute_result"
    }
   ],
   "source": [
    "dataset.list_features()"
   ]
  },
  {
   "cell_type": "markdown",
   "metadata": {},
   "source": [
    "Let's retrieve the *field* as a numpy array (default)"
   ]
  },
  {
   "cell_type": "code",
   "execution_count": 5,
   "metadata": {},
   "outputs": [
    {
     "data": {
      "text/plain": [
       "array([0., 1., 2., 3., 0., 1., 2., 3., 0., 1., 2., 3., 0., 1., 2., 3.])"
      ]
     },
     "execution_count": 5,
     "metadata": {},
     "output_type": "execute_result"
    }
   ],
   "source": [
    "dataset.get(\"mesh/field\")"
   ]
  },
  {
   "cell_type": "markdown",
   "metadata": {},
   "source": [
    "We can also retrieve it as a plain sider/path object"
   ]
  },
  {
   "cell_type": "code",
   "execution_count": 6,
   "metadata": {},
   "outputs": [
    {
     "data": {
      "text/plain": [
       "[<IOHandle at 0x2aaae00f5378>, 'root/blueprint_index/mesh/fields/field/path']"
      ]
     },
     "execution_count": 6,
     "metadata": {},
     "output_type": "execute_result"
    }
   ],
   "source": [
    "dataset.get(\"mesh/field\", format=\"sidre/path\")"
   ]
  },
  {
   "cell_type": "markdown",
   "metadata": {},
   "source": [
    "We also have a transformer built on top of the sidre loader that can return basic statistics."
   ]
  },
  {
   "cell_type": "code",
   "execution_count": 7,
   "metadata": {},
   "outputs": [
    {
     "name": "stdout",
     "output_type": "stream",
     "text": [
      "Statistics: dict_keys(['histogram', 'min', 'max', 'mean', 'std'])\n"
     ]
    }
   ],
   "source": [
    "stats = dataset.get(\"mesh/field\", transformers=[kosh.transformers.SidreFeatureMetrics()])\n",
    "print(\"Statistics:\", stats.keys())"
   ]
  },
  {
   "cell_type": "code",
   "execution_count": 8,
   "metadata": {},
   "outputs": [
    {
     "data": {
      "text/plain": [
       "(array([45.,  0.,  0.,  0.,  0.,  0.,  0.,  0.,  0.,  4.]),\n",
       " array([0. , 0.4, 0.8, 1.2, 1.6, 2. , 2.4, 2.8, 3.2, 3.6, 4. ]),\n",
       " <a list of 10 Patch objects>)"
      ]
     },
     "execution_count": 8,
     "metadata": {},
     "output_type": "execute_result"
    },
    {
     "data": {
      "image/png": "[encoded data removed]",
      "text/plain": [
       "<Figure size 432x288 with 1 Axes>"
      ]
     },
     "metadata": {
      "needs_background": "light"
     },
     "output_type": "display_data"
    }
   ],
   "source": [
    "import matplotlib.pyplot as plt\n",
    "plt.hist(stats[\"histogram\"])"
   ]
  }
 ],
 "metadata": {
  "kernelspec": {
   "display_name": "Kosh Environment",
   "language": "python",
   "name": "kosh"
  },
  "language_info": {
   "codemirror_mode": {
    "name": "ipython",
    "version": 3
   },
   "file_extension": ".py",
   "mimetype": "text/x-python",
   "name": "python",
   "nbconvert_exporter": "python",
   "pygments_lexer": "ipython3",
   "version": "3.6.11"
  }
 },
 "nbformat": 4,
 "nbformat_minor": 4
}
