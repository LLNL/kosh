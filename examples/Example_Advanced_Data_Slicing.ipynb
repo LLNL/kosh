{
 "cells": [
  {
   "cell_type": "markdown",
   "metadata": {},
   "source": [
    "# Advanced Slicing in Kosh\n",
    "\n",
    "This notebook is for **advanced** users.\n",
    "\n",
    "We will show how to re-implement `__getitem__` in Kosh's Loaders, Transformers or Operators, to allow efficient slicing.\n",
    "\n",
    "## Concepts\n",
    "\n",
    "In early version of Kosh (<1.2) , Transformers and Loaders would only allow to retrieve a feature in its whole. Loaders could be fed user-defined keywords to subset a feature but nothing general was in place.\n",
    "\n",
    "Similarly transformers would get the entire feature before processing it.\n",
    "\n",
    "Starting with 1.2, Kosh offers the possibility to slice a feature at any level, allowing for efficient data retrieval.\n",
    "\n",
    "In this notebook will assume we have a very big dataset that cannot fit in memory at once. We will show how Kosh can still work on *chunks* of the datasets.\n",
    "\n",
    "## The need for indexing\n",
    "\n",
    "To demonstrate Kosh capabilities we will create a custom loader, that returns range(N) with N coming from the source name itself. When N becomes very big, a regular ingestion is no longer possible.\n",
    "\n",
    "## Standard Loader\n",
    "\n",
    "Let's create this loader in its most basic form. \n",
    "\n"
   ]
  },
  {
   "cell_type": "code",
   "execution_count": 1,
   "metadata": {},
   "outputs": [],
   "source": [
    "import kosh\n",
    "import os\n",
    "import numpy\n",
    "\n",
    "\n",
    "class MyBasicLoader(kosh.KoshLoader):\n",
    "    types = {\"range\": [\"numpy\", ]}\n",
    "\n",
    "    def extract(self):\n",
    "        # ridiculous over-simplification, use name to get length!\n",
    "        length = int(os.path.basename(self.obj.uri))\n",
    "        return numpy.arange(length)\n",
    "\n",
    "    def list_features(self):\n",
    "        return [\"range\", ]\n"
   ]
  },
  {
   "cell_type": "markdown",
   "metadata": {},
   "source": [
    "Let's add this loader to Kosh and try to retrieve a few fake datasets\n",
    "\n",
    "It's a very simple loader, that can handle returning a single item or a slice.\n",
    "\n",
    "Note that we didn't implement things like ellipsis, etc..."
   ]
  },
  {
   "cell_type": "code",
   "execution_count": 2,
   "metadata": {},
   "outputs": [
    {
     "name": "stdout",
     "output_type": "stream",
     "text": [
      "values: [0 1 2 3 4]\n"
     ]
    }
   ],
   "source": [
    "store = kosh.connect(\"data_slicing.sql\", delete_all_contents=True)\n",
    "store.add_loader(MyBasicLoader)\n",
    "ds = store.create()\n",
    "# associate a fake source with it\n",
    "# name is \"5\" so we should return numpy.arange(5)\n",
    "ds.associate(\"5\", mime_type=\"range\")\n",
    "rg = ds[\"range\"]\n",
    "print(\"values:\", rg())"
   ]
  },
  {
   "cell_type": "markdown",
   "metadata": {},
   "source": [
    "So far all is good. But now let's assume we need a really long range"
   ]
  },
  {
   "cell_type": "code",
   "execution_count": 3,
   "metadata": {},
   "outputs": [
    {
     "name": "stdout",
     "output_type": "stream",
     "text": [
      "We failed with the following error: Maximum allowed size exceeded\n"
     ]
    }
   ],
   "source": [
    "ds = store.create()\n",
    "# associate a fake source with it\n",
    "# name is \"5\" so we should return numpy.arange(5)\n",
    "ds.associate(\"500000000000000000000000\", mime_type=\"range\")\n",
    "rg = ds[\"range\"]\n",
    "try:\n",
    "    print(\"values:\", rg())\n",
    "except Exception as error:\n",
    "    print(\"We failed with the following error:\", error)"
   ]
  },
  {
   "cell_type": "markdown",
   "metadata": {},
   "source": [
    "Maybe slicing this would work"
   ]
  },
  {
   "cell_type": "code",
   "execution_count": 4,
   "metadata": {},
   "outputs": [
    {
     "name": "stdout",
     "output_type": "stream",
     "text": [
      "We failed with the following error: Maximum allowed size exceeded\n"
     ]
    }
   ],
   "source": [
    "try:\n",
    "    print(\"values:\", rg[:3])\n",
    "except Exception as error:\n",
    "    print(\"We failed with the following error:\", error)"
   ]
  },
  {
   "cell_type": "markdown",
   "metadata": {},
   "source": [
    "Unfortunately no, this is because our loader does not explicitly define a way to slice the data.\n",
    "\n",
    "## Introducing `__getitem__` in the loader\n",
    "\n",
    "Let's solve this by adding a `__getitem__` function to our loader.\n",
    "\n",
    "It's a very simple loader, that can handle returning a single item or a slice.\n",
    "\n",
    "Note that we didn't implement things like ellipsis, etc..."
   ]
  },
  {
   "cell_type": "code",
   "execution_count": 5,
   "metadata": {},
   "outputs": [],
   "source": [
    "import kosh\n",
    "\n",
    "class MySlicingLoader(MyBasicLoader):\n",
    "    types = {\"range\": [\"numpy\", ]}\n",
    "    def __getitem__(self, key):\n",
    "        length = int(os.path.basename(self.obj.uri))\n",
    "        if isinstance(key, int):\n",
    "            if 0 <= key < length:\n",
    "                return numpy.array(key)\n",
    "            elif -length <= key < 0:\n",
    "                return length + key\n",
    "            else:\n",
    "                raise ValueError(\"Index {} is out of range\".format(key))\n",
    "        elif isinstance(key, slice):\n",
    "            start = key.start\n",
    "            stop = key.stop\n",
    "            step = key.step\n",
    "            if start is None:\n",
    "                start = 0\n",
    "            if step is None:\n",
    "                step = 1\n",
    "            if stop is None:\n",
    "                stop = length\n",
    "            if -length < start < 0:\n",
    "                start += length\n",
    "            if -length < stop < 0:\n",
    "                stop += length\n",
    "            return numpy.arange(start, stop, step, dtype=numpy.float64)\n",
    "        else:\n",
    "            raise ValueError(\"Invalid key value: {}\".format(key))\n"
   ]
  },
  {
   "cell_type": "markdown",
   "metadata": {},
   "source": [
    "Now let's remove the old loader and add this to our store."
   ]
  },
  {
   "cell_type": "code",
   "execution_count": 6,
   "metadata": {},
   "outputs": [
    {
     "name": "stdout",
     "output_type": "stream",
     "text": [
      "[0. 1. 2. 3. 4.]\n",
      "[2020. 2021. 2022. 2023. 2024.]\n"
     ]
    }
   ],
   "source": [
    "del(store.loaders[\"range\"])\n",
    "store.add_loader(MySlicingLoader)\n",
    "rg = ds[\"range\"]\n",
    "print(rg[:5])\n",
    "print(rg[2020:2025])"
   ]
  },
  {
   "cell_type": "markdown",
   "metadata": {},
   "source": [
    "Problem solved! we can now easily slice and dice our data at the loader level?\n",
    "\n",
    "## Transformers and loaders.\n",
    "\n",
    "But what about Transformers or Operators?\n",
    "\n",
    "Let's create a transformer that multiplies the data by 2."
   ]
  },
  {
   "cell_type": "code",
   "execution_count": 7,
   "metadata": {},
   "outputs": [],
   "source": [
    "class Twice(kosh.transformers.KoshTransformer):\n",
    "    types = {\"numpy\":[\"numpy\",]}\n",
    "    def transform(self, input_, format):\n",
    "        return input_*2."
   ]
  },
  {
   "cell_type": "markdown",
   "metadata": {},
   "source": [
    "Let's apply this transformer on our sliced data."
   ]
  },
  {
   "cell_type": "code",
   "execution_count": 8,
   "metadata": {},
   "outputs": [
    {
     "name": "stdout",
     "output_type": "stream",
     "text": [
      "We run into the error again!:  Maximum allowed size exceeded\n"
     ]
    }
   ],
   "source": [
    "rg = ds.get_execution_graph(\"range\", transformers=[Twice(),])\n",
    "try:\n",
    "    print(rg[:5])\n",
    "except Exception as err:\n",
    "    print(\"We run into the error again!: \", err)"
   ]
  },
  {
   "cell_type": "markdown",
   "metadata": {},
   "source": [
    "## Helping the loader from the transformer/operator: `__getitem_propagate__`\n",
    "\n",
    "We need to implement the propagation function to let the loader's `__getitem__` function know which indices are required: `__getitem__propagate__`, in addition to the requested key, *__get_item_propagate__* also receive the index of the input to which we will propagate the corresponding key. More the index later in this notebook.\n"
   ]
  },
  {
   "cell_type": "code",
   "execution_count": 9,
   "metadata": {},
   "outputs": [
    {
     "data": {
      "text/plain": [
       "array([0., 2., 4., 6., 8.])"
      ]
     },
     "execution_count": 9,
     "metadata": {},
     "output_type": "execute_result"
    }
   ],
   "source": [
    "class TwiceWithPropagate(Twice):\n",
    "    def __getitem_propagate__(self, key, input_index):\n",
    "        return key\n",
    "rg = ds.get_execution_graph(\"range\", transformers=[TwiceWithPropagate(),])\n",
    "rg[:5]"
   ]
  },
  {
   "cell_type": "markdown",
   "metadata": {},
   "source": [
    "It works! \n",
    "\n",
    "\n",
    "## Gotchas!\n",
    "\n",
    "So why didn't Kosh implement this function by default on all Transformers/Operators?\n",
    "\n",
    "It turns out index propagation can be tricky. Let's examine the case where the transformers also flips the data. \n",
    "Let's apply this to a smaller dataset so we can more easily follow the logic."
   ]
  },
  {
   "cell_type": "code",
   "execution_count": 10,
   "metadata": {},
   "outputs": [
    {
     "data": {
      "text/plain": [
       "array([8., 6., 4., 2., 0.])"
      ]
     },
     "execution_count": 10,
     "metadata": {},
     "output_type": "execute_result"
    }
   ],
   "source": [
    "class FlipPropagate(kosh.transformers.KoshTransformer):\n",
    "    def __getitem_propagate__(self, key, input_index):\n",
    "        return key\n",
    "    def transform(self, input_, format):\n",
    "        return input_[::-1] * 2.\n",
    "ds = store.create()\n",
    "ds.associate(\"20\", mime_type=\"range\")\n",
    "rg = ds.get_execution_graph(\"range\", transformers=[FlipPropagate(),])\n",
    "rg[:5]"
   ]
  },
  {
   "cell_type": "markdown",
   "metadata": {},
   "source": [
    "Compare to the full solution"
   ]
  },
  {
   "cell_type": "code",
   "execution_count": 11,
   "metadata": {},
   "outputs": [
    {
     "data": {
      "text/plain": [
       "array([38., 36., 34., 32., 30., 28., 26., 24., 22., 20., 18., 16., 14.,\n",
       "       12., 10.,  8.,  6.,  4.,  2.,  0.])"
      ]
     },
     "execution_count": 11,
     "metadata": {},
     "output_type": "execute_result"
    }
   ],
   "source": [
    "rg[:]"
   ]
  },
  {
   "cell_type": "markdown",
   "metadata": {},
   "source": [
    "We should have received: `array([38., 36., 34., 32., 30.])`\n",
    "\n",
    "So what went wrong?\n",
    "\n",
    "Well our transformer dutifully propagated to our loader that we were only interested in the first 5 elements. As a result the loader sent back `0, 1, 2, 3, 4` which our transformer appropriately flipped and multiplied by 2.\n",
    "\n",
    "So what should we do? Well we need to implement `__getitem_propagate__` in such a way that the loaders returns the **last** 5 elements and not the first five elements.\n",
    "\n",
    "Here again we will over simplify and implement only positive int and slices as possible keys."
   ]
  },
  {
   "cell_type": "code",
   "execution_count": 12,
   "metadata": {},
   "outputs": [
    {
     "data": {
      "text/plain": [
       "array([38., 36., 34., 32., 30.])"
      ]
     },
     "execution_count": 12,
     "metadata": {},
     "output_type": "execute_result"
    }
   ],
   "source": [
    "class FlipPropagateOk(kosh.transformers.KoshTransformer):\n",
    "    def __getitem_propagate__(self, key, input_index):\n",
    "        if isinstance(key, int):\n",
    "            return -1 - key\n",
    "        elif isinstance(key, slice):\n",
    "            if key.stop is None:\n",
    "                start = 0\n",
    "            else:\n",
    "                start = -key.stop\n",
    "            if key.start is None:\n",
    "                stop = None\n",
    "            else:\n",
    "                stop = -key.start\n",
    "            return slice(start, stop, key.step)\n",
    "        else:\n",
    "            return slice(None, None, None)\n",
    "\n",
    "    def transform(self, input_, format):\n",
    "        return input_[::-1] * 2.\n",
    "rg = ds.get_execution_graph(\"range\", transformers=[FlipPropagateOk(),])\n",
    "rg[:5]"
   ]
  },
  {
   "cell_type": "markdown",
   "metadata": {},
   "source": [
    "Hurray! It works!\n",
    "\n",
    "The same is true for Operators."
   ]
  },
  {
   "cell_type": "code",
   "execution_count": 13,
   "metadata": {},
   "outputs": [
    {
     "name": "stdout",
     "output_type": "stream",
     "text": [
      "[38. 38. 38. 38. 38. 38. 38. 38. 38.]\n"
     ]
    }
   ],
   "source": [
    "class ADD(kosh.KoshOperator):\n",
    "\n",
    "    types = {\"numpy\": [\"numpy\", ]}\n",
    "\n",
    "    def operate(self, *inputs, **kargs):\n",
    "        out = inputs[0]\n",
    "        for input_ in inputs[1:]:\n",
    "            out += input_\n",
    "        return out\n",
    "\n",
    "    def __getitem_propagate__(self, key, input_index):\n",
    "        return key\n",
    "\n",
    "rg1 = ds.get_execution_graph(\"range\", transformers=[FlipPropagateOk(),])\n",
    "rg2 = ds.get_execution_graph(\"range\", transformers=[TwiceWithPropagate()])\n",
    "\n",
    "add = ADD(rg1, rg2)\n",
    "\n",
    "print(add[5:-6])"
   ]
  },
  {
   "cell_type": "markdown",
   "metadata": {},
   "source": [
    "Now why do we also send the index to the operator?\n",
    "\n",
    "This can be useful for complex operators that take in a lot of inputs. Two use case come to mind:\n",
    "\n",
    "* The indexing is different based on the position of the input\n",
    "* the indexing can generate a result that kills propagation (e.g do nothing)\n",
    "\n",
    "Let's create an operator that would act as a virtual concatenator.\n",
    "\n",
    "The operator will take feature read by our slicing loader, for simplicity we will assume the features are all 10 long\n",
    "\n",
    "In the `__get_item_propagate__` function we will check if the input is in the range requested. If not we will kill propagtion, otherwise we figure the indices needed for that feature.\n",
    "\n",
    "It is important to note that `input_index` is passed as a keyword, so our function definition **MUST** declare it with this exact name.\n"
   ]
  },
  {
   "cell_type": "code",
   "execution_count": 14,
   "metadata": {},
   "outputs": [],
   "source": [
    "class VirtualConcatenator(kosh.KoshOperator):\n",
    "    types = {\"numpy\":[\"numpy\",]}\n",
    "        \n",
    "    def __init__(self, *inputs, **kargs):\n",
    "        # Assume each input is 10 long\n",
    "        self.length=len(inputs) * 10\n",
    "        super(VirtualConcatenator, self).__init__(*inputs, **kargs)\n",
    "\n",
    "    def __len__(self):\n",
    "        return self.length\n",
    "\n",
    "    def operate(self, *inputs, **args):\n",
    "        out = None\n",
    "        # This line purpose is to show how the propagate worked\n",
    "        print(\"Received:\" ,inputs)\n",
    "        for input_ in inputs:\n",
    "            if input_ is not None:\n",
    "                # We got data back\n",
    "                if out is None:\n",
    "                    out = numpy.array(input_)\n",
    "                else:\n",
    "                    out = numpy.concatenate((out, numpy.array(input_)))\n",
    "        return out\n",
    "\n",
    " "
   ]
  },
  {
   "cell_type": "markdown",
   "metadata": {},
   "source": [
    "Now let's setup a dozen input \"features\" to this operator."
   ]
  },
  {
   "cell_type": "code",
   "execution_count": 15,
   "metadata": {},
   "outputs": [
    {
     "name": "stdout",
     "output_type": "stream",
     "text": [
      "Received: (array([], dtype=int64), array([], dtype=int64), array([], dtype=int64), array([], dtype=int64), array([], dtype=int64), array([], dtype=int64), array([], dtype=int64), array([], dtype=int64), array([], dtype=int64), array([], dtype=int64), array([], dtype=int64), array([], dtype=int64))\n"
     ]
    },
    {
     "data": {
      "text/plain": [
       "0"
      ]
     },
     "execution_count": 15,
     "metadata": {},
     "output_type": "execute_result"
    }
   ],
   "source": [
    "ds = store.create()\n",
    "ds.associate(\"10\", mime_type=\"range\")\n",
    "\n",
    "VC = VirtualConcatenator(*[ds[\"range\"] for x in range(12)])\n",
    "\n",
    "all = VC[15:63]\n",
    "len(all)"
   ]
  },
  {
   "cell_type": "markdown",
   "metadata": {},
   "source": [
    "the `key` was passed to our loader, because it has a `__get_item__` function. Unfortunately slice(15,65) is empty for all datasets...\n",
    "\n",
    "Let's implement the propagate:"
   ]
  },
  {
   "cell_type": "code",
   "execution_count": 16,
   "metadata": {},
   "outputs": [
    {
     "name": "stdout",
     "output_type": "stream",
     "text": [
      "Received: (None, array([5., 6., 7., 8., 9.]), array([0., 1., 2., 3., 4., 5., 6., 7., 8., 9.]), array([0., 1., 2., 3., 4., 5., 6., 7., 8., 9.]), array([0., 1., 2., 3., 4., 5., 6., 7., 8., 9.]), array([0., 1., 2., 3., 4., 5., 6., 7., 8., 9.]), array([0., 1., 2.]), None, None, None, None, None)\n"
     ]
    },
    {
     "data": {
      "text/plain": [
       "48"
      ]
     },
     "execution_count": 16,
     "metadata": {},
     "output_type": "execute_result"
    }
   ],
   "source": [
    "class VirtualConcatenator(kosh.KoshOperator):\n",
    "    types = {\"numpy\":[\"numpy\",]}\n",
    "        \n",
    "    def __init__(self, *inputs, **kargs):\n",
    "        # Assume each input is 10 long\n",
    "        self.length=len(inputs) * 10\n",
    "        super(VirtualConcatenator, self).__init__(*inputs, **kargs)\n",
    "\n",
    "    def __len__(self):\n",
    "        return self.length\n",
    "\n",
    "    def operate(self, *inputs, **args):\n",
    "        out = None\n",
    "        # This line purpose is to show how the propagate worked\n",
    "        print(\"Received:\" ,inputs)\n",
    "        for input_ in inputs:\n",
    "            if input_ is not None:\n",
    "                # We got data back\n",
    "                if out is None:\n",
    "                    out = numpy.array(input_)\n",
    "                else:\n",
    "                    out = numpy.concatenate((out, numpy.array(input_)))\n",
    "        return out\n",
    "    \n",
    "    def __getitem_propagate__(self, key, input_index):\n",
    "        \"\"\"only implementing slices with positive numbers\"\"\"\n",
    "        start = key.start\n",
    "        if start is None:\n",
    "            start = 0\n",
    "        stop = key.stop\n",
    "        if stop is None:\n",
    "            stop = self.length\n",
    "        start = start - (input_index)*10\n",
    "        if start >= 10:\n",
    "            # we start passed this feature\n",
    "            # let's tell Kosh to not propagate\n",
    "            return None\n",
    "        elif start < 0:\n",
    "            start = 0\n",
    "        stop = stop - (input_index)*10\n",
    "        if stop < 0:\n",
    "            # we end before this starts\n",
    "            # let's tell kosh to not propagte\n",
    "            return None\n",
    "        elif stop > 10:\n",
    "            stop = 10\n",
    "        \n",
    "        # Ok there is some intersection\n",
    "        return slice(start, stop, key.step)\n",
    "\n",
    "VC = VirtualConcatenator(*[ds[\"range\"] for x in range(12)])\n",
    "\n",
    "all = VC[15:63]\n",
    "len(all)"
   ]
  },
  {
   "cell_type": "markdown",
   "metadata": {},
   "source": [
    "Lastly it is worth noting, that you can control the value sent to `operate` when you abort the propagation. The default as seen above is `None` but you can set `self.index_results[index_result]` to whatever value you want. For example here let's use an empy array"
   ]
  },
  {
   "cell_type": "code",
   "execution_count": 17,
   "metadata": {},
   "outputs": [
    {
     "name": "stdout",
     "output_type": "stream",
     "text": [
      "Received: (array([], dtype=float64), array([5., 6., 7., 8., 9.]), array([0., 1., 2., 3., 4., 5., 6., 7., 8., 9.]), array([0., 1., 2., 3., 4., 5., 6., 7., 8., 9.]), array([0., 1., 2., 3., 4., 5., 6., 7., 8., 9.]), array([0., 1., 2., 3., 4., 5., 6., 7., 8., 9.]), array([0., 1., 2.]), array([], dtype=float64), array([], dtype=float64), array([], dtype=float64), array([], dtype=float64), array([], dtype=float64))\n"
     ]
    },
    {
     "data": {
      "text/plain": [
       "48"
      ]
     },
     "execution_count": 17,
     "metadata": {},
     "output_type": "execute_result"
    }
   ],
   "source": [
    "class VirtualConcatenator(kosh.KoshOperator):\n",
    "    types = {\"numpy\":[\"numpy\",]}\n",
    "        \n",
    "    def __init__(self, *inputs, **kargs):\n",
    "        # Assume each input is 10 long\n",
    "        self.length=len(inputs) * 10\n",
    "        super(VirtualConcatenator, self).__init__(*inputs, **kargs)\n",
    "\n",
    "    def __len__(self):\n",
    "        return self.length\n",
    "\n",
    "    def operate(self, *inputs, **args):\n",
    "        out = numpy.array(inputs[0])\n",
    "        # This line purpose is to show how the propagate worked\n",
    "        print(\"Received:\" ,inputs)\n",
    "        for input_ in inputs[1:]:\n",
    "            out = numpy.concatenate((out, numpy.array(input_)))\n",
    "        return out\n",
    "    \n",
    "    def __getitem_propagate__(self, key, input_index):\n",
    "        \"\"\"only implementing slices with positive numbers\"\"\"\n",
    "        start = key.start\n",
    "        if start is None:\n",
    "            start = 0\n",
    "        stop = key.stop\n",
    "        if stop is None:\n",
    "            stop = self.length\n",
    "        start = start - (input_index)*10\n",
    "        if start >= 10:\n",
    "            # we start passed this feature\n",
    "            # let's tell Kosh to not propagate\n",
    "            # And return an empty array\n",
    "            self.index_results[input_index] = numpy.array([])\n",
    "            return None\n",
    "        elif start < 0:\n",
    "            start = 0\n",
    "        stop = stop - (input_index)*10\n",
    "        if stop < 0:\n",
    "            # we end before this starts\n",
    "            # let's tell kosh to not propagte\n",
    "            # And return an empty array\n",
    "            self.index_results[input_index] = numpy.array([])\n",
    "            return None\n",
    "        elif stop > 10:\n",
    "            stop = 10\n",
    "        \n",
    "        # Ok there is some intersection\n",
    "        return slice(start, stop, key.step)\n",
    "\n",
    "VC = VirtualConcatenator(*[ds[\"range\"] for x in range(12)])\n",
    "\n",
    "all = VC[15:63]\n",
    "len(all)"
   ]
  }
 ],
 "metadata": {
  "kernelspec": {
   "display_name": "Kosh Environment",
   "language": "python",
   "name": "kosh"
  },
  "language_info": {
   "codemirror_mode": {
    "name": "ipython",
    "version": 3
   },
   "file_extension": ".py",
   "mimetype": "text/x-python",
   "name": "python",
   "nbconvert_exporter": "python",
   "pygments_lexer": "ipython3",
   "version": "3.9.13"
  }
 },
 "nbformat": 4,
 "nbformat_minor": 4
}
